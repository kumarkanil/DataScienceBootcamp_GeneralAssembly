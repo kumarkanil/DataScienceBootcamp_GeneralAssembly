{
 "cells": [
  {
   "cell_type": "code",
   "execution_count": 2,
   "metadata": {
    "collapsed": false
   },
   "outputs": [
    {
     "ename": "ImportError",
     "evalue": "No module named pymc",
     "output_type": "error",
     "traceback": [
      "\u001b[1;31m---------------------------------------------------------------------------\u001b[0m",
      "\u001b[1;31mImportError\u001b[0m                               Traceback (most recent call last)",
      "\u001b[1;32m<ipython-input-2-70bd95104d11>\u001b[0m in \u001b[0;36m<module>\u001b[1;34m()\u001b[0m\n\u001b[0;32m      8\u001b[0m \u001b[1;33m\u001b[0m\u001b[0m\n\u001b[0;32m      9\u001b[0m \u001b[1;32mimport\u001b[0m \u001b[0mnumpy\u001b[0m \u001b[1;32mas\u001b[0m \u001b[0mnp\u001b[0m\u001b[1;33m\u001b[0m\u001b[0m\n\u001b[1;32m---> 10\u001b[1;33m \u001b[1;32mimport\u001b[0m \u001b[0mpymc\u001b[0m \u001b[1;32mas\u001b[0m \u001b[0mpm\u001b[0m\u001b[1;33m\u001b[0m\u001b[0m\n\u001b[0m\u001b[0;32m     11\u001b[0m \u001b[1;33m\u001b[0m\u001b[0m\n\u001b[0;32m     12\u001b[0m \u001b[1;32mimport\u001b[0m \u001b[0mmatplotlib\u001b[0m\u001b[1;33m.\u001b[0m\u001b[0mpyplot\u001b[0m \u001b[1;32mas\u001b[0m \u001b[0mplt\u001b[0m\u001b[1;33m\u001b[0m\u001b[0m\n",
      "\u001b[1;31mImportError\u001b[0m: No module named pymc"
     ]
    }
   ],
   "source": [
    "#!/usr/bin/env python\n",
    "\n",
    "'''\n",
    "GA Data Science Q2 2016\n",
    "\n",
    "Code walk-through 16: Bayesian change detection\n",
    "'''\n",
    "\n",
    "import numpy as np\n",
    "import pymc as pm\n",
    "\n",
    "import matplotlib.pyplot as plt\n",
    "\n",
    "%matplotlib inline"
   ]
  },
  {
   "cell_type": "code",
   "execution_count": null,
   "metadata": {
    "collapsed": true
   },
   "outputs": [],
   "source": [
    "# Generate some data from a Poisson distribution with a change point\n",
    "y = np.concatenate((\n",
    "    np.random.poisson(5, size=100),\n",
    "    np.random.poisson(10, size=200)\n",
    "))\n",
    "\n",
    "# Plot generated data\n",
    "plt.plot(y)"
   ]
  },
  {
   "cell_type": "code",
   "execution_count": null,
   "metadata": {
    "collapsed": true
   },
   "outputs": [],
   "source": [
    "# Define prior distributions \n",
    "# pick change point uniformly.\n",
    "# Guessing randomly where the change point is and then at some point it will get around change point\n",
    "# this will generate distribution around change point\n",
    "change_point = pm.DiscreteUniform('change_point', lower=1, upper=len(y) - 1)\n",
    "early_rate = pm.Exponential('early_rate', beta=1.0)\n",
    "late_rate = pm.Exponential('late_rate', beta=1.0)"
   ]
  },
  {
   "cell_type": "code",
   "execution_count": null,
   "metadata": {
    "collapsed": true
   },
   "outputs": [],
   "source": [
    "# Define (observed) stochastic variable for the number of arrivals (probabilistic)\n",
    "# mean changes from er to lr there is a structural break\n",
    "\n",
    "@pm.stochastic(observed=True, dtype=int)\n",
    "def arrivals(value=y, change_point=change_point,\\\n",
    "             early_rate=early_rate, late_rate=late_rate):\n",
    "    return pm.poisson_like(value[:change_point], early_rate) +\\\n",
    "           pm.poisson_like(value[change_point:], late_rate)"
   ]
  },
  {
   "cell_type": "code",
   "execution_count": null,
   "metadata": {
    "collapsed": true
   },
   "outputs": [],
   "source": [
    "#first estimate of where change point is, 254\n",
    "change_point.get_value()"
   ]
  },
  {
   "cell_type": "code",
   "execution_count": null,
   "metadata": {
    "collapsed": true
   },
   "outputs": [],
   "source": [
    "arrivals.get_logp() #probballity of this model being true given the data that has been generated is not hight (-4108)"
   ]
  },
  {
   "cell_type": "code",
   "execution_count": null,
   "metadata": {
    "collapsed": true
   },
   "outputs": [],
   "source": [
    "# Create model and sample\n",
    "# markov chain monte carlo\n",
    "model = pm.MCMC([change_point, early_rate, late_rate, arrivals])\n",
    "model.sample(iter=100000, burn=10000, thin=100)"
   ]
  },
  {
   "cell_type": "code",
   "execution_count": null,
   "metadata": {
    "collapsed": true
   },
   "outputs": [],
   "source": [
    "# Explore posterior summary statistics\n",
    "# trying to approximate location of change point by simulating different values of where the change point could be\n",
    "# at the beginning it will be very unstable but at some point we hope it converges towards the true value\n",
    "# we don't like the fact it is unstable at the start, we want to see where it starts converging (burn-in rate)\n",
    "# so above we will end up with 90000 points to build the distributionbecause we are ignoring 10000 (burn)\n",
    "# thinning is to prevent autocorrelation, take every 100th simulation, sample regulary and allow the simulation to forget where \n",
    "# it came from so that the series won't be autocorrelated.\n",
    "#\n",
    "model.stats()"
   ]
  },
  {
   "cell_type": "code",
   "execution_count": null,
   "metadata": {
    "collapsed": true
   },
   "outputs": [],
   "source": [
    "# we now know that the mean around the change point is estimated to be around 100\n",
    "# HPD = higher posterior Density\n",
    "# 95% interval that captures chnage point\n",
    "model.summary()"
   ]
  },
  {
   "cell_type": "code",
   "execution_count": null,
   "metadata": {
    "collapsed": true
   },
   "outputs": [],
   "source": [
    "# Plot traces and posterior densities\n",
    "# trace shws already converged around 100\n",
    "# chane_oint acorr we want no autocorrelation\n",
    "pm.Matplot.plot(model)"
   ]
  },
  {
   "cell_type": "code",
   "execution_count": null,
   "metadata": {
    "collapsed": true
   },
   "outputs": [],
   "source": [
    "# why is it that we want a distirbution for change point?\n",
    "# tells uncertainty around where it could be\n",
    "# e.g. brexit vote we can predict from 0-100% where we think the vote will be based on data\n",
    "# once you have distribution you can derive a number of properties e.g. probailities (area under the curve)"
   ]
  }
 ],
 "metadata": {
  "kernelspec": {
   "display_name": "Python 2",
   "language": "python",
   "name": "python2"
  },
  "language_info": {
   "codemirror_mode": {
    "name": "ipython",
    "version": 2
   },
   "file_extension": ".py",
   "mimetype": "text/x-python",
   "name": "python",
   "nbconvert_exporter": "python",
   "pygments_lexer": "ipython2",
   "version": "2.7.11"
  }
 },
 "nbformat": 4,
 "nbformat_minor": 0
}
