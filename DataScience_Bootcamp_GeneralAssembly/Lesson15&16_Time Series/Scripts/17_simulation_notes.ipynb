{
 "cells": [
  {
   "cell_type": "code",
   "execution_count": 1,
   "metadata": {
    "collapsed": true
   },
   "outputs": [],
   "source": [
    "#!/usr/bin/env python\n",
    "\n",
    "'''\n",
    "GA Data Science Q2 2016\n",
    "\n",
    "Code walk-through 17: Discrete event simulation\n",
    "'''\n",
    "\n",
    "import random\n",
    "\n",
    "import numpy as np\n",
    "import simpy\n",
    "\n",
    "import matplotlib.pyplot as plt\n",
    "\n",
    "%matplotlib inline"
   ]
  },
  {
   "cell_type": "code",
   "execution_count": null,
   "metadata": {
    "collapsed": true
   },
   "outputs": [],
   "source": [
    "# arrival->wachine machine(20m)->basket(1-3m)->dryer(10-15)"
   ]
  },
  {
   "cell_type": "code",
   "execution_count": 2,
   "metadata": {
    "collapsed": true
   },
   "outputs": [],
   "source": [
    "class Customer(object):\n",
    "    def __init__(self, env, washing_machines, dryers, baskets):\n",
    "        self.env = env\n",
    "        env.process(self.do_laundry(washing_machines, dryers, baskets))\n",
    "\n",
    "    def do_laundry(self, washing_machines, dryers, baskets):\n",
    "        # Save arrival time\n",
    "        self.arrival_time = self.env.now\n",
    "\n",
    "        # Request a washing machine\n",
    "        wm_req = washing_machines.request()\n",
    "        yield wm_req\n",
    "\n",
    "        # Save start time\n",
    "        self.start_time = self.env.now\n",
    "\n",
    "        # Wait 20 minutes (constant) for washing machine to finish\n",
    "        yield self.env.timeout(20)\n",
    "\n",
    "        # Request a basket\n",
    "        b_req = baskets.request()\n",
    "        yield b_req\n",
    "\n",
    "        # Take between 1 and 3 minutes to unload the washing machine, then\n",
    "        # release it (but keep the basket)\n",
    "        yield self.env.timeout(random.uniform(1, 3))\n",
    "        washing_machines.release(wm_req)\n",
    "\n",
    "        # Request a dryer\n",
    "        d_req = dryers.request()\n",
    "        yield d_req\n",
    "\n",
    "        # Take between 1 and 3 minutes to load the dryer, then release the\n",
    "        # basket (but keep the dryer)\n",
    "        self.env.timeout(random.uniform(1, 3))\n",
    "        baskets.release(b_req)\n",
    "\n",
    "        # Wait between 10 and 15 minutes for dryer to finish, then release it\n",
    "        yield self.env.timeout(random.uniform(10, 15))\n",
    "        dryers.release(d_req)\n",
    "\n",
    "        # Save end time\n",
    "        self.end_time = self.env.now\n",
    "\n",
    "    @property\n",
    "    def waiting_time(self):\n",
    "        return self.start_time - self.arrival_time\n",
    "\n",
    "    @property\n",
    "    def laundry_time(self):\n",
    "        return self.end_time - self.start_time\n",
    "\n",
    "class Launderette(object):\n",
    "    def __init__(self, n_washing_machines, n_dryers, n_baskets, n_customers):\n",
    "        self.env = simpy.Environment()\n",
    "        self.washing_machines = simpy.Resource(self.env,\\\n",
    "                                               capacity=n_washing_machines)\n",
    "        self.dryers = simpy.Resource(self.env, capacity=n_dryers)\n",
    "        self.baskets = simpy.Resource(self.env, capacity=n_baskets)\n",
    "        self.n_customers = n_customers\n",
    "        self.env.process(self.arrivals())\n",
    "        self.env.run()\n",
    "\n",
    "    def arrivals(self):\n",
    "        self.customers = []\n",
    "        while len(self.customers) < self.n_customers:\n",
    "            # Wait for next customer to arrive\n",
    "            yield self.env.timeout(random.expovariate(0.2))\n",
    "            self.customers.append(Customer(self.env, self.washing_machines,\\\n",
    "                                           self.dryers, self.baskets))\n",
    "\n",
    "    @property\n",
    "    def arrival_times(self):\n",
    "        return np.array([ c.arrival_time for c in self.customers ])\n",
    "\n",
    "    @property\n",
    "    def waiting_times(self):\n",
    "        return np.array([ c.waiting_time for c in self.customers ])\n",
    "\n",
    "    @property\n",
    "    def laundry_times(self):\n",
    "        return np.array([ c.laundry_time for c in self.customers ])\n",
    "\n",
    "# On average, a customer arrives every 5 minutes.\n",
    "# Whenever a customer arrives, they request a washing machine and queue if none\n",
    "# are available.\n",
    "# The washing cycle takes 20 minutes (constant).\n",
    "# At the end of the washing cycle, the customer requests a basket (queuing if\n",
    "# none are available) and unloads the washing machine; this takes between 1 and\n",
    "# 3 minutes (uniformly distributed).\n",
    "# With laundry in the basket, the customer requests a dryer (queueing if none\n",
    "# are available) and loads it; this also takes between 1 and 3 minutes\n",
    "# (uniformly distributed).\n",
    "# The drying cycle takes between 10 and 15 minutes (uniformly distributed).\n",
    "#\n",
    "# Questions:\n",
    "# 1) How long do customers have to queue for a washing machine when they arrive?\n",
    "# 2) How long does it take them to do laundry?"
   ]
  },
  {
   "cell_type": "code",
   "execution_count": 5,
   "metadata": {
    "collapsed": false
   },
   "outputs": [
    {
     "ename": "TypeError",
     "evalue": "'numpy.ndarray' object is not callable",
     "output_type": "error",
     "traceback": [
      "\u001b[1;31m---------------------------------------------------------------------------\u001b[0m",
      "\u001b[1;31mTypeError\u001b[0m                                 Traceback (most recent call last)",
      "\u001b[1;32m<ipython-input-5-a9ffcba13e55>\u001b[0m in \u001b[0;36m<module>\u001b[1;34m()\u001b[0m\n\u001b[0;32m      3\u001b[0m \u001b[1;33m\u001b[0m\u001b[0m\n\u001b[0;32m      4\u001b[0m \u001b[1;31m# Extract times\u001b[0m\u001b[1;33m\u001b[0m\u001b[1;33m\u001b[0m\u001b[0m\n\u001b[1;32m----> 5\u001b[1;33m \u001b[0mwt\u001b[0m \u001b[1;33m=\u001b[0m \u001b[0ml\u001b[0m\u001b[1;33m.\u001b[0m\u001b[0mwaiting_times\u001b[0m\u001b[1;33m(\u001b[0m\u001b[1;33m)\u001b[0m\u001b[1;33m\u001b[0m\u001b[0m\n\u001b[0m\u001b[0;32m      6\u001b[0m \u001b[0mlt\u001b[0m \u001b[1;33m=\u001b[0m \u001b[0ml\u001b[0m\u001b[1;33m.\u001b[0m\u001b[0mlaundry_times\u001b[0m\u001b[1;33m(\u001b[0m\u001b[1;33m)\u001b[0m\u001b[1;33m\u001b[0m\u001b[0m\n\u001b[0;32m      7\u001b[0m \u001b[1;33m\u001b[0m\u001b[0m\n",
      "\u001b[1;31mTypeError\u001b[0m: 'numpy.ndarray' object is not callable"
     ]
    }
   ],
   "source": [
    "# Simulate a launderette with 5 washing machines, 4 dryers, and 3 baskets\n",
    "l = Launderette(5, 4, 3, 1000)\n",
    "\n",
    "# Extract times\n",
    "wt = l.waiting_times()\n",
    "lt = l.laundry_times()\n",
    "\n",
    "# Plot times by customer\n",
    "plt.plot(l.waiting_times())\n",
    "plt.plot(l.laundry_times())"
   ]
  },
  {
   "cell_type": "code",
   "execution_count": null,
   "metadata": {
    "collapsed": true
   },
   "outputs": [],
   "source": [
    "# simulating drying times to see how it affects waiting times\n",
    "#sims = [Launderette(5, dryers, 3, 1000) for dryers in np.arange(1,11)]\n",
    "# [np.mean(s.waiting_times) for s in sims]"
   ]
  },
  {
   "cell_type": "code",
   "execution_count": null,
   "metadata": {
    "collapsed": true
   },
   "outputs": [],
   "source": [
    "# Mean waiting time\n",
    "np.mean(wt)"
   ]
  },
  {
   "cell_type": "code",
   "execution_count": null,
   "metadata": {
    "collapsed": true
   },
   "outputs": [],
   "source": [
    "# Percentage of customers who had to wait\n",
    "np.mean(wt > 0)"
   ]
  },
  {
   "cell_type": "code",
   "execution_count": null,
   "metadata": {
    "collapsed": true
   },
   "outputs": [],
   "source": [
    "# Mean waiting time among customers who had to wait\n",
    "np.mean(wt[wt > 0])"
   ]
  },
  {
   "cell_type": "code",
   "execution_count": null,
   "metadata": {
    "collapsed": true
   },
   "outputs": [],
   "source": [
    "# Mean laundry time\n",
    "np.mean(lt)"
   ]
  }
 ],
 "metadata": {
  "kernelspec": {
   "display_name": "Python 2",
   "language": "python",
   "name": "python2"
  },
  "language_info": {
   "codemirror_mode": {
    "name": "ipython",
    "version": 2
   },
   "file_extension": ".py",
   "mimetype": "text/x-python",
   "name": "python",
   "nbconvert_exporter": "python",
   "pygments_lexer": "ipython2",
   "version": "2.7.11"
  }
 },
 "nbformat": 4,
 "nbformat_minor": 0
}
