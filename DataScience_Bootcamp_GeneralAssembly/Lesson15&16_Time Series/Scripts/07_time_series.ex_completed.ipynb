{
 "cells": [
  {
   "cell_type": "code",
   "execution_count": 1,
   "metadata": {
    "collapsed": true
   },
   "outputs": [],
   "source": [
    "#!/usr/bin/env python\n",
    "\n",
    "'''\n",
    "GA Data Science Q2 2016\n",
    "\n",
    "In-class exercise 7: Time series\n",
    "'''\n",
    "\n",
    "import numpy as np\n",
    "import pandas as pd\n",
    "\n",
    "from sklearn import preprocessing, svm, cross_validation as cv, grid_search\n",
    "from sklearn.pipeline import Pipeline\n",
    "\n",
    "import matplotlib.pyplot as plt\n",
    "\n",
    "%matplotlib inline"
   ]
  },
  {
   "cell_type": "code",
   "execution_count": 3,
   "metadata": {
    "collapsed": true
   },
   "outputs": [],
   "source": [
    "CYCLE_HIRES_URL = 'https://files.datapress.com/london/dataset/number-bicycle-hires/2016-05-17T09:24:57/tfl-daily-cycle-hires.xls'\n",
    "\n",
    "# Load TfL Cycle Hire dataset\n",
    "hires = pd.read_excel(CYCLE_HIRES_URL, sheetname='Data')\n",
    "\n",
    "# Convert 'Day' to 'datetime' and set as index\n",
    "hires.Day = pd.to_datetime(hires.Day, unit='D')\n",
    "hires.set_index('Day', inplace=True)\n",
    "\n",
    "# Extract first column (daily hires) and convert to 'float'\n",
    "hires = hires.iloc[:,0].astype('float').to_frame('Hires')"
   ]
  },
  {
   "cell_type": "code",
   "execution_count": null,
   "metadata": {
    "collapsed": true
   },
   "outputs": [],
   "source": [
    "# Apply logarithmic transformation\n"
   ]
  },
  {
   "cell_type": "code",
   "execution_count": null,
   "metadata": {
    "collapsed": true
   },
   "outputs": [],
   "source": [
    "# Create 7 new variables representing the lagged time series at lag = 1, ..., 7\n",
    "\n",
    "# Create 2 new variables representing the smoothed time series\n",
    "# (rolling averages at 7 and 30 days)\n",
    "\n",
    "# Drop missing values\n",
    "\n",
    "# Define cross-validation split by leaving out 2016 as test set\n",
    "split = cv.PredefinedSplit(test_fold=(hires.index.year == 2016) - 1)\n",
    "\n",
    "# Create a pipeline that scales the data and trains a support vector regression\n",
    "# model\n",
    "\n",
    "# Fit the model\n",
    "\n",
    "# Compute MSE for split\n",
    "\n",
    "# Determine ‘optimal’ kernel and value of C by cross-validation\n",
    "\n",
    "# Plot original time series and prediction from January 2015 onwards\n",
    "\n"
   ]
  }
 ],
 "metadata": {
  "kernelspec": {
   "display_name": "Python 2",
   "language": "python",
   "name": "python2"
  },
  "language_info": {
   "codemirror_mode": {
    "name": "ipython",
    "version": 2
   },
   "file_extension": ".py",
   "mimetype": "text/x-python",
   "name": "python",
   "nbconvert_exporter": "python",
   "pygments_lexer": "ipython2",
   "version": "2.7.11"
  }
 },
 "nbformat": 4,
 "nbformat_minor": 0
}
