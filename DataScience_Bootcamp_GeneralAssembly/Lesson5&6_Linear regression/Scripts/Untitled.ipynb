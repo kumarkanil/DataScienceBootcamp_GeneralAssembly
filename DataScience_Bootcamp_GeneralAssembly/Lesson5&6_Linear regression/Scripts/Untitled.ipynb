{
 "cells": [
  {
   "cell_type": "code",
   "execution_count": 2,
   "metadata": {
    "collapsed": false
   },
   "outputs": [],
   "source": [
    "#!/usr/bin/env python\n",
    "\n",
    "'''\n",
    "GA Data Science Q2 2016\n",
    "\n",
    "Code walk-through 5: Linear regression using scikit-learn\n",
    "\n",
    "* Linear regression\n",
    "* Cross-validation\n",
    "* Regularisation:\n",
    "  - L1 penalty (LASSO)\n",
    "  - L2 penalty (Ridge)\n",
    "  - Elastic Net\n",
    "'''\n",
    "\n",
    "import os\n",
    "\n",
    "import numpy as np\n",
    "import pandas as pd\n",
    "\n",
    "from sklearn import linear_model as lm\n",
    "from sklearn import metrics\n",
    "from sklearn import cross_validation as cv\n",
    "from sklearn import grid_search\n",
    "\n",
    "import matplotlib.pyplot as plt\n",
    "\n",
    "%matplotlib inline"
   ]
  },
  {
   "cell_type": "code",
   "execution_count": 5,
   "metadata": {
    "collapsed": false
   },
   "outputs": [],
   "source": [
    "# Read in the National Child Development Study data\n",
    "ncds = pd.read_csv(r'..\\..\\Data\\ncds.csv')\n",
    "\n",
    "# Define predictors and response\n",
    "predictors = ['n920', 'n923', 'n926', 'n851', 'n852']\n",
    "response = 'earngsn'\n",
    "\n",
    "all_vars = predictors + [response]\n",
    "\n",
    "# Recode missing values\n",
    "ncds.where(ncds[all_vars] > 0, inplace=True)\n",
    "\n",
    "# Remove missing values\n",
    "ncds.dropna(subset=all_vars, inplace=True)"
   ]
  },
  {
   "cell_type": "code",
   "execution_count": 6,
   "metadata": {
    "collapsed": false
   },
   "outputs": [
    {
     "data": {
      "text/plain": [
       "LinearRegression(copy_X=True, fit_intercept=True, n_jobs=1, normalize=False)"
      ]
     },
     "execution_count": 6,
     "metadata": {},
     "output_type": "execute_result"
    }
   ],
   "source": [
    "'''\n",
    "Linear regression\n",
    "'''\n",
    "\n",
    "# Prepare data\n",
    "test_scores = ['n920', 'n923', 'n926']\n",
    "X = ncds[test_scores]\n",
    "y = ncds[response]\n",
    "\n",
    "# Fit the model\n",
    "model1 = lm.LinearRegression()\n",
    "model1.fit(X, y)"
   ]
  },
  {
   "cell_type": "code",
   "execution_count": 9,
   "metadata": {
    "collapsed": false
   },
   "outputs": [
    {
     "data": {
      "text/plain": [
       "[('n920', -0.19566718481399964),\n",
       " ('n923', 0.30968450087465266),\n",
       " ('n926', 0.37659598176545095),\n",
       " ('n851_1', 5.5221054569127643),\n",
       " ('n851_2', 0.8025873514195796),\n",
       " ('n851_4', -1.8329396497029815),\n",
       " ('n851_5', -2.1156635729003792),\n",
       " ('n852_1', -1.0562685293873795),\n",
       " ('n852_2', -1.8590128537519477),\n",
       " ('n852_4', 2.5263989304738352),\n",
       " ('n852_5', 1.9146200760789165)]"
      ]
     },
     "execution_count": 9,
     "metadata": {},
     "output_type": "execute_result"
    }
   ],
   "source": [
    "# Print regression coefficients\n",
    "model1.intercept_\n",
    "model1.coef_\n",
    "\n",
    "# Compute the prediction for [45, 20, 20] using `predict`\n",
    "model1.predict(new_sample)\n",
    "\n",
    "# Create dummy variables for n851 and n852\n",
    "# (As an alternative to `dmatrices`; see previous code walk-through)\n",
    "n851_dummies = pd.get_dummies(ncds.n851.astype('int'), prefix='n851')\n",
    "n852_dummies = pd.get_dummies(ncds.n852.astype('int'), prefix='n852')\n",
    "\n",
    "# 'Some interest' used as reference: drop the third column\n",
    "n851_dummies.drop(n851_dummies.columns[2], axis=1, inplace=True)\n",
    "n852_dummies.drop(n852_dummies.columns[2], axis=1, inplace=True)\n",
    "\n",
    "# Concatenate the original DataFrame with the dummies\n",
    "ncds = pd.concat([ncds, n851_dummies, n852_dummies], axis=1)\n",
    "\n",
    "# Include dummy variables in the model\n",
    "predictors = test_scores +\\\n",
    "             n851_dummies.columns.tolist() +\\\n",
    "             n852_dummies.columns.tolist()\n",
    "\n",
    "# Fit the model\n",
    "model2 = lm.LinearRegression()\n",
    "model2.fit(ncds[predictors], ncds[response])\n",
    "\n",
    "# Print regression coefficients\n",
    "model2.intercept_\n",
    "model2.coef_\n",
    "\n",
    "# Pair variable names and coefficients\n",
    "list(zip(predictors, model2.coef_))"
   ]
  },
  {
   "cell_type": "code",
   "execution_count": 11,
   "metadata": {
    "collapsed": false
   },
   "outputs": [
    {
     "data": {
      "text/plain": [
       "871.79733616183307"
      ]
     },
     "execution_count": 11,
     "metadata": {},
     "output_type": "execute_result"
    }
   ],
   "source": [
    "'''\n",
    "Cross-validation\n",
    "'''\n",
    "\n",
    "# Define 10 folds\n",
    "kf = cv.KFold(len(ncds), n_folds=10, shuffle=True)\n",
    "\n",
    "# Compute MSEs (one per fold)\n",
    "mses = []\n",
    "for train_idx, test_idx in kf:\n",
    "    model = lm.LinearRegression()\n",
    "    model.fit(ncds[predictors].iloc[train_idx], ncds[response].iloc[train_idx])\n",
    "    mses.append(metrics.mean_squared_error(\n",
    "        ncds[response].iloc[test_idx],\n",
    "        model.predict(ncds[predictors].iloc[test_idx])\n",
    "    ))\n",
    "    \n",
    "# Compute average MSE across folds\n",
    "np.mean(mses)"
   ]
  },
  {
   "cell_type": "code",
   "execution_count": 13,
   "metadata": {
    "collapsed": true
   },
   "outputs": [],
   "source": [
    "# Alternatively, using `cross_val_score`…\n",
    "mses = cv.cross_val_score(lm.LinearRegression(),\\\n",
    "                          ncds[predictors], ncds[response],\\\n",
    "                          scoring='mean_squared_error', cv=10)\n",
    "\n",
    "(-cv_mse).mean()"
   ]
  },
  {
   "cell_type": "code",
   "execution_count": 15,
   "metadata": {
    "collapsed": false
   },
   "outputs": [
    {
     "data": {
      "text/plain": [
       "[('n920', -0.16259362021694598),\n",
       " ('n923', 0.23579640179879349),\n",
       " ('n926', 0.34455314317706615),\n",
       " ('n851_1', 0.0),\n",
       " ('n851_2', -0.0),\n",
       " ('n851_4', 0.0),\n",
       " ('n851_5', -0.0),\n",
       " ('n852_1', 0.0),\n",
       " ('n852_2', -0.0),\n",
       " ('n852_4', 0.0),\n",
       " ('n852_5', 0.0)]"
      ]
     },
     "execution_count": 15,
     "metadata": {},
     "output_type": "execute_result"
    }
   ],
   "source": [
    "'''\n",
    "Regularisation: L1 penalty (LASSO)\n",
    "'''\n",
    "\n",
    "# Fit the model (by default, alpha = 1)\n",
    "model2_lasso = lm.Lasso().fit(ncds[predictors], ncds[response])\n",
    "\n",
    "# Print regression coefficients\n",
    "model2_lasso.intercept_\n",
    "list(zip(predictors, model2_lasso.coef_))"
   ]
  },
  {
   "cell_type": "code",
   "execution_count": null,
   "metadata": {
    "collapsed": true
   },
   "outputs": [],
   "source": []
  },
  {
   "cell_type": "code",
   "execution_count": 16,
   "metadata": {
    "collapsed": false
   },
   "outputs": [
    {
     "data": {
      "text/plain": [
       "<matplotlib.lines.Line2D at 0x9097668>"
      ]
     },
     "execution_count": 16,
     "metadata": {},
     "output_type": "execute_result"
    },
    {
     "data": {
      "image/png": "[encoded data removed]",
      "text/plain": [
       "<matplotlib.figure.Figure at 0x9289198>"
      ]
     },
     "metadata": {},
     "output_type": "display_data"
    }
   ],
   "source": [
    "# Compute MSE\n",
    "metrics.mean_squared_error(ncds[response], model2_lasso.predict(ncds[predictors]))\n",
    "\n",
    "# Determine ‘optimal’ value of alpha using grid search with cross-validation\n",
    "gs = grid_search.GridSearchCV(estimator=lm.Lasso(),\\\n",
    "                              param_grid={'alpha': np.logspace(-10, 10, 21)},\\\n",
    "                              cv=kf,\n",
    "                              scoring='mean_squared_error')\n",
    "\n",
    "gs.fit(ncds[predictors], ncds[response])\n",
    "\n",
    "# ‘Best’ MSE (fixing the sign again)\n",
    "-gs.best_score_\n",
    "\n",
    "# ‘Best’ model (includes value of alpha)\n",
    "gs.best_estimator_\n",
    "\n",
    "# All grid configurations and corresponding performances\n",
    "gs.grid_scores_\n",
    "\n",
    "# Alternatively, using `LassoCV`…\n",
    "model2_lasso = lm.LassoCV(cv=kf).fit(ncds[predictors], ncds[response])\n",
    "\n",
    "# Plot (average) MSE across folds versus alpha\n",
    "nlog_alphas = -np.log10(model2_lasso.alphas_)\n",
    "plt.figure()\n",
    "plt.plot(nlog_alphas, model2_lasso.mse_path_, ':')\n",
    "plt.plot(nlog_alphas, model2_lasso.mse_path_.mean(axis=-1), linewidth=2, color='k')\n",
    "plt.axvline(-np.log10(model2_lasso.alpha_), linestyle='--', color='k')"
   ]
  },
  {
   "cell_type": "code",
   "execution_count": null,
   "metadata": {
    "collapsed": true
   },
   "outputs": [],
   "source": [
    "\n",
    "'''\n",
    "Regularisation: L2 penalty (Ridge)\n",
    "'''\n",
    "\n",
    "# Fit the model (by default, alpha = 1)\n",
    "model2_ridge = lm.Ridge().fit(ncds[predictors], ncds[response])\n",
    "\n",
    "# Print regression coefficients\n",
    "model2_ridge.intercept_\n",
    "list(zip(predictors, model2_ridge.coef_))\n",
    "\n",
    "# Compute MSE\n",
    "metrics.mean_squared_error(ncds[response], model2_ridge.predict(ncds[predictors]))\n",
    "\n",
    "# Determine ‘optimal’ value of alpha using grid search with cross-validation\n",
    "gs = grid_search.GridSearchCV(estimator=lm.Ridge(),\\\n",
    "                              param_grid={'alpha': np.logspace(-10, 10, 21)},\\\n",
    "                              cv=kf,\n",
    "                              scoring='mean_squared_error')\n",
    "\n",
    "gs.fit(ncds[predictors], ncds[response])\n",
    "\n",
    "# ‘Best’ MSE (fixing the sign again)\n",
    "-gs.best_score_\n",
    "\n",
    "# ‘Best’ model (includes value of alpha)\n",
    "gs.best_estimator_\n",
    "\n",
    "# All grid configurations and corresponding performances\n",
    "gs.grid_scores_\n",
    "\n"
   ]
  },
  {
   "cell_type": "code",
   "execution_count": null,
   "metadata": {
    "collapsed": true
   },
   "outputs": [],
   "source": []
  },
  {
   "cell_type": "code",
   "execution_count": null,
   "metadata": {
    "collapsed": true
   },
   "outputs": [],
   "source": []
  }
 ],
 "metadata": {
  "kernelspec": {
   "display_name": "Python 3",
   "language": "python",
   "name": "python3"
  },
  "language_info": {
   "codemirror_mode": {
    "name": "ipython",
    "version": 3
   },
   "file_extension": ".py",
   "mimetype": "text/x-python",
   "name": "python",
   "nbconvert_exporter": "python",
   "pygments_lexer": "ipython3",
   "version": "3.5.1"
  }
 },
 "nbformat": 4,
 "nbformat_minor": 0
}
