{
 "cells": [
  {
   "cell_type": "code",
   "execution_count": 1,
   "metadata": {
    "collapsed": true
   },
   "outputs": [],
   "source": [
    "#!/usr/bin/env python\n",
    "\n",
    "'''\n",
    "GA Data Science Q2 2016\n",
    "\n",
    "Code walk-through 10: Decision trees and random forests\n",
    "\n",
    "* Decision trees\n",
    "* Random forests\n",
    "'''\n",
    "\n",
    "import numpy as np\n",
    "import pandas as pd\n",
    "\n",
    "from sklearn import cross_validation as cv, tree, ensemble\n",
    "\n",
    "REDS_URL = 'http://archive.ics.uci.edu/ml/machine-learning-databases/wine-quality/winequality-red.csv'\n",
    "\n",
    "WHITES_URL = 'http://archive.ics.uci.edu/ml/machine-learning-databases/wine-quality/winequality-white.csv'"
   ]
  },
  {
   "cell_type": "code",
   "execution_count": 4,
   "metadata": {
    "collapsed": false
   },
   "outputs": [],
   "source": [
    "# Read in the Wine Quality datasets\n",
    "reds = pd.read_csv('../../Data/winequality_red.csv', sep=';')\n",
    "whites = pd.read_csv('../../Data/winequality_white.csv', sep=';')"
   ]
  },
  {
   "cell_type": "code",
   "execution_count": null,
   "metadata": {
    "collapsed": true
   },
   "outputs": [],
   "source": [
    "# Add a new indicator variable for the type of wine\n",
    "reds['red'] = 1\n",
    "whites['red'] = 0\n",
    "\n",
    "# Merge the two datasets\n",
    "wines = pd.concat([reds, whites], axis=0)\n",
    "\n",
    "# Define a new indicator variable for ‘excellent’ wines (quality score ≥ 8)\n",
    "wines['excellent'] = wines.quality >= 8\n",
    "\n",
    "# Prepare the data for use in scikit-learn\n",
    "X = wines.drop(['quality', 'excellent'], axis=1)\n",
    "y = wines.excellent.astype('int')"
   ]
  },
  {
   "cell_type": "code",
   "execution_count": null,
   "metadata": {
    "collapsed": true
   },
   "outputs": [],
   "source": [
    "'''\n",
    "Decision trees\n",
    "'''\n",
    "\n",
    "# Train a decision tree\n",
    "tree1 = tree.DecisionTreeClassifier()\n",
    "tree1.fit(X, y)\n",
    "\n",
    "# Export the tree for plotting\n",
    "tree.export_graphviz(tree1, 'tree1.dot', feature_names=X.columns)"
   ]
  },
  {
   "cell_type": "code",
   "execution_count": null,
   "metadata": {
    "collapsed": true
   },
   "outputs": [],
   "source": [
    "# If you have Graphviz (http://www.graphviz.org) installed, run:\n",
    "#     dot -Tpng tree1.dot -o tree1.png\n",
    "# Alternatively, use WebGraphviz at http://www.webgraphviz.com/"
   ]
  },
  {
   "cell_type": "code",
   "execution_count": null,
   "metadata": {
    "collapsed": true
   },
   "outputs": [],
   "source": [
    "# Define stratified folds for cross-validation\n",
    "kf = cv.StratifiedKFold(y, n_folds=10, shuffle=True)\n",
    "\n",
    "# Compute average AUC across folds\n",
    "aucs = cv.cross_val_score(tree.DecisionTreeClassifier(),\\\n",
    "                          X, y, scoring='roc_auc', cv=kf)\n",
    "np.mean(aucs)"
   ]
  },
  {
   "cell_type": "code",
   "execution_count": null,
   "metadata": {
    "collapsed": true
   },
   "outputs": [],
   "source": [
    "# Train a decision tree by limiting:\n",
    "# * the maximum number of questions (depth)\n",
    "# * the minimum number of samples in each leaf\n",
    "tree2 = tree.DecisionTreeClassifier(max_depth=2, min_samples_leaf=50)\n",
    "tree2.fit(X, y)"
   ]
  },
  {
   "cell_type": "code",
   "execution_count": null,
   "metadata": {
    "collapsed": true
   },
   "outputs": [],
   "source": [
    "# Export the tree for plotting\n",
    "tree.export_graphviz(tree2, 'tree2.dot', feature_names=X.columns)"
   ]
  },
  {
   "cell_type": "code",
   "execution_count": null,
   "metadata": {
    "collapsed": true
   },
   "outputs": [],
   "source": [
    "# Investigate importances of predictors (the higher, the more important)\n",
    "tree2.feature_importances_"
   ]
  },
  {
   "cell_type": "code",
   "execution_count": null,
   "metadata": {
    "collapsed": true
   },
   "outputs": [],
   "source": [
    "'''\n",
    "Random forests\n",
    "'''\n",
    "\n",
    "# Train a random forest with 20 decision trees\n",
    "rf1 = ensemble.RandomForestClassifier(n_estimators=20)\n",
    "rf1.fit(X, y)"
   ]
  },
  {
   "cell_type": "code",
   "execution_count": null,
   "metadata": {
    "collapsed": true
   },
   "outputs": [],
   "source": [
    "# Investigate importances of predictors (the higher, the more important)\n",
    "rf1.feature_importances_"
   ]
  },
  {
   "cell_type": "code",
   "execution_count": null,
   "metadata": {
    "collapsed": true
   },
   "outputs": [],
   "source": [
    "# Evaluate performance through cross-validation\n",
    "aucs = cv.cross_val_score(ensemble.RandomForestClassifier(n_estimators=20),\\\n",
    "                          X, y, scoring='roc_auc', cv=kf)\n",
    "np.mean(aucs)"
   ]
  },
  {
   "cell_type": "code",
   "execution_count": null,
   "metadata": {
    "collapsed": true
   },
   "outputs": [],
   "source": [
    "# What happens when we increase the number of trees?\n",
    "for n_trees in [2, 5, 10, 20, 50, 100]:\n",
    "    aucs = cv.cross_val_score(\n",
    "        ensemble.RandomForestClassifier(n_estimators=n_trees), X, y,\\\n",
    "        scoring='roc_auc', cv=kf)\n",
    "    print('{:>3} trees: mean AUC {:.2%}'.format(n_trees, np.mean(aucs)))"
   ]
  }
 ],
 "metadata": {
  "kernelspec": {
   "display_name": "Python 3",
   "language": "python",
   "name": "python3"
  },
  "language_info": {
   "codemirror_mode": {
    "name": "ipython",
    "version": 3
   },
   "file_extension": ".py",
   "mimetype": "text/x-python",
   "name": "python",
   "nbconvert_exporter": "python",
   "pygments_lexer": "ipython3",
   "version": "3.5.1"
  }
 },
 "nbformat": 4,
 "nbformat_minor": 0
}
