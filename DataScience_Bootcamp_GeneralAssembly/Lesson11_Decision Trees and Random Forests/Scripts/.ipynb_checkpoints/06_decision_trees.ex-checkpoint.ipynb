{
 "cells": [
  {
   "cell_type": "code",
   "execution_count": 40,
   "metadata": {
    "collapsed": true
   },
   "outputs": [],
   "source": [
    "#!/usr/bin/env python\n",
    "\n",
    "'''\n",
    "GA Data Science Q2 2016\n",
    "\n",
    "In-class exercise 6: Decision trees and random forests\n",
    "'''\n",
    "\n",
    "import numpy as np\n",
    "import pandas as pd\n",
    "\n",
    "from sklearn import cross_validation as cv, tree, ensemble, grid_search"
   ]
  },
  {
   "cell_type": "code",
   "execution_count": 3,
   "metadata": {
    "collapsed": false
   },
   "outputs": [],
   "source": [
    "# Read in the Wine Quality datasets\n",
    "reds = pd.read_csv('../../Data/winequality_red.csv', sep=';')\n",
    "whites = pd.read_csv('../../Data/winequality_white.csv', sep=';')\n",
    "\n",
    "# Add a new indicator variable for the type of wine\n",
    "reds['red'] = 1\n",
    "whites['red'] = 0\n",
    "\n",
    "# Merge the two datasets\n",
    "wines = pd.concat([reds, whites], axis=0)\n",
    "\n",
    "# Prepare the data for use in scikit-learn\n",
    "X = wines.drop('quality', axis=1)\n",
    "y = wines.quality"
   ]
  },
  {
   "cell_type": "code",
   "execution_count": null,
   "metadata": {
    "collapsed": true
   },
   "outputs": [],
   "source": [
    "# Add a new indicator variable for the type of wine\n",
    "reds['red'] = 1\n",
    "whites['red'] = 0\n",
    "\n",
    "# Merge the two datasets\n",
    "wines = pd.concat([reds, whites], axis=0)\n",
    "\n",
    "# Prepare the data for use in scikit-learn\n",
    "X = wines.drop('quality', axis=1)\n",
    "y = wines.quality"
   ]
  },
  {
   "cell_type": "code",
   "execution_count": 7,
   "metadata": {
    "collapsed": false
   },
   "outputs": [],
   "source": [
    "# Train a decision tree by limiting the depth to 3, and the minimum number of\n",
    "# samples per leaf to 50\n",
    "#?tree.DecisionTreeRegressor\n",
    "tree_model1 = tree.DecisionTreeRegressor(max_depth=3, min_samples_leaf=50)"
   ]
  },
  {
   "cell_type": "code",
   "execution_count": 8,
   "metadata": {
    "collapsed": false
   },
   "outputs": [
    {
     "data": {
      "text/plain": [
       "DecisionTreeRegressor(criterion='mse', max_depth=3, max_features=None,\n",
       "           max_leaf_nodes=None, min_samples_leaf=50, min_samples_split=2,\n",
       "           min_weight_fraction_leaf=0.0, presort=False, random_state=None,\n",
       "           splitter='best')"
      ]
     },
     "execution_count": 8,
     "metadata": {},
     "output_type": "execute_result"
    }
   ],
   "source": [
    "tree_model1.fit(X, y)"
   ]
  },
  {
   "cell_type": "code",
   "execution_count": 11,
   "metadata": {
    "collapsed": false
   },
   "outputs": [],
   "source": [
    "# Export the tree for plotting\n",
    "# ?tree.export_graphviz\n",
    "tree.export_graphviz(tree_model1, 'tree_model1.dot', feature_names=X.columns)"
   ]
  },
  {
   "cell_type": "code",
   "execution_count": 14,
   "metadata": {
    "collapsed": false
   },
   "outputs": [],
   "source": [
    "# Define folds for cross-validation\n",
    "kf = cv.StratifiedKFold(y, n_folds=5, shuffle=True)"
   ]
  },
  {
   "cell_type": "code",
   "execution_count": 25,
   "metadata": {
    "collapsed": false
   },
   "outputs": [],
   "source": [
    "# Compute average MSE across folds\n",
    "mses = cv.cross_val_score(tree.DecisionTreeRegressor(max_depth=3, min_samples_leaf=50), X, y, scoring='mean_squared_error', cv=kf)"
   ]
  },
  {
   "cell_type": "code",
   "execution_count": 32,
   "metadata": {
    "collapsed": false
   },
   "outputs": [
    {
     "data": {
      "text/plain": [
       "0.56562282509270223"
      ]
     },
     "execution_count": 32,
     "metadata": {},
     "output_type": "execute_result"
    }
   ],
   "source": [
    "np.mean(-mses)"
   ]
  },
  {
   "cell_type": "code",
   "execution_count": 27,
   "metadata": {
    "collapsed": false
   },
   "outputs": [
    {
     "data": {
      "text/plain": [
       "DecisionTreeRegressor(criterion='mse', max_depth=20, max_features=None,\n",
       "           max_leaf_nodes=None, min_samples_leaf=1, min_samples_split=2,\n",
       "           min_weight_fraction_leaf=0.0, presort=False, random_state=None,\n",
       "           splitter='best')"
      ]
     },
     "execution_count": 27,
     "metadata": {},
     "output_type": "execute_result"
    }
   ],
   "source": [
    "# Train a random forest with 20 decision trees\n",
    "tree_model2 = tree.DecisionTreeRegressor(max_depth=20)\n",
    "tree_model2.fit(X, y)"
   ]
  },
  {
   "cell_type": "code",
   "execution_count": 36,
   "metadata": {
    "collapsed": false
   },
   "outputs": [
    {
     "data": {
      "text/plain": [
       "[('fixed acidity', 0.058134382543316966),\n",
       " ('volatile acidity', 0.12897943267631351),\n",
       " ('citric acid', 0.060383019329787749),\n",
       " ('residual sugar', 0.065243126703735332),\n",
       " ('chlorides', 0.077587730591648557),\n",
       " ('free sulfur dioxide', 0.088648008456396879),\n",
       " ('total sulfur dioxide', 0.059052515364875428),\n",
       " ('density', 0.055496417348183238),\n",
       " ('pH', 0.072896383741247864),\n",
       " ('sulphates', 0.07888342677771909),\n",
       " ('alcohol', 0.25364283369264423),\n",
       " ('red', 0.0010527227741311278)]"
      ]
     },
     "execution_count": 36,
     "metadata": {},
     "output_type": "execute_result"
    }
   ],
   "source": [
    "# Investigate importances of predictors\n",
    "list(zip(X.columns, tree_model2.feature_importances_))"
   ]
  },
  {
   "cell_type": "code",
   "execution_count": 31,
   "metadata": {
    "collapsed": false
   },
   "outputs": [
    {
     "data": {
      "text/plain": [
       "0.6836666253378918"
      ]
     },
     "execution_count": 31,
     "metadata": {},
     "output_type": "execute_result"
    }
   ],
   "source": [
    "# Evaluate performance through cross-validation\n",
    "mses2 = cv.cross_val_score(tree.DecisionTreeRegressor(max_depth=20), X, y, scoring='mean_squared_error', cv=kf)\n",
    "np.mean(-mses2)"
   ]
  },
  {
   "cell_type": "code",
   "execution_count": 34,
   "metadata": {
    "collapsed": false
   },
   "outputs": [
    {
     "data": {
      "text/plain": [
       "0.67781791755841558"
      ]
     },
     "execution_count": 34,
     "metadata": {},
     "output_type": "execute_result"
    }
   ],
   "source": [
    "# What happens when you increase the number of trees to 50?\n",
    "mses3 = cv.cross_val_score(tree.DecisionTreeRegressor(max_depth=50), X, y, scoring='mean_squared_error', cv=kf)\n",
    "np.mean(-mses3)"
   ]
  },
  {
   "cell_type": "code",
   "execution_count": 41,
   "metadata": {
    "collapsed": false
   },
   "outputs": [],
   "source": [
    "gs = grid_search.GridSearchCV(estimator=tree.DecisionTreeRegressor(),\\\n",
    "                              param_grid={'max_depth': np.arange(2, 100)},\\\n",
    "                              scoring='mean_squared_error',\\\n",
    "                              cv=kf)"
   ]
  },
  {
   "cell_type": "code",
   "execution_count": 43,
   "metadata": {
    "collapsed": false
   },
   "outputs": [
    {
     "data": {
      "text/plain": [
       "GridSearchCV(cv=sklearn.cross_validation.StratifiedKFold(labels=[5 5 ..., 7 6], n_folds=5, shuffle=True, random_state=None),\n",
       "       error_score='raise',\n",
       "       estimator=DecisionTreeRegressor(criterion='mse', max_depth=None, max_features=None,\n",
       "           max_leaf_nodes=None, min_samples_leaf=1, min_samples_split=2,\n",
       "           min_weight_fraction_leaf=0.0, presort=False, random_state=None,\n",
       "           splitter='best'),\n",
       "       fit_params={}, iid=True, n_jobs=1,\n",
       "       param_grid={'max_depth': array([ 2,  3, ..., 98, 99])},\n",
       "       pre_dispatch='2*n_jobs', refit=True, scoring='mean_squared_error',\n",
       "       verbose=0)"
      ]
     },
     "execution_count": 43,
     "metadata": {},
     "output_type": "execute_result"
    }
   ],
   "source": [
    "gs.fit(X, y)"
   ]
  },
  {
   "cell_type": "code",
   "execution_count": 44,
   "metadata": {
    "collapsed": false
   },
   "outputs": [
    {
     "data": {
      "text/plain": [
       "DecisionTreeRegressor(criterion='mse', max_depth=6, max_features=None,\n",
       "           max_leaf_nodes=None, min_samples_leaf=1, min_samples_split=2,\n",
       "           min_weight_fraction_leaf=0.0, presort=False, random_state=None,\n",
       "           splitter='best')"
      ]
     },
     "execution_count": 44,
     "metadata": {},
     "output_type": "execute_result"
    }
   ],
   "source": [
    "gs.best_estimator_"
   ]
  },
  {
   "cell_type": "code",
   "execution_count": 45,
   "metadata": {
    "collapsed": false
   },
   "outputs": [
    {
     "data": {
      "text/plain": [
       "-0.53994722696025499"
      ]
     },
     "execution_count": 45,
     "metadata": {},
     "output_type": "execute_result"
    }
   ],
   "source": [
    "gs.best_score_"
   ]
  }
 ],
 "metadata": {
  "kernelspec": {
   "display_name": "Python 3",
   "language": "python",
   "name": "python3"
  },
  "language_info": {
   "codemirror_mode": {
    "name": "ipython",
    "version": 3
   },
   "file_extension": ".py",
   "mimetype": "text/x-python",
   "name": "python",
   "nbconvert_exporter": "python",
   "pygments_lexer": "ipython3",
   "version": "3.5.1"
  }
 },
 "nbformat": 4,
 "nbformat_minor": 0
}
