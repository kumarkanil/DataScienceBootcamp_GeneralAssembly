{
 "cells": [
  {
   "cell_type": "code",
   "execution_count": 1,
   "metadata": {
    "collapsed": true
   },
   "outputs": [],
   "source": [
    "import os\n",
    "import numpy as np\n",
    "import pandas as pd"
   ]
  },
  {
   "cell_type": "code",
   "execution_count": 3,
   "metadata": {
    "collapsed": false
   },
   "outputs": [],
   "source": [
    "os.chdir('D:\\\\Users\\\\SHILAU\\\\Desktop\\\\Data Science Bootcamp\\\\Data')"
   ]
  },
  {
   "cell_type": "markdown",
   "metadata": {},
   "source": [
    "# Exercise 1"
   ]
  },
  {
   "cell_type": "code",
   "execution_count": 118,
   "metadata": {
    "collapsed": true
   },
   "outputs": [
    {
     "data": {
      "text/plain": [
       "2.0    52\n",
       "1.0    38\n",
       "5.0    35\n",
       "Name: Countrygp, dtype: int64"
      ]
     },
     "execution_count": 118,
     "metadata": {},
     "output_type": "execute_result"
    }
   ],
   "source": [
    "# Read in the World Bank World Development Indicators data from `wbwdi.csv`\n",
    "# into a DataFrame called `wbwdi`\n",
    "wbwdi = pd.read_csv('wbwdi.csv', header = 0)\n",
    "\n",
    "# Print the ‘head’ and ‘tail’\n",
    "wbwdi.head()\n",
    "wbwdi.tail()\n",
    "# Examine the row names (index), data types, and shape\n",
    "wbwdi.index\n",
    "wbwdi.dtypes\n",
    "wbwdi.shape\n",
    "# Print the 'LIFEXP' Series\n",
    "wbwdi['LIFEXP']\n",
    "# Calculate the mean 'LIFEXP' for the entire dataset\n",
    "wbwdi['LIFEXP'].mean()\n",
    "# Count the number of occurrences of each 'Countrygp'\n",
    "wbwdi['Countrygp'].value_counts()\n",
    "# BONUS: Display only the number of rows of `wbwdi`\n",
    "len(wbwdi)\n",
    "# BONUS: Display the 3 most frequent values of 'Countrygp'\n",
    "wbwdi['Countrygp'].value_counts().nlargest(3)"
   ]
  },
  {
   "cell_type": "markdown",
   "metadata": {
    "collapsed": false
   },
   "source": [
    "# Exercise 2"
   ]
  },
  {
   "cell_type": "code",
   "execution_count": null,
   "metadata": {
    "collapsed": false
   },
   "outputs": [],
   "source": [
    "# Filter `wbwdi` to only include African countries\n",
    "wbwdi[wbwdi.Countrygp == 2.0]\n",
    "\n",
    "# Filter `wbwdi` to only include African countries with LIFEXP > 60\n",
    "wbwdi[(wbwdi.Countrygp == 2.0) & (wbwdi.LIFEXP > 60)]\n",
    "# Calculate the mean 'LIFEXP' for all of Africa\n",
    "africa = wbwdi[wbwdi.Countrygp == 2.0]\n",
    "africa['LIFEXP'].mean()\n",
    "# Determine which 10 countries have the highest LIFEXP\n",
    "wbwdi.sort('LIFEXP', ascending = False).head(10)\n",
    "# BONUS: Sort `wbwdi` by 'Countrygp' and then by 'LIFEXP' (in a single command)\n",
    "wbwdi.sort(['Countrygp', 'LIFEXP'], ascending = [False, False])\n",
    "# BONUS: Filter `wbwdi` to only include African or Middle Eastern countries\n",
    "#        without using `|`."
   ]
  },
  {
   "cell_type": "markdown",
   "metadata": {
    "collapsed": false
   },
   "source": [
    "# Exercise 3"
   ]
  },
  {
   "cell_type": "code",
   "execution_count": null,
   "metadata": {
    "collapsed": false
   },
   "outputs": [],
   "source": [
    "# Count the number of missing values in each column of `wbwdi`\n",
    "wbwdi.isnull().sum() \n",
    "# Show only countries for which 'LIFEXP' is missing\n",
    "wbwdi[wbwdi.LIFEXP.isnull()]\n",
    "# How many rows remain if you drop all rows with any missing values?\n",
    "len(wbwdi.dropna())\n",
    "# BONUS: Create a new column called 'initial' that contains the first letter of\n",
    "#        the country name (e.g., 'A' for Afghanistan)\n",
    "wbwdi['initial'] = wbwdi['Country'].str[:1]"
   ]
  },
  {
   "cell_type": "markdown",
   "metadata": {
    "collapsed": false
   },
   "source": [
    "# Exercise 4"
   ]
  },
  {
   "cell_type": "code",
   "execution_count": null,
   "metadata": {
    "collapsed": true
   },
   "outputs": [],
   "source": [
    "# Calculate the mean 'LIFEXP' by 'Countrygp'\n",
    "wbwdi.groupby('Countrygp').LIFEXP.mean()\n",
    "# Calculate the minimum and maximum 'LIFEXP' by 'Countrygp'\n",
    "wbwdi.groupby('Countrygp').LIFEXP.agg(['min', 'max'])\n",
    "# BONUS: Cross-tabulate 'Countrygp' and 'initial'\n",
    "pd.crosstab(wbwdi.Countrygp, wbwdi.initial)\n",
    "\n",
    "# BONUS: Calculate the median 'LIFEXP' for each combination of 'Countrygp' and\n",
    "#        'initial'\n",
    "wbwdi.pivot_table(values='LIFEXP', index='Countrygp', columns='initial', aggfunc='median')"
   ]
  }
 ],
 "metadata": {
  "kernelspec": {
   "display_name": "Python 3",
   "language": "python",
   "name": "python3"
  },
  "language_info": {
   "codemirror_mode": {
    "name": "ipython",
    "version": 3
   },
   "file_extension": ".py",
   "mimetype": "text/x-python",
   "name": "python",
   "nbconvert_exporter": "python",
   "pygments_lexer": "ipython3",
   "version": "3.5.1"
  }
 },
 "nbformat": 4,
 "nbformat_minor": 0
}
