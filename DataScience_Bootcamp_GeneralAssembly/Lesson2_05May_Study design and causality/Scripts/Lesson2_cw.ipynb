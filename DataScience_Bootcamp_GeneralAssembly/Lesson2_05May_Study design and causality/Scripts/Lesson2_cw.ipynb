{
 "cells": [
  {
   "cell_type": "code",
   "execution_count": 22,
   "metadata": {
    "collapsed": true
   },
   "outputs": [],
   "source": [
    "import os\n",
    "import numpy as np\n",
    "import pandas as pd"
   ]
  },
  {
   "cell_type": "code",
   "execution_count": 23,
   "metadata": {
    "collapsed": false
   },
   "outputs": [],
   "source": [
    "#changing the working directory (which is in lesson 2 folder to point where the data is)\n",
    "cwd = os.chdir('D:\\\\Users\\\\SHILAU\\\\Desktop\\\\Data Science Bootcamp\\\\Data')"
   ]
  },
  {
   "cell_type": "markdown",
   "metadata": {},
   "source": [
    "## Reading files, selecting columns and summarising\n"
   ]
  },
  {
   "cell_type": "code",
   "execution_count": 33,
   "metadata": {
    "collapsed": true
   },
   "outputs": [
    {
     "data": {
      "text/plain": [
       "34    77\n",
       "37    74\n",
       "33    73\n",
       "38    69\n",
       "36    68\n",
       "43    68\n",
       "44    67\n",
       "56    66\n",
       "45    66\n",
       "39    62\n",
       "40    60\n",
       "35    59\n",
       "46    59\n",
       "31    58\n",
       "52    58\n",
       "54    58\n",
       "30    58\n",
       "41    58\n",
       "57    57\n",
       "51    57\n",
       "42    56\n",
       "49    56\n",
       "59    55\n",
       "72    54\n",
       "48    54\n",
       "58    53\n",
       "32    53\n",
       "47    49\n",
       "50    48\n",
       "53    48\n",
       "      ..\n",
       "25    36\n",
       "73    36\n",
       "22    35\n",
       "27    35\n",
       "23    35\n",
       "66    34\n",
       "68    34\n",
       "65    34\n",
       "79    32\n",
       "78    31\n",
       "19    30\n",
       "20    29\n",
       "77    26\n",
       "74    24\n",
       "84    24\n",
       "81    22\n",
       "82    21\n",
       "80    21\n",
       "83    19\n",
       "87    16\n",
       "85    15\n",
       "88     8\n",
       "90     7\n",
       "86     7\n",
       "89     7\n",
       "99     6\n",
       "92     3\n",
       "91     2\n",
       "97     1\n",
       "94     1\n",
       "Name: RAge, dtype: int64"
      ]
     },
     "execution_count": 33,
     "metadata": {},
     "output_type": "execute_result"
    }
   ],
   "source": [
    "#reading file\n",
    "bsa2014 = pd.read_csv('bsa2014.csv', index_col=0)\n",
    "\n",
    "#shows the first 5 rows, does the same thing as df.iloc[0.5]\n",
    "bsa2014[0:5]\n",
    "\n",
    "#lists all the columns, df.index will show row names\n",
    "bsa2014.columns\n",
    "\n",
    "#shows number of rows in dataframe, df.shape shows number of rows and columns\n",
    "len(bsa2014)\n",
    "\n",
    "# Select a column,\n",
    "bsa2014['RSex']                        # Select one column\n",
    "bsa2014.RSex                           # (as above)\n",
    "\n",
    "# Summarise (describe) the DataFrame\n",
    "bsa2014.describe()                     # Describes all numeric-typed columns\n",
    "bsa2014.describe(include=['float'])    # Describes only continuous variables\n",
    "\n",
    "# Summarise a Series\n",
    "bsa2014.RAge.describe()                # Describes a single column\n",
    "bsa2014.RAge.mean()                    # Calculates the mean\n",
    "\n",
    "# Count the number of occurrences of each value (tabulate)\n",
    "bsa2014.RSex.value_counts()            # Most useful for categorical variables\n",
    "bsa2014.RAge.value_counts()            # Can be used with continuous variables"
   ]
  },
  {
   "cell_type": "markdown",
   "metadata": {
    "collapsed": false
   },
   "source": [
    "# Filtering and Sorting"
   ]
  },
  {
   "cell_type": "code",
   "execution_count": 44,
   "metadata": {
    "collapsed": true
   },
   "outputs": [
    {
     "data": {
      "text/plain": [
       "1    59\n",
       "3     6\n",
       "2     2\n",
       "Name: Country, dtype: int64"
      ]
     },
     "execution_count": 44,
     "metadata": {},
     "output_type": "execute_result"
    }
   ],
   "source": [
    "bsa2014[bsa2014.RAge < 20]             # Filtering rows by showing participants aged 20 years or younger\n",
    "bsa2014[bsa2014.RAge < 20].Country     # Selects one column from the filtered DF\n",
    "bsa2014[bsa2014.RAge < 20].Country.value_counts()     # Doing a value count of how many participants < 20 for country 1,2,3\n",
    "\n",
    "# Boolean filtering: multiple conditions\n",
    "bsa2014[(bsa2014.RAge < 20) & (bsa2014.Country == 2)]\n",
    "bsa2014[(bsa2014.RAge < 20) | (bsa2014.RAge > 60)]\n",
    "                                                    \n",
    "# Sorting values\n",
    "bsa2014.sort_values('RAge')            # Sorts a DF by a single column\n",
    "bsa2014.sort_values('RAge', ascending=False)\n",
    "bsa2014.sort_values('RAge', inplace=True)\n",
    "\n",
    "# Sorting by index\n",
    "bsa2014.RAge.value_counts().sort_index()"
   ]
  },
  {
   "cell_type": "markdown",
   "metadata": {},
   "source": [
    "# Selecting, renaming, adding and removing columns"
   ]
  },
  {
   "cell_type": "code",
   "execution_count": null,
   "metadata": {
    "collapsed": true
   },
   "outputs": [],
   "source": [
    "# Select multiple columns\n",
    "my_cols = ['RSex', 'RAge']             # Creates a list of column names...\n",
    "bsa2014[my_cols]                       # ...that can be used to select columns\n",
    "bsa2014[['RSex', 'RAge']]              # (also in a single step)\n",
    "\n",
    "# Select multiple columns by name using `loc`\n",
    "bsa2014.loc[:, 'RSex']                 # All rows, one column\n",
    "bsa2014.loc[:, ['RSex', 'RAge']]       # All rows, two columns\n",
    "bsa2014.loc[:, 'Country':'RAge']       # All rows, range of columns\n",
    "\n",
    "# Select multiple columns by integer position using `iloc`\n",
    "bsa2014.iloc[:, 5]                     # All rows, one column\n",
    "bsa2014.iloc[:, [5, 6]]                # All rows, two columns\n",
    "bsa2014.iloc[:, 4:6]                   # All rows, range of columns\n",
    "\n",
    "# Rename one or more columns\n",
    "bsa2014.rename(columns={\n",
    "    'RAge': 'age',\n",
    "    'RSex': 'sex'\n",
    "}, inplace=True)\n",
    "\n",
    "# Add a new column as a function of existing columns\n",
    "bsa2014['under20'] = bsa2014.age < 20\n",
    "\n",
    "# Removing (dropping) columns (axis=1)\n",
    "bsa2014.drop('under20', axis=1, inplace=True)"
   ]
  },
  {
   "cell_type": "code",
   "execution_count": 60,
   "metadata": {
    "collapsed": true
   },
   "outputs": [
    {
     "data": {
      "text/html": [
       "<div>\n",
       "<table border=\"1\" class=\"dataframe\">\n",
       "  <thead>\n",
       "    <tr style=\"text-align: right;\">\n",
       "      <th></th>\n",
       "      <th>RSex</th>\n",
       "      <th>RAge</th>\n",
       "    </tr>\n",
       "    <tr>\n",
       "      <th>Serial</th>\n",
       "      <th></th>\n",
       "      <th></th>\n",
       "    </tr>\n",
       "  </thead>\n",
       "  <tbody>\n",
       "    <tr>\n",
       "      <th>160002</th>\n",
       "      <td>1</td>\n",
       "      <td>51</td>\n",
       "    </tr>\n",
       "    <tr>\n",
       "      <th>160003</th>\n",
       "      <td>2</td>\n",
       "      <td>57</td>\n",
       "    </tr>\n",
       "    <tr>\n",
       "      <th>160007</th>\n",
       "      <td>1</td>\n",
       "      <td>39</td>\n",
       "    </tr>\n",
       "    <tr>\n",
       "      <th>160008</th>\n",
       "      <td>2</td>\n",
       "      <td>91</td>\n",
       "    </tr>\n",
       "    <tr>\n",
       "      <th>160011</th>\n",
       "      <td>1</td>\n",
       "      <td>45</td>\n",
       "    </tr>\n",
       "  </tbody>\n",
       "</table>\n",
       "</div>"
      ],
      "text/plain": [
       "        RSex  RAge\n",
       "Serial            \n",
       "160002     1    51\n",
       "160003     2    57\n",
       "160007     1    39\n",
       "160008     2    91\n",
       "160011     1    45"
      ]
     },
     "execution_count": 60,
     "metadata": {},
     "output_type": "execute_result"
    }
   ],
   "source": [
    "bsa2014[['RSex', 'RAge']][0:5]"
   ]
  },
  {
   "cell_type": "markdown",
   "metadata": {},
   "source": [
    "# Handling missing values"
   ]
  },
  {
   "cell_type": "code",
   "execution_count": null,
   "metadata": {
    "collapsed": true
   },
   "outputs": [],
   "source": [
    "# Missing values may be coded using ‘special’ values: check the data dictionary\n",
    "bsa2014.age.replace(99, np.NaN, inplace=True)\n",
    "\n",
    "bsa2014.sort_values('age')             # Sorts a DF by a single column\n",
    "\n",
    "# Find missing values in a Series\n",
    "bsa2014.age.isnull()                   # True if missing\n",
    "bsa2014.age.notnull()                  # True if not missing\n",
    "\n",
    "bsa2014[bsa2014.age.isnull()]          # Only show rows where age is missing\n",
    "bsa2014[bsa2014.age.notnull()]         # Only show rows where age is not missing\n",
    "\n",
    "# Side note: adding Booleans\n",
    "bsa2014.age.isnull().sum()             # Number of missing values\n",
    "\n",
    "# Find missing values in a DataFrame\n",
    "bsa2014.isnull()                       # Returns a DataFrame of Booleans\n",
    "bsa2014.isnull().sum()                 # Counts missing values in each column\n",
    "\n",
    "# Drop missing values\n",
    "bsa2014.dropna()                       # Drops a row if any values are missing\n",
    "bsa2014.dropna(how='all')              # Drops a row if all values are missing\n",
    "\n",
    "# Fill in missing values\n",
    "bsa2014.age.fillna(value='NA')\n",
    "\n",
    "# See also parameters `na_values` and `na_filter` to `read_csv`"
   ]
  },
  {
   "cell_type": "code",
   "execution_count": null,
   "metadata": {
    "collapsed": true
   },
   "outputs": [],
   "source": [
    "bsa2014.groupby('Country').age.agg(['count', 'median', 'min', 'max'])"
   ]
  },
  {
   "cell_type": "markdown",
   "metadata": {},
   "source": [
    "# Split-Apply-Combine"
   ]
  },
  {
   "cell_type": "code",
   "execution_count": null,
   "metadata": {
    "collapsed": true
   },
   "outputs": [],
   "source": [
    "# For each country, compute the mean age\n",
    "bsa2014.groupby('Country').age.mean()\n",
    "\n",
    "# For each country, describe age\n",
    "bsa2014.groupby('Country').age.describe()\n",
    "\n",
    "# Similar, but outputs a customisable DataFrame\n",
    "bsa2014.groupby('Country').age.agg(['count', 'median', 'min', 'max'])\n",
    "bsa2014.groupby('Country').age.agg(['count', 'median', 'min', 'max']).sort_values('max')"
   ]
  },
  {
   "cell_type": "markdown",
   "metadata": {},
   "source": [
    "# Pivot Tables"
   ]
  },
  {
   "cell_type": "code",
   "execution_count": null,
   "metadata": {
    "collapsed": false
   },
   "outputs": [],
   "source": [
    "# Average age by country and sex (in rows)\n",
    "bsa2014.pivot_table(values='age', index=['Country', 'sex'])\n",
    "\n",
    "# Median age by country and sex (in rows and columns, respectively)\n",
    "bsa2014.pivot_table(values='age', index='Country', columns='sex', aggfunc='median')\n",
    "\n",
    "# Average age by country, income group, and sex\n",
    "bsa2014.pivot_table(values='age', index=['Country', 'incomegp'], columns='sex')"
   ]
  },
  {
   "cell_type": "markdown",
   "metadata": {},
   "source": [
    "# Merging Dataframes"
   ]
  },
  {
   "cell_type": "code",
   "execution_count": null,
   "metadata": {
    "collapsed": true
   },
   "outputs": [],
   "source": [
    "A = pd.DataFrame({\n",
    "    'color': ['Blue', 'Green', 'Red'],\n",
    "    'num': [1, 2, 3]\n",
    "})\n",
    "\n",
    "B = pd.DataFrame({\n",
    "    'color': ['Blue', 'Green', 'Yellow'],\n",
    "    'size': ['S', 'M', 'L']\n",
    "})\n",
    "\n",
    "# Inner join: include only observations found in both A and B\n",
    "pd.merge(A, B, how='inner')\n",
    "\n",
    "# Outer join: include observations found in either A or B\n",
    "pd.merge(A, B, how='outer')\n",
    "\n",
    "# Left join: include all observations found in A\n",
    "pd.merge(A, B, how='left')\n",
    "\n",
    "# Right join: include all observations found in B\n",
    "pd.merge(A, B, how='right')"
   ]
  },
  {
   "cell_type": "markdown",
   "metadata": {},
   "source": [
    "# Other useful features"
   ]
  },
  {
   "cell_type": "code",
   "execution_count": null,
   "metadata": {
    "collapsed": false
   },
   "outputs": [],
   "source": [
    "# Map existing values to a different set of values\n",
    "bsa2014['country_name'] = bsa2014.Country.map({\n",
    "    1: 'england',\n",
    "    2: 'scotland',\n",
    "    3: 'wales'\n",
    "})\n",
    "\n",
    "# Encode strings as integers (starting at 0, NA = -1 by default)\n",
    "bsa2014['country_idx'] = bsa2014.country_name.factorize()[0]\n",
    "\n",
    "# Determine unique values in a Series\n",
    "bsa2014.country_name.nunique()         # Counts the number of unique values\n",
    "bsa2014.country_name.unique()          # Returns the unique values\n",
    "\n",
    "# Replace all instances of a value in a Series\n",
    "bsa2014.country_name.replace({\n",
    "    'england': 'England',\n",
    "    'scotland': 'Scotland',\n",
    "    'wales': 'Wales'\n",
    "}, inplace=True)\n",
    "\n",
    "# String methods can be accessed via `str`\n",
    "bsa2014.country_name.str.upper()\n",
    "bsa2014.country_name.str.contains('Scot').sum()\n",
    "\n",
    "# To convert a string to datetime, use `pd.to_datetime`\n",
    "\n",
    "# Set and remove row names (index)\n",
    "bsa2014.set_index('sex', inplace=True)\n",
    "bsa2014.reset_index(inplace=True)\n",
    "\n",
    "# Change the data type of a column\n",
    "# (see also parameter `dtype` to `read_csv` to do so when reading in a file)\n",
    "bsa2014['age'] = bsa2014.age.astype('float')\n",
    "\n",
    "# Create dummy variables for country, excluding first column\n",
    "country_dummies = pd.get_dummies(bsa2014.Country, prefix='country', drop_first=True)\n",
    "\n",
    "# Concatenate two DataFrames (axis=0 for rows, axis=1 for columns)\n",
    "bsa2014 = pd.concat([bsa2014, country_dummies], axis=1)"
   ]
  },
  {
   "cell_type": "markdown",
   "metadata": {},
   "source": [
    "# Less frequently used features"
   ]
  },
  {
   "cell_type": "code",
   "execution_count": null,
   "metadata": {
    "collapsed": true
   },
   "outputs": [],
   "source": [
    "# Create a DataFrame from a dictionary\n",
    "uk_countries = pd.DataFrame({\n",
    "    'country': ['England', 'Scotland', 'Wales', 'Northern Ireland'],\n",
    "    'capital': ['London', 'Edinburgh', 'Cardiff', 'Belfast']\n",
    "})\n",
    "\n",
    "# Create a DataFrame from a list of lists\n",
    "uk_countries = pd.DataFrame([\n",
    "    ['England', 'London'],\n",
    "    ['Scotland', 'Edinburgh'],\n",
    "    ['Wales', 'Cardiff'],\n",
    "    ['Northern Ireland', 'Belfast']\n",
    "], columns=['country', 'capital'])\n",
    "\n",
    "# Detect duplicate rows\n",
    "bsa2014.duplicated()                   # True if a row has been seen previously\n",
    "bsa2014.duplicated().sum()             # Count of duplicates\n",
    "bsa2014.drop_duplicates()              # Drops duplicate rows\n",
    "bsa2014.age.duplicated()               # Checks a single column for duplicates\n",
    "bsa2014.duplicated(['Country','sex','age']).sum() # ...or multiple\n",
    "\n",
    "# Cross-tabulate two Series\n",
    "pd.crosstab(bsa2014.Country, bsa2014.sex)\n",
    "\n",
    "# Display the memory usage of a DataFrame\n",
    "bsa2014.info()                         # Total\n",
    "bsa2014.memory_usage()                 # By column\n",
    "\n",
    "# Change a Series to the `category` data type\n",
    "# (lower memory usage, higher performance)\n",
    "bsa2014['Country'] = bsa2014.Country.astype('category')\n",
    "\n",
    "# Write a DataFrame out in CSV format\n",
    "bsa2014.to_csv('bsa2014_updated.csv')\n",
    "\n",
    "# Randomly sample a DataFrame (e.g. 75%/25% split)\n",
    "train = bsa2014.sample(frac=0.75)\n",
    "test = bsa2014[~bsa2014.index.isin(train.index)]\n",
    "\n",
    "# Change the maximum number of rows and columns printed (None = unlimited)\n",
    "pd.set_option('max_rows', 10)          # Default is 60 rows\n",
    "pd.set_option('max_columns', None)     # Default is 20 columns\n",
    "bsa2014\n",
    "\n",
    "# Reset options to defaults\n",
    "pd.reset_option('max_rows')\n",
    "pd.reset_option('max_columns')\n",
    "\n",
    "# Change the options temporarily (within the `with` block)\n",
    "with pd.option_context('max_rows', 10, 'max_columns', None):\n",
    "    print(bsa2014)"
   ]
  }
 ],
 "metadata": {
  "kernelspec": {
   "display_name": "Python 3",
   "language": "python",
   "name": "python3"
  },
  "language_info": {
   "codemirror_mode": {
    "name": "ipython",
    "version": 3
   },
   "file_extension": ".py",
   "mimetype": "text/x-python",
   "name": "python",
   "nbconvert_exporter": "python",
   "pygments_lexer": "ipython3",
   "version": "3.5.1"
  }
 },
 "nbformat": 4,
 "nbformat_minor": 0
}
