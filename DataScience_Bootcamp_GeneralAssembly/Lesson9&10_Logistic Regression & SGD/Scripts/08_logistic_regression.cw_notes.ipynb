{
 "cells": [
  {
   "cell_type": "code",
   "execution_count": 4,
   "metadata": {
    "collapsed": false
   },
   "outputs": [],
   "source": [
    "#!/usr/bin/env python\n",
    "\n",
    "'''\n",
    "GA Data Science Q2 2016\n",
    "\n",
    "Code walk-through 8: Logistic regression using StatsModels\n",
    "\n",
    "* Odds and odds ratios\n",
    "* Logistic regression\n",
    "'''\n",
    "\n",
    "import os\n",
    "\n",
    "import numpy as np\n",
    "import pandas as pd\n",
    "import seaborn as sns\n",
    "\n",
    "import statsmodels.api as sm\n",
    "import statsmodels.formula.api as smf\n",
    "\n",
    "%matplotlib inline\n",
    "\n",
    "# Read in the Crime Survey for England and Wales 2013-2014 data\n",
    "csew = pd.read_csv('../../Data/csew2013.csv')\n",
    "\n",
    "# Define predictors and response\n",
    "predictors = ['sex', 'age', 'walkdark']\n",
    "# Whethere individual is victim of crime \n",
    "response = 'bcsvictim'\n",
    "\n",
    "all_vars = predictors + [response]\n",
    "\n",
    "# Recode missing values in 'walkdark'\n",
    "csew.where(csew['walkdark'] != 8, inplace=True)\n",
    "\n",
    "# Remove missing values\n",
    "csew.dropna(subset=all_vars, inplace=True)\n",
    "\n",
    "# Convert categorical variables to the 'category' data type\n",
    "csew.sex = csew.sex.astype('category')\n",
    "csew.walkdark = csew.walkdark.astype('category')"
   ]
  },
  {
   "cell_type": "code",
   "execution_count": 5,
   "metadata": {
    "collapsed": false
   },
   "outputs": [
    {
     "data": {
      "text/plain": [
       "<matplotlib.axes._subplots.AxesSubplot at 0xbb7d320>"
      ]
     },
     "execution_count": 5,
     "metadata": {},
     "output_type": "execute_result"
    },
    {
     "data": {
      "image/png": "[encoded data removed]",
      "text/plain": [
       "<matplotlib.figure.Figure at 0xbb77dd8>"
      ]
     },
     "metadata": {},
     "output_type": "display_data"
    }
   ],
   "source": [
    "# Explore data visually\n",
    "sns.boxplot(x='bcsvictim', y='age', data=csew)"
   ]
  },
  {
   "cell_type": "code",
   "execution_count": 6,
   "metadata": {
    "collapsed": false
   },
   "outputs": [
    {
     "data": {
      "text/html": [
       "<div>\n",
       "<table border=\"1\" class=\"dataframe\">\n",
       "  <thead>\n",
       "    <tr style=\"text-align: right;\">\n",
       "      <th>sex</th>\n",
       "      <th>1.0</th>\n",
       "      <th>2.0</th>\n",
       "    </tr>\n",
       "    <tr>\n",
       "      <th>bcsvictim</th>\n",
       "      <th></th>\n",
       "      <th></th>\n",
       "    </tr>\n",
       "  </thead>\n",
       "  <tbody>\n",
       "    <tr>\n",
       "      <th>0.0</th>\n",
       "      <td>3162</td>\n",
       "      <td>3814</td>\n",
       "    </tr>\n",
       "    <tr>\n",
       "      <th>1.0</th>\n",
       "      <td>623</td>\n",
       "      <td>674</td>\n",
       "    </tr>\n",
       "  </tbody>\n",
       "</table>\n",
       "</div>"
      ],
      "text/plain": [
       "sex         1.0   2.0\n",
       "bcsvictim            \n",
       "0.0        3162  3814\n",
       "1.0         623   674"
      ]
     },
     "execution_count": 6,
     "metadata": {},
     "output_type": "execute_result"
    }
   ],
   "source": [
    "# Number of men/women who experienced crime\n",
    "pd.crosstab(csew.bcsvictim, csew.sex)"
   ]
  },
  {
   "cell_type": "code",
   "execution_count": 8,
   "metadata": {
    "collapsed": false
   },
   "outputs": [
    {
     "name": "stdout",
     "output_type": "stream",
     "text": [
      "0.16459709379128137\n",
      "0.1501782531194296\n"
     ]
    }
   ],
   "source": [
    "'''\n",
    "Odds and odds ratios\n",
    "'''\n",
    "\n",
    "# Probability of having experienced crime by sex\n",
    "p_men = csew[csew.sex == 1].bcsvictim.mean()\n",
    "p_women = csew[csew.sex == 2].bcsvictim.mean()\n",
    "print(p_men)\n",
    "print(p_women)"
   ]
  },
  {
   "cell_type": "code",
   "execution_count": 12,
   "metadata": {
    "collapsed": false
   },
   "outputs": [
    {
     "data": {
      "text/plain": [
       "0.8969185925638499"
      ]
     },
     "execution_count": 12,
     "metadata": {},
     "output_type": "execute_result"
    }
   ],
   "source": [
    "# Corresponding odds\n",
    "odds_men = p_men / (1 - p_men)\n",
    "odds_women = p_women / (1 - p_women)\n",
    "\n",
    "# Alternatively…\n",
    "odds_men = csew[csew.sex == 1].bcsvictim.sum() /\\\n",
    "           (1 - csew[csew.sex == 1].bcsvictim).sum()\n",
    "odds_women = csew[csew.sex == 2].bcsvictim.sum() /\\\n",
    "             (1 - csew[csew.sex == 2].bcsvictim).sum()\n",
    "\n",
    "# Odds ratio of a woman having experienced crime (compared to a man)\n",
    "# Denominator is also the group of interest; probability for women to experience crime compared to men.\n",
    "odds_women / odds_men"
   ]
  },
  {
   "cell_type": "code",
   "execution_count": 9,
   "metadata": {
    "collapsed": false
   },
   "outputs": [
    {
     "name": "stdout",
     "output_type": "stream",
     "text": [
      "Optimization terminated successfully.\n",
      "         Current function value: 0.434088\n",
      "         Iterations 6\n"
     ]
    },
    {
     "data": {
      "text/html": [
       "<table class=\"simpletable\">\n",
       "<caption>Logit Regression Results</caption>\n",
       "<tr>\n",
       "  <th>Dep. Variable:</th>     <td>bcsvictim</td>    <th>  No. Observations:  </th>  <td>  8273</td>  \n",
       "</tr>\n",
       "<tr>\n",
       "  <th>Model:</th>               <td>Logit</td>      <th>  Df Residuals:      </th>  <td>  8271</td>  \n",
       "</tr>\n",
       "<tr>\n",
       "  <th>Method:</th>               <td>MLE</td>       <th>  Df Model:          </th>  <td>     1</td>  \n",
       "</tr>\n",
       "<tr>\n",
       "  <th>Date:</th>          <td>Tue, 31 May 2016</td> <th>  Pseudo R-squ.:     </th> <td>0.0004486</td>\n",
       "</tr>\n",
       "<tr>\n",
       "  <th>Time:</th>              <td>19:17:03</td>     <th>  Log-Likelihood:    </th> <td> -3591.2</td> \n",
       "</tr>\n",
       "<tr>\n",
       "  <th>converged:</th>           <td>True</td>       <th>  LL-Null:           </th> <td> -3592.8</td> \n",
       "</tr>\n",
       "<tr>\n",
       "  <th> </th>                      <td> </td>        <th>  LLR p-value:       </th>  <td>0.07260</td> \n",
       "</tr>\n",
       "</table>\n",
       "<table class=\"simpletable\">\n",
       "<tr>\n",
       "      <td></td>        <th>coef</th>     <th>std err</th>      <th>z</th>      <th>P>|z|</th> <th>[95.0% Conf. Int.]</th> \n",
       "</tr>\n",
       "<tr>\n",
       "  <th>sex[1.0]</th> <td>   -1.6244</td> <td>    0.044</td> <td>  -37.059</td> <td> 0.000</td> <td>   -1.710    -1.539</td>\n",
       "</tr>\n",
       "<tr>\n",
       "  <th>sex[2.0]</th> <td>   -1.7332</td> <td>    0.042</td> <td>  -41.480</td> <td> 0.000</td> <td>   -1.815    -1.651</td>\n",
       "</tr>\n",
       "</table>"
      ],
      "text/plain": [
       "<class 'statsmodels.iolib.summary.Summary'>\n",
       "\"\"\"\n",
       "                           Logit Regression Results                           \n",
       "==============================================================================\n",
       "Dep. Variable:              bcsvictim   No. Observations:                 8273\n",
       "Model:                          Logit   Df Residuals:                     8271\n",
       "Method:                           MLE   Df Model:                            1\n",
       "Date:                Tue, 31 May 2016   Pseudo R-squ.:               0.0004486\n",
       "Time:                        19:17:03   Log-Likelihood:                -3591.2\n",
       "converged:                       True   LL-Null:                       -3592.8\n",
       "                                        LLR p-value:                   0.07260\n",
       "==============================================================================\n",
       "                 coef    std err          z      P>|z|      [95.0% Conf. Int.]\n",
       "------------------------------------------------------------------------------\n",
       "sex[1.0]      -1.6244      0.044    -37.059      0.000        -1.710    -1.539\n",
       "sex[2.0]      -1.7332      0.042    -41.480      0.000        -1.815    -1.651\n",
       "==============================================================================\n",
       "\"\"\""
      ]
     },
     "execution_count": 9,
     "metadata": {},
     "output_type": "execute_result"
    }
   ],
   "source": [
    "'''\n",
    "Logistic regression\n",
    "'''\n",
    "\n",
    "# Modelling the probability of having experienced crime by sex\n",
    "# No intercept means there is no reference category\n",
    "model1 = smf.logit('bcsvictim ~ -1 + sex', data=csew).fit()\n",
    "\n",
    "model1.summary()"
   ]
  },
  {
   "cell_type": "code",
   "execution_count": 10,
   "metadata": {
    "collapsed": false
   },
   "outputs": [
    {
     "data": {
      "text/plain": [
       "sex[1.0]   -1.624413\n",
       "sex[2.0]   -1.733204\n",
       "dtype: float64"
      ]
     },
     "execution_count": 10,
     "metadata": {},
     "output_type": "execute_result"
    }
   ],
   "source": [
    "model1.params # Regression coefficients"
   ]
  },
  {
   "cell_type": "code",
   "execution_count": 14,
   "metadata": {
    "collapsed": false
   },
   "outputs": [
    {
     "data": {
      "text/plain": [
       "sex[1.0]    0.197027\n",
       "sex[2.0]    0.176717\n",
       "dtype: float64"
      ]
     },
     "execution_count": 14,
     "metadata": {},
     "output_type": "execute_result"
    }
   ],
   "source": [
    "# Taking the exponential of the regression coefficients returns the odds\n",
    "np.exp(model1.params)"
   ]
  },
  {
   "cell_type": "code",
   "execution_count": 15,
   "metadata": {
    "collapsed": false
   },
   "outputs": [
    {
     "data": {
      "text/plain": [
       "0.19702719797596457"
      ]
     },
     "execution_count": 15,
     "metadata": {},
     "output_type": "execute_result"
    }
   ],
   "source": [
    "odds_men"
   ]
  },
  {
   "cell_type": "code",
   "execution_count": 16,
   "metadata": {
    "collapsed": false
   },
   "outputs": [
    {
     "data": {
      "text/plain": [
       "0.17671735710540115"
      ]
     },
     "execution_count": 16,
     "metadata": {},
     "output_type": "execute_result"
    }
   ],
   "source": [
    "odds_women"
   ]
  },
  {
   "cell_type": "code",
   "execution_count": 17,
   "metadata": {
    "collapsed": false
   },
   "outputs": [
    {
     "name": "stdout",
     "output_type": "stream",
     "text": [
      "Optimization terminated successfully.\n",
      "         Current function value: 0.434088\n",
      "         Iterations 6\n"
     ]
    }
   ],
   "source": [
    "# Including the intercept means one category (sex = 1) acts as reference\n",
    "model2 = smf.logit('bcsvictim ~ sex', data=csew).fit()"
   ]
  },
  {
   "cell_type": "code",
   "execution_count": 18,
   "metadata": {
    "collapsed": false
   },
   "outputs": [
    {
     "data": {
      "text/html": [
       "<table class=\"simpletable\">\n",
       "<caption>Logit Regression Results</caption>\n",
       "<tr>\n",
       "  <th>Dep. Variable:</th>     <td>bcsvictim</td>    <th>  No. Observations:  </th>  <td>  8273</td>  \n",
       "</tr>\n",
       "<tr>\n",
       "  <th>Model:</th>               <td>Logit</td>      <th>  Df Residuals:      </th>  <td>  8271</td>  \n",
       "</tr>\n",
       "<tr>\n",
       "  <th>Method:</th>               <td>MLE</td>       <th>  Df Model:          </th>  <td>     1</td>  \n",
       "</tr>\n",
       "<tr>\n",
       "  <th>Date:</th>          <td>Tue, 31 May 2016</td> <th>  Pseudo R-squ.:     </th> <td>0.0004486</td>\n",
       "</tr>\n",
       "<tr>\n",
       "  <th>Time:</th>              <td>19:19:35</td>     <th>  Log-Likelihood:    </th> <td> -3591.2</td> \n",
       "</tr>\n",
       "<tr>\n",
       "  <th>converged:</th>           <td>True</td>       <th>  LL-Null:           </th> <td> -3592.8</td> \n",
       "</tr>\n",
       "<tr>\n",
       "  <th> </th>                      <td> </td>        <th>  LLR p-value:       </th>  <td>0.07260</td> \n",
       "</tr>\n",
       "</table>\n",
       "<table class=\"simpletable\">\n",
       "<tr>\n",
       "       <td></td>         <th>coef</th>     <th>std err</th>      <th>z</th>      <th>P>|z|</th> <th>[95.0% Conf. Int.]</th> \n",
       "</tr>\n",
       "<tr>\n",
       "  <th>Intercept</th>  <td>   -1.6244</td> <td>    0.044</td> <td>  -37.059</td> <td> 0.000</td> <td>   -1.710    -1.539</td>\n",
       "</tr>\n",
       "<tr>\n",
       "  <th>sex[T.2.0]</th> <td>   -0.1088</td> <td>    0.061</td> <td>   -1.796</td> <td> 0.072</td> <td>   -0.227     0.010</td>\n",
       "</tr>\n",
       "</table>"
      ],
      "text/plain": [
       "<class 'statsmodels.iolib.summary.Summary'>\n",
       "\"\"\"\n",
       "                           Logit Regression Results                           \n",
       "==============================================================================\n",
       "Dep. Variable:              bcsvictim   No. Observations:                 8273\n",
       "Model:                          Logit   Df Residuals:                     8271\n",
       "Method:                           MLE   Df Model:                            1\n",
       "Date:                Tue, 31 May 2016   Pseudo R-squ.:               0.0004486\n",
       "Time:                        19:19:35   Log-Likelihood:                -3591.2\n",
       "converged:                       True   LL-Null:                       -3592.8\n",
       "                                        LLR p-value:                   0.07260\n",
       "==============================================================================\n",
       "                 coef    std err          z      P>|z|      [95.0% Conf. Int.]\n",
       "------------------------------------------------------------------------------\n",
       "Intercept     -1.6244      0.044    -37.059      0.000        -1.710    -1.539\n",
       "sex[T.2.0]    -0.1088      0.061     -1.796      0.072        -0.227     0.010\n",
       "==============================================================================\n",
       "\"\"\""
      ]
     },
     "execution_count": 18,
     "metadata": {},
     "output_type": "execute_result"
    }
   ],
   "source": [
    "model2.summary()"
   ]
  },
  {
   "cell_type": "code",
   "execution_count": 19,
   "metadata": {
    "collapsed": false
   },
   "outputs": [
    {
     "data": {
      "text/plain": [
       "Intercept    -1.624413\n",
       "sex[T.2.0]   -0.108790\n",
       "dtype: float64"
      ]
     },
     "execution_count": 19,
     "metadata": {},
     "output_type": "execute_result"
    }
   ],
   "source": [
    "model2.params"
   ]
  },
  {
   "cell_type": "code",
   "execution_count": 20,
   "metadata": {
    "collapsed": false
   },
   "outputs": [
    {
     "data": {
      "text/plain": [
       "Intercept     0.197027\n",
       "sex[T.2.0]    0.896919\n",
       "dtype: float64"
      ]
     },
     "execution_count": 20,
     "metadata": {},
     "output_type": "execute_result"
    }
   ],
   "source": [
    "# Taking the exponential of the regression coefficients returns the odds of the\n",
    "# reference category, and the OR of the outcome in the non-reference category\n",
    "np.exp(model2.params)"
   ]
  },
  {
   "cell_type": "code",
   "execution_count": 21,
   "metadata": {
    "collapsed": false
   },
   "outputs": [
    {
     "data": {
      "text/plain": [
       "0.19702719797596457"
      ]
     },
     "execution_count": 21,
     "metadata": {},
     "output_type": "execute_result"
    }
   ],
   "source": [
    "odds_men"
   ]
  },
  {
   "cell_type": "code",
   "execution_count": 22,
   "metadata": {
    "collapsed": false
   },
   "outputs": [
    {
     "data": {
      "text/plain": [
       "0.8969185925638499"
      ]
     },
     "execution_count": 22,
     "metadata": {},
     "output_type": "execute_result"
    }
   ],
   "source": [
    "odds_women / odds_men"
   ]
  },
  {
   "cell_type": "code",
   "execution_count": 23,
   "metadata": {
    "collapsed": false
   },
   "outputs": [
    {
     "data": {
      "text/plain": [
       "0.17671735710540123"
      ]
     },
     "execution_count": 23,
     "metadata": {},
     "output_type": "execute_result"
    }
   ],
   "source": [
    "# The odds in the non-reference category are the odds in the reference category\n",
    "# (intercept) multiplied by the OR in the non-reference category (coefficient)\n",
    "np.prod(np.exp(model2.params))"
   ]
  },
  {
   "cell_type": "code",
   "execution_count": 24,
   "metadata": {
    "collapsed": false
   },
   "outputs": [
    {
     "name": "stdout",
     "output_type": "stream",
     "text": [
      "Optimization terminated successfully.\n",
      "         Current function value: 0.417814\n",
      "         Iterations 6\n"
     ]
    }
   ],
   "source": [
    "# Full model\n",
    "model3 = smf.logit('bcsvictim ~ sex + age + walkdark', data=csew).fit()"
   ]
  },
  {
   "cell_type": "code",
   "execution_count": 25,
   "metadata": {
    "collapsed": false
   },
   "outputs": [
    {
     "data": {
      "text/html": [
       "<table class=\"simpletable\">\n",
       "<caption>Logit Regression Results</caption>\n",
       "<tr>\n",
       "  <th>Dep. Variable:</th>     <td>bcsvictim</td>    <th>  No. Observations:  </th>  <td>  8273</td>  \n",
       "</tr>\n",
       "<tr>\n",
       "  <th>Model:</th>               <td>Logit</td>      <th>  Df Residuals:      </th>  <td>  8267</td>  \n",
       "</tr>\n",
       "<tr>\n",
       "  <th>Method:</th>               <td>MLE</td>       <th>  Df Model:          </th>  <td>     5</td>  \n",
       "</tr>\n",
       "<tr>\n",
       "  <th>Date:</th>          <td>Tue, 31 May 2016</td> <th>  Pseudo R-squ.:     </th>  <td>0.03792</td> \n",
       "</tr>\n",
       "<tr>\n",
       "  <th>Time:</th>              <td>19:25:23</td>     <th>  Log-Likelihood:    </th> <td> -3456.6</td> \n",
       "</tr>\n",
       "<tr>\n",
       "  <th>converged:</th>           <td>True</td>       <th>  LL-Null:           </th> <td> -3592.8</td> \n",
       "</tr>\n",
       "<tr>\n",
       "  <th> </th>                      <td> </td>        <th>  LLR p-value:       </th> <td>8.126e-57</td>\n",
       "</tr>\n",
       "</table>\n",
       "<table class=\"simpletable\">\n",
       "<tr>\n",
       "         <td></td>            <th>coef</th>     <th>std err</th>      <th>z</th>      <th>P>|z|</th> <th>[95.0% Conf. Int.]</th> \n",
       "</tr>\n",
       "<tr>\n",
       "  <th>Intercept</th>       <td>   -0.5633</td> <td>    0.098</td> <td>   -5.723</td> <td> 0.000</td> <td>   -0.756    -0.370</td>\n",
       "</tr>\n",
       "<tr>\n",
       "  <th>sex[T.2.0]</th>      <td>   -0.2903</td> <td>    0.066</td> <td>   -4.365</td> <td> 0.000</td> <td>   -0.421    -0.160</td>\n",
       "</tr>\n",
       "<tr>\n",
       "  <th>walkdark[T.2.0]</th> <td>    0.1737</td> <td>    0.078</td> <td>    2.232</td> <td> 0.026</td> <td>    0.021     0.326</td>\n",
       "</tr>\n",
       "<tr>\n",
       "  <th>walkdark[T.3.0]</th> <td>    0.4961</td> <td>    0.092</td> <td>    5.401</td> <td> 0.000</td> <td>    0.316     0.676</td>\n",
       "</tr>\n",
       "<tr>\n",
       "  <th>walkdark[T.4.0]</th> <td>    0.8068</td> <td>    0.112</td> <td>    7.195</td> <td> 0.000</td> <td>    0.587     1.027</td>\n",
       "</tr>\n",
       "<tr>\n",
       "  <th>age</th>             <td>   -0.0254</td> <td>    0.002</td> <td>  -14.661</td> <td> 0.000</td> <td>   -0.029    -0.022</td>\n",
       "</tr>\n",
       "</table>"
      ],
      "text/plain": [
       "<class 'statsmodels.iolib.summary.Summary'>\n",
       "\"\"\"\n",
       "                           Logit Regression Results                           \n",
       "==============================================================================\n",
       "Dep. Variable:              bcsvictim   No. Observations:                 8273\n",
       "Model:                          Logit   Df Residuals:                     8267\n",
       "Method:                           MLE   Df Model:                            5\n",
       "Date:                Tue, 31 May 2016   Pseudo R-squ.:                 0.03792\n",
       "Time:                        19:25:23   Log-Likelihood:                -3456.6\n",
       "converged:                       True   LL-Null:                       -3592.8\n",
       "                                        LLR p-value:                 8.126e-57\n",
       "===================================================================================\n",
       "                      coef    std err          z      P>|z|      [95.0% Conf. Int.]\n",
       "-----------------------------------------------------------------------------------\n",
       "Intercept          -0.5633      0.098     -5.723      0.000        -0.756    -0.370\n",
       "sex[T.2.0]         -0.2903      0.066     -4.365      0.000        -0.421    -0.160\n",
       "walkdark[T.2.0]     0.1737      0.078      2.232      0.026         0.021     0.326\n",
       "walkdark[T.3.0]     0.4961      0.092      5.401      0.000         0.316     0.676\n",
       "walkdark[T.4.0]     0.8068      0.112      7.195      0.000         0.587     1.027\n",
       "age                -0.0254      0.002    -14.661      0.000        -0.029    -0.022\n",
       "===================================================================================\n",
       "\"\"\""
      ]
     },
     "execution_count": 25,
     "metadata": {},
     "output_type": "execute_result"
    }
   ],
   "source": [
    "model3.summary()"
   ]
  },
  {
   "cell_type": "code",
   "execution_count": 26,
   "metadata": {
    "collapsed": false
   },
   "outputs": [
    {
     "data": {
      "text/html": [
       "<table class=\"simpletable\">\n",
       "<tr>\n",
       "        <td>Model:</td>              <td>Logit</td>      <td>Pseudo R-squared:</td>    <td>0.038</td>  \n",
       "</tr>\n",
       "<tr>\n",
       "  <td>Dependent Variable:</td>     <td>bcsvictim</td>          <td>AIC:</td>         <td>6925.1504</td>\n",
       "</tr>\n",
       "<tr>\n",
       "         <td>Date:</td>        <td>2016-05-31 19:25</td>       <td>BIC:</td>         <td>6967.2749</td>\n",
       "</tr>\n",
       "<tr>\n",
       "   <td>No. Observations:</td>        <td>8273</td>        <td>Log-Likelihood:</td>    <td>-3456.6</td> \n",
       "</tr>\n",
       "<tr>\n",
       "       <td>Df Model:</td>              <td>5</td>            <td>LL-Null:</td>        <td>-3592.8</td> \n",
       "</tr>\n",
       "<tr>\n",
       "     <td>Df Residuals:</td>          <td>8267</td>         <td>LLR p-value:</td>    <td>8.1258e-57</td>\n",
       "</tr>\n",
       "<tr>\n",
       "      <td>Converged:</td>           <td>1.0000</td>           <td>Scale:</td>         <td>1.0000</td>  \n",
       "</tr>\n",
       "<tr>\n",
       "    <td>No. Iterations:</td>        <td>6.0000</td>              <td></td>               <td></td>     \n",
       "</tr>\n",
       "</table>\n",
       "<table class=\"simpletable\">\n",
       "<tr>\n",
       "         <td></td>          <th>Coef.</th>  <th>Std.Err.</th>     <th>z</th>     <th>P>|z|</th> <th>[0.025</th>  <th>0.975]</th> \n",
       "</tr>\n",
       "<tr>\n",
       "  <th>Intercept</th>       <td>-0.5633</td>  <td>0.0984</td>   <td>-5.7225</td> <td>0.0000</td> <td>-0.7562</td> <td>-0.3704</td>\n",
       "</tr>\n",
       "<tr>\n",
       "  <th>sex[T.2.0]</th>      <td>-0.2903</td>  <td>0.0665</td>   <td>-4.3650</td> <td>0.0000</td> <td>-0.4206</td> <td>-0.1599</td>\n",
       "</tr>\n",
       "<tr>\n",
       "  <th>walkdark[T.2.0]</th> <td>0.1737</td>   <td>0.0778</td>   <td>2.2317</td>  <td>0.0256</td> <td>0.0211</td>  <td>0.3262</td> \n",
       "</tr>\n",
       "<tr>\n",
       "  <th>walkdark[T.3.0]</th> <td>0.4961</td>   <td>0.0919</td>   <td>5.4012</td>  <td>0.0000</td> <td>0.3161</td>  <td>0.6762</td> \n",
       "</tr>\n",
       "<tr>\n",
       "  <th>walkdark[T.4.0]</th> <td>0.8068</td>   <td>0.1121</td>   <td>7.1952</td>  <td>0.0000</td> <td>0.5870</td>  <td>1.0265</td> \n",
       "</tr>\n",
       "<tr>\n",
       "  <th>age</th>             <td>-0.0254</td>  <td>0.0017</td>  <td>-14.6611</td> <td>0.0000</td> <td>-0.0288</td> <td>-0.0220</td>\n",
       "</tr>\n",
       "</table>"
      ],
      "text/plain": [
       "<class 'statsmodels.iolib.summary2.Summary'>\n",
       "\"\"\"\n",
       "                         Results: Logit\n",
       "=================================================================\n",
       "Model:              Logit            Pseudo R-squared: 0.038     \n",
       "Dependent Variable: bcsvictim        AIC:              6925.1504 \n",
       "Date:               2016-05-31 19:25 BIC:              6967.2749 \n",
       "No. Observations:   8273             Log-Likelihood:   -3456.6   \n",
       "Df Model:           5                LL-Null:          -3592.8   \n",
       "Df Residuals:       8267             LLR p-value:      8.1258e-57\n",
       "Converged:          1.0000           Scale:            1.0000    \n",
       "No. Iterations:     6.0000                                       \n",
       "-----------------------------------------------------------------\n",
       "                  Coef.  Std.Err.    z     P>|z|   [0.025  0.975]\n",
       "-----------------------------------------------------------------\n",
       "Intercept        -0.5633   0.0984  -5.7225 0.0000 -0.7562 -0.3704\n",
       "sex[T.2.0]       -0.2903   0.0665  -4.3650 0.0000 -0.4206 -0.1599\n",
       "walkdark[T.2.0]   0.1737   0.0778   2.2317 0.0256  0.0211  0.3262\n",
       "walkdark[T.3.0]   0.4961   0.0919   5.4012 0.0000  0.3161  0.6762\n",
       "walkdark[T.4.0]   0.8068   0.1121   7.1952 0.0000  0.5870  1.0265\n",
       "age              -0.0254   0.0017 -14.6611 0.0000 -0.0288 -0.0220\n",
       "=================================================================\n",
       "\n",
       "\"\"\""
      ]
     },
     "execution_count": 26,
     "metadata": {},
     "output_type": "execute_result"
    }
   ],
   "source": [
    "model3.summary2()"
   ]
  },
  {
   "cell_type": "code",
   "execution_count": 28,
   "metadata": {
    "collapsed": false
   },
   "outputs": [
    {
     "data": {
      "text/plain": [
       "Intercept         -0.563300\n",
       "sex[T.2.0]        -0.290251\n",
       "walkdark[T.2.0]    0.173691\n",
       "walkdark[T.3.0]    0.496124\n",
       "walkdark[T.4.0]    0.806777\n",
       "age               -0.025363\n",
       "dtype: float64"
      ]
     },
     "execution_count": 28,
     "metadata": {},
     "output_type": "execute_result"
    }
   ],
   "source": [
    "model3.params"
   ]
  },
  {
   "cell_type": "code",
   "execution_count": 29,
   "metadata": {
    "collapsed": false
   },
   "outputs": [
    {
     "data": {
      "text/plain": [
       "Intercept          1.049420e-08\n",
       "sex[T.2.0]         1.271222e-05\n",
       "walkdark[T.2.0]    2.563387e-02\n",
       "walkdark[T.3.0]    6.620757e-08\n",
       "walkdark[T.4.0]    6.236168e-13\n",
       "age                1.143608e-48\n",
       "dtype: float64"
      ]
     },
     "execution_count": 29,
     "metadata": {},
     "output_type": "execute_result"
    }
   ],
   "source": [
    "model3.pvalues"
   ]
  },
  {
   "cell_type": "code",
   "execution_count": 30,
   "metadata": {
    "collapsed": false
   },
   "outputs": [
    {
     "data": {
      "text/html": [
       "<div>\n",
       "<table border=\"1\" class=\"dataframe\">\n",
       "  <thead>\n",
       "    <tr style=\"text-align: right;\">\n",
       "      <th></th>\n",
       "      <th>0</th>\n",
       "      <th>1</th>\n",
       "    </tr>\n",
       "  </thead>\n",
       "  <tbody>\n",
       "    <tr>\n",
       "      <th>Intercept</th>\n",
       "      <td>-0.756229</td>\n",
       "      <td>-0.370370</td>\n",
       "    </tr>\n",
       "    <tr>\n",
       "      <th>sex[T.2.0]</th>\n",
       "      <td>-0.420580</td>\n",
       "      <td>-0.159923</td>\n",
       "    </tr>\n",
       "    <tr>\n",
       "      <th>walkdark[T.2.0]</th>\n",
       "      <td>0.021150</td>\n",
       "      <td>0.326233</td>\n",
       "    </tr>\n",
       "    <tr>\n",
       "      <th>walkdark[T.3.0]</th>\n",
       "      <td>0.316092</td>\n",
       "      <td>0.676156</td>\n",
       "    </tr>\n",
       "    <tr>\n",
       "      <th>walkdark[T.4.0]</th>\n",
       "      <td>0.587012</td>\n",
       "      <td>1.026542</td>\n",
       "    </tr>\n",
       "    <tr>\n",
       "      <th>age</th>\n",
       "      <td>-0.028753</td>\n",
       "      <td>-0.021972</td>\n",
       "    </tr>\n",
       "  </tbody>\n",
       "</table>\n",
       "</div>"
      ],
      "text/plain": [
       "                        0         1\n",
       "Intercept       -0.756229 -0.370370\n",
       "sex[T.2.0]      -0.420580 -0.159923\n",
       "walkdark[T.2.0]  0.021150  0.326233\n",
       "walkdark[T.3.0]  0.316092  0.676156\n",
       "walkdark[T.4.0]  0.587012  1.026542\n",
       "age             -0.028753 -0.021972"
      ]
     },
     "execution_count": 30,
     "metadata": {},
     "output_type": "execute_result"
    }
   ],
   "source": [
    "model3.conf_int()"
   ]
  },
  {
   "cell_type": "code",
   "execution_count": 31,
   "metadata": {
    "collapsed": false
   },
   "outputs": [
    {
     "data": {
      "text/plain": [
       "0.037922896078276036"
      ]
     },
     "execution_count": 31,
     "metadata": {},
     "output_type": "execute_result"
    }
   ],
   "source": [
    "#pseudo R squared tells us model is not very predictive, doesn't capture alot of the variability\n",
    "model3.prsquared"
   ]
  },
  {
   "cell_type": "code",
   "execution_count": 32,
   "metadata": {
    "collapsed": false
   },
   "outputs": [
    {
     "data": {
      "text/plain": [
       "Intercept          0.569327\n",
       "sex[T.2.0]         0.748075\n",
       "walkdark[T.2.0]    1.189688\n",
       "walkdark[T.3.0]    1.642343\n",
       "walkdark[T.4.0]    2.240675\n",
       "age                0.974956\n",
       "dtype: float64"
      ]
     },
     "execution_count": 32,
     "metadata": {},
     "output_type": "execute_result"
    }
   ],
   "source": [
    "np.exp(model3.params)"
   ]
  },
  {
   "cell_type": "code",
   "execution_count": null,
   "metadata": {
    "collapsed": true
   },
   "outputs": [],
   "source": []
  }
 ],
 "metadata": {
  "kernelspec": {
   "display_name": "Python 3",
   "language": "python",
   "name": "python3"
  },
  "language_info": {
   "codemirror_mode": {
    "name": "ipython",
    "version": 3
   },
   "file_extension": ".py",
   "mimetype": "text/x-python",
   "name": "python",
   "nbconvert_exporter": "python",
   "pygments_lexer": "ipython3",
   "version": "3.5.1"
  }
 },
 "nbformat": 4,
 "nbformat_minor": 0
}
