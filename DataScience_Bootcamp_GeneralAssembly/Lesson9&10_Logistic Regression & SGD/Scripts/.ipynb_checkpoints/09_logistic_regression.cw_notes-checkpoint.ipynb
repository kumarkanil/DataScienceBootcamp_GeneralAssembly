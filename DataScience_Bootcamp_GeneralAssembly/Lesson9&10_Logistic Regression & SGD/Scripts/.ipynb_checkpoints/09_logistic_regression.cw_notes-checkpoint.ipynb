{
 "cells": [
  {
   "cell_type": "code",
   "execution_count": 1,
   "metadata": {
    "collapsed": true
   },
   "outputs": [],
   "source": [
    "#!/usr/bin/env python\n",
    "\n",
    "'''\n",
    "GA Data Science Q2 2016\n",
    "\n",
    "Code walk-through 9: Logistic regression using scikit-learn\n",
    "\n",
    "* Logistic regression\n",
    "* Confusion matrix and performance metrics\n",
    "* Visualising the effect of covariates\n",
    "* ROC analysis\n",
    "* Cross-validation\n",
    "* Regularisation\n",
    "* Variable (feature) selection\n",
    "* Multiple classes\n",
    "* Stochastic gradient descent\n",
    "'''\n",
    "\n",
    "import numpy as np\n",
    "import pandas as pd\n",
    "\n",
    "from sklearn import linear_model as lm, metrics, cross_validation as cv,\\\n",
    "                    grid_search, feature_selection, preprocessing\n",
    "\n",
    "from sklearn.pipeline import Pipeline\n",
    "\n",
    "import matplotlib.pyplot as plt\n",
    "import seaborn as sns\n",
    "\n",
    "%matplotlib inline"
   ]
  },
  {
   "cell_type": "code",
   "execution_count": 36,
   "metadata": {
    "collapsed": false
   },
   "outputs": [],
   "source": [
    "# Original publication: http://dx.doi.org/10.1371/journal.pone.0137524\n",
    "# Dataset: http://dx.doi.org/10.5061/dryad.8jq92\n",
    "\n",
    "#GLIOMA_URL = 'http://datadryad.org/bitstream/handle/10255/dryad.88928/An%20eighteen%20serum%20cytokine%20signature%20for%20discriminating%20glioma%20from%20normal%20healthy%20individuals%20raw%20data.xlsx?sequence=1'\n",
    "\n",
    "glioma = pd.read_excel('../../Data/glioma.xlsx')"
   ]
  },
  {
   "cell_type": "code",
   "execution_count": 37,
   "metadata": {
    "collapsed": true
   },
   "outputs": [],
   "source": [
    "# Transpose DataFrame so that measurements are in columns\n",
    "glioma = glioma.transpose()"
   ]
  },
  {
   "cell_type": "code",
   "execution_count": 62,
   "metadata": {
    "collapsed": false
   },
   "outputs": [
    {
     "data": {
      "text/plain": [
       "220"
      ]
     },
     "execution_count": 62,
     "metadata": {},
     "output_type": "execute_result"
    }
   ],
   "source": [
    "len(glioma)"
   ]
  },
  {
   "cell_type": "code",
   "execution_count": 38,
   "metadata": {
    "collapsed": true
   },
   "outputs": [],
   "source": [
    "# Set first row as column names, then drop it\n",
    "glioma.columns = glioma.iloc[0]\n",
    "glioma.columns.name = ''\n",
    "glioma = glioma.reindex(glioma.index.drop('sample'))"
   ]
  },
  {
   "cell_type": "code",
   "execution_count": 39,
   "metadata": {
    "collapsed": true
   },
   "outputs": [],
   "source": [
    "# Extract cytokine measurements, when reading in file the data was of typestring so need to convert to numeric\n",
    "X = glioma.iloc[:,1:].apply(pd.to_numeric, axis=1)"
   ]
  },
  {
   "cell_type": "code",
   "execution_count": 40,
   "metadata": {
    "collapsed": true
   },
   "outputs": [],
   "source": [
    "# Apply logarithmic transformation to each measurement, data heavily skewed so log transform\n",
    "X = X.apply(np.log, axis=1)"
   ]
  },
  {
   "cell_type": "code",
   "execution_count": 41,
   "metadata": {
    "collapsed": true
   },
   "outputs": [],
   "source": [
    "# Dichotomise outcome: GBM versus rest\n",
    "# \n",
    "# DA  = Diffuse Astrocytoma (grade II)\n",
    "# AA  = Anaplastic Astrocytoma (grade III)\n",
    "# GBM = Glioblastoma Multiforme (grade IV)\n",
    "y = glioma.Type == 'GBM'"
   ]
  },
  {
   "cell_type": "code",
   "execution_count": 42,
   "metadata": {
    "collapsed": false
   },
   "outputs": [
    {
     "data": {
      "text/plain": [
       "LogisticRegression(C=1e+50, class_weight=None, dual=False, fit_intercept=True,\n",
       "          intercept_scaling=1, max_iter=100, multi_class='ovr', n_jobs=1,\n",
       "          penalty='l2', random_state=None, solver='liblinear', tol=0.0001,\n",
       "          verbose=0, warm_start=False)"
      ]
     },
     "execution_count": 42,
     "metadata": {},
     "output_type": "execute_result"
    }
   ],
   "source": [
    "'''\n",
    "Logistic regression\n",
    "'''\n",
    "\n",
    "# Fit the model\n",
    "# NOTE: By default, sklearn uses L2 regularisation with parameter C (default = 1)\n",
    "#       This cannot be disabled, but we can set C so big that it has little effect\n",
    "model1 = lm.LogisticRegression(C=1e50)\n",
    "model1.fit(X, y)"
   ]
  },
  {
   "cell_type": "code",
   "execution_count": 43,
   "metadata": {
    "collapsed": false
   },
   "outputs": [
    {
     "data": {
      "text/plain": [
       "array([ 2.59949456])"
      ]
     },
     "execution_count": 43,
     "metadata": {},
     "output_type": "execute_result"
    }
   ],
   "source": [
    "# Print regression coefficients\n",
    "model1.intercept_"
   ]
  },
  {
   "cell_type": "code",
   "execution_count": 44,
   "metadata": {
    "collapsed": false
   },
   "outputs": [
    {
     "data": {
      "text/plain": [
       "array([[  0.31989211,  -6.70177763,  20.25049367,  -4.8489631 ,\n",
       "         -5.03874662,  -4.539034  ,   5.7627634 ,  -1.17598047,\n",
       "          1.98843595,  -0.37443012,  19.80918351, -11.33469017,\n",
       "         -9.20477673,   3.39438239,  -5.08642153,  -0.05613427,\n",
       "          2.52294579,  -8.8707485 ,   0.4423501 , -15.78216613,\n",
       "         -9.11475571,   6.82621874,   9.16911833, -27.69823161,\n",
       "         20.1019263 ,   0.73440316,  -7.06651743,   9.7135509 ,\n",
       "         -0.47771477,  -2.1365903 ,   0.1013538 ,  -3.34811956,\n",
       "         -0.14641256, -10.37591714,   5.07905043,   6.40203872,\n",
       "         -0.62657915,   3.5457269 ,  -5.47381159,   9.93346688,\n",
       "         -0.70910501,  13.36479861,  -9.57943834,  -5.91511047,\n",
       "          2.02765246,  -2.37009197,   3.74160357,  -3.18755849]])"
      ]
     },
     "execution_count": 44,
     "metadata": {},
     "output_type": "execute_result"
    }
   ],
   "source": [
    "model1.coef_"
   ]
  },
  {
   "cell_type": "code",
   "execution_count": 45,
   "metadata": {
    "collapsed": false
   },
   "outputs": [
    {
     "data": {
      "text/plain": [
       "array([[  1.37697919e+00,   1.22872574e-03,   6.23272054e+08,\n",
       "          7.83649900e-03,   6.48186744e-03,   1.06837220e-02,\n",
       "          3.18226502e+02,   3.08516339e-01,   7.30410085e+00,\n",
       "          6.87681066e-01,   4.00884339e+08,   1.19510649e-05,\n",
       "          1.00557915e-04,   2.97962454e+01,   6.18009567e-03,\n",
       "          9.45412188e-01,   1.24652626e+01,   1.40437431e-04,\n",
       "          1.55636052e+00,   1.39924040e-07,   1.10030198e-04,\n",
       "          9.21699033e+02,   9.59616033e+03,   9.34998370e-13,\n",
       "          5.37224321e+08,   2.08423766e+00,   8.53199271e-04,\n",
       "          1.65402305e+04,   6.20199070e-01,   1.18056695e-01,\n",
       "          1.10666811e+00,   3.51503901e-02,   8.63801257e-01,\n",
       "          3.11742808e-05,   1.60621463e+02,   6.03073280e+02,\n",
       "          5.34416840e-01,   3.46648739e+01,   4.19521122e-03,\n",
       "          2.06086647e+04,   4.92084410e-01,   6.37174356e+05,\n",
       "          6.91357679e-05,   2.69836170e-03,   7.59623292e+00,\n",
       "          9.34721294e-02,   4.21655514e+01,   4.12725152e-02]])"
      ]
     },
     "execution_count": 45,
     "metadata": {},
     "output_type": "execute_result"
    }
   ],
   "source": [
    "# Print odds ratios\n",
    "np.exp(model1.intercept_)\n",
    "np.exp(model1.coef_)"
   ]
  },
  {
   "cell_type": "code",
   "execution_count": 46,
   "metadata": {
    "collapsed": false
   },
   "outputs": [
    {
     "data": {
      "text/plain": [
       "array([[ 72,   0],\n",
       "       [  0, 148]])"
      ]
     },
     "execution_count": 46,
     "metadata": {},
     "output_type": "execute_result"
    }
   ],
   "source": [
    "'''\n",
    "Confusion matrix and performance metrics\n",
    "'''\n",
    "# Top right, failing to refer this amount of epople who have cancer and bottom left; people we flag who don't have cancer\n",
    "# Confusion matrix\n",
    "metrics.confusion_matrix(y, model1.predict(X))"
   ]
  },
  {
   "cell_type": "code",
   "execution_count": 47,
   "metadata": {
    "collapsed": false
   },
   "outputs": [
    {
     "data": {
      "text/plain": [
       "1.0"
      ]
     },
     "execution_count": 47,
     "metadata": {},
     "output_type": "execute_result"
    }
   ],
   "source": [
    "# Classification accuracy\n",
    "metrics.accuracy_score(y, model1.predict(X))"
   ]
  },
  {
   "cell_type": "code",
   "execution_count": 48,
   "metadata": {
    "collapsed": false
   },
   "outputs": [
    {
     "name": "stdout",
     "output_type": "stream",
     "text": [
      "             precision    recall  f1-score   support\n",
      "\n",
      "      False       1.00      1.00      1.00        72\n",
      "       True       1.00      1.00      1.00       148\n",
      "\n",
      "avg / total       1.00      1.00      1.00       220\n",
      "\n"
     ]
    }
   ],
   "source": [
    "# Classification report\n",
    "print(metrics.classification_report(y, model1.predict(X)))"
   ]
  },
  {
   "cell_type": "code",
   "execution_count": 49,
   "metadata": {
    "collapsed": true
   },
   "outputs": [],
   "source": [
    "# when have varibale that is not continuious, you have to convert to dummy, \n",
    "#but sklearn doesn't do this automatically so need to get_dummiesfrom pd"
   ]
  },
  {
   "cell_type": "code",
   "execution_count": 50,
   "metadata": {
    "collapsed": false
   },
   "outputs": [
    {
     "data": {
      "text/plain": [
       "<matplotlib.axes._subplots.AxesSubplot at 0xb9b4940>"
      ]
     },
     "execution_count": 50,
     "metadata": {},
     "output_type": "execute_result"
    },
    {
     "data": {
      "image/png": "[encoded data removed]",
      "text/plain": [
       "<matplotlib.figure.Figure at 0xb9b4390>"
      ]
     },
     "metadata": {},
     "output_type": "display_data"
    }
   ],
   "source": [
    "'''\n",
    "Visualising the effect of covariates\n",
    "'''\n",
    "\n",
    "# Scatter plot of IL-6 with regression line\n",
    "sns.regplot(X['IL6'], y, logistic=True)"
   ]
  },
  {
   "cell_type": "code",
   "execution_count": 51,
   "metadata": {
    "collapsed": true
   },
   "outputs": [],
   "source": [
    "# Define a set of evenly spaced IL-6 levels\n",
    "# Create fake il6 values, different so we can plot them\n",
    "il6_levels = np.linspace(8, 12, 100)"
   ]
  },
  {
   "cell_type": "code",
   "execution_count": 52,
   "metadata": {
    "collapsed": true
   },
   "outputs": [],
   "source": [
    "# Create a new array and fill it with:\n",
    "# * the IL-6 levels defined above\n",
    "# * the average observed concentrations of all other cytokines in controls\n",
    "# empyt matix, put values I simulated above or just the mean of the variables\n",
    "X2 = np.zeros((il6_levels.size, X.shape[1]))\n",
    "\n",
    "for i in range(X.shape[1]):\n",
    "    if i == np.where(X.columns == 'IL6')[0][0]:\n",
    "        X2[:,i] = il6_levels\n",
    "    else:\n",
    "        X2[:,i] = X.ix[y == 0,i].mean()"
   ]
  },
  {
   "cell_type": "code",
   "execution_count": 55,
   "metadata": {
    "collapsed": true
   },
   "outputs": [],
   "source": [
    "# Compute predicted probabilities for GBM (y = 1) using the new array\n",
    "# predict proba automatically returns probaility\n",
    "# predict returns odd, predict log_proba you have to take exponential\n",
    "# population avaergae for all other variables and then changing IL6 levels to see its effect i.e. if everything was avergage\n",
    "# whats the impact of a single variable\n",
    "# predict proa returns 2 sets of probability, one for each type of binary outcome\n",
    "il6_pred_probs = model1.predict_proba(X2)[:,1]"
   ]
  },
  {
   "cell_type": "code",
   "execution_count": 54,
   "metadata": {
    "collapsed": false
   },
   "outputs": [
    {
     "data": {
      "text/plain": [
       "[<matplotlib.lines.Line2D at 0xbaca278>]"
      ]
     },
     "execution_count": 54,
     "metadata": {},
     "output_type": "execute_result"
    },
    {
     "data": {
      "image/png": "[encoded data removed]",
      "text/plain": [
       "<matplotlib.figure.Figure at 0xba7ac50>"
      ]
     },
     "metadata": {},
     "output_type": "display_data"
    }
   ],
   "source": [
    "# Plot against IL-6 levels\n",
    "plt.plot(il6_levels, il6_pred_probs)"
   ]
  },
  {
   "cell_type": "code",
   "execution_count": 57,
   "metadata": {
    "collapsed": false,
    "scrolled": true
   },
   "outputs": [
    {
     "data": {
      "text/plain": [
       "array([  1.24743723e-22,   3.33526819e-04,   7.46648669e-04,\n",
       "         5.08071668e-28,   4.42085864e-09,   9.50096079e-09,\n",
       "         1.64185967e-26,   1.48734177e-04,   5.34603935e-12,\n",
       "         5.75301936e-28,   5.33566065e-09,   1.01746458e-03,\n",
       "         1.10643657e-13,   1.99182130e-37,   6.16268679e-04,\n",
       "         6.34988265e-14,   1.19017042e-23,   2.87052240e-11,\n",
       "         7.74959844e-20,   4.64871761e-04,   1.66591709e-04,\n",
       "         2.80604310e-15,   1.15460023e-03,   2.43955796e-05,\n",
       "         9.75710971e-34,   3.22617685e-30,   4.29480557e-60,\n",
       "         1.37432246e-44,   3.21143529e-40,   2.88929415e-04,\n",
       "         3.90833196e-53,   2.31643910e-09,   6.06988125e-04,\n",
       "         5.79594206e-15,   3.91766832e-04,   2.85293453e-17,\n",
       "         1.15530127e-30,   6.70469131e-07,   9.46461486e-14,\n",
       "         4.09276568e-12,   2.90287318e-04,   2.07601370e-24,\n",
       "         2.60642203e-25,   1.06144730e-09,   1.29043959e-55,\n",
       "         1.44324619e-15,   9.99999059e-01,   1.00000000e+00,\n",
       "         9.99903311e-01,   1.00000000e+00,   1.00000000e+00,\n",
       "         1.00000000e+00,   1.00000000e+00,   1.00000000e+00,\n",
       "         9.99413756e-01,   1.00000000e+00,   1.00000000e+00,\n",
       "         1.00000000e+00,   9.99674185e-01,   9.99804778e-01,\n",
       "         9.99999991e-01,   9.99384221e-01,   9.99436124e-01,\n",
       "         1.00000000e+00,   1.00000000e+00,   1.00000000e+00,\n",
       "         1.00000000e+00,   9.99654953e-01,   1.00000000e+00,\n",
       "         1.00000000e+00,   1.00000000e+00,   9.99999705e-01,\n",
       "         1.00000000e+00,   9.99999997e-01,   1.00000000e+00,\n",
       "         1.00000000e+00,   1.00000000e+00,   1.00000000e+00,\n",
       "         9.99998744e-01,   1.00000000e+00,   1.00000000e+00,\n",
       "         9.99952966e-01,   1.00000000e+00,   1.00000000e+00,\n",
       "         1.00000000e+00,   1.00000000e+00,   1.00000000e+00,\n",
       "         9.99999847e-01,   9.98741594e-01,   9.99992968e-01,\n",
       "         9.99792894e-01,   1.00000000e+00,   9.99487474e-01,\n",
       "         1.00000000e+00,   1.00000000e+00,   1.00000000e+00,\n",
       "         1.00000000e+00,   1.00000000e+00,   9.99995858e-01,\n",
       "         1.00000000e+00,   9.99992747e-01,   1.00000000e+00,\n",
       "         1.00000000e+00,   1.00000000e+00,   1.00000000e+00,\n",
       "         9.99999945e-01,   1.00000000e+00,   1.00000000e+00,\n",
       "         1.00000000e+00,   9.99998703e-01,   9.99994979e-01,\n",
       "         9.99906891e-01,   9.99604258e-01,   1.00000000e+00,\n",
       "         1.00000000e+00,   1.00000000e+00,   9.99999463e-01,\n",
       "         9.99166681e-01,   1.00000000e+00,   1.00000000e+00,\n",
       "         1.00000000e+00,   1.00000000e+00,   1.00000000e+00,\n",
       "         1.00000000e+00,   9.99963157e-01,   1.00000000e+00,\n",
       "         1.00000000e+00,   9.99672678e-01,   1.00000000e+00,\n",
       "         1.00000000e+00,   1.00000000e+00,   1.00000000e+00,\n",
       "         9.99653665e-01,   9.99702414e-01,   9.99797208e-01,\n",
       "         1.00000000e+00,   1.00000000e+00,   1.00000000e+00,\n",
       "         1.00000000e+00,   1.00000000e+00,   9.99798652e-01,\n",
       "         1.00000000e+00,   1.00000000e+00,   1.00000000e+00,\n",
       "         1.00000000e+00,   9.98800695e-01,   9.99999999e-01,\n",
       "         9.99996532e-01,   1.00000000e+00,   1.00000000e+00,\n",
       "         1.00000000e+00,   9.99999396e-01,   9.99785402e-01,\n",
       "         1.00000000e+00,   1.00000000e+00,   1.00000000e+00,\n",
       "         1.00000000e+00,   1.00000000e+00,   1.00000000e+00,\n",
       "         1.00000000e+00,   1.00000000e+00,   1.00000000e+00,\n",
       "         9.99999850e-01,   1.00000000e+00,   1.00000000e+00,\n",
       "         1.00000000e+00,   1.00000000e+00,   1.00000000e+00,\n",
       "         1.00000000e+00,   1.00000000e+00,   1.00000000e+00,\n",
       "         1.00000000e+00,   1.00000000e+00,   1.00000000e+00,\n",
       "         1.00000000e+00,   1.00000000e+00,   1.00000000e+00,\n",
       "         1.00000000e+00,   1.00000000e+00,   1.00000000e+00,\n",
       "         1.00000000e+00,   1.00000000e+00,   9.99537400e-01,\n",
       "         1.00000000e+00,   1.00000000e+00,   9.99999964e-01,\n",
       "         1.00000000e+00,   1.00000000e+00,   9.99952610e-01,\n",
       "         1.00000000e+00,   1.00000000e+00,   9.99989445e-01,\n",
       "         1.00000000e+00,   1.00000000e+00,   6.99754325e-04,\n",
       "         3.13604565e-21,   6.32309964e-06,   5.41796745e-04,\n",
       "         2.45818185e-46,   5.65964572e-06,   1.21012421e-07,\n",
       "         1.54775134e-07,   9.76240916e-09,   3.82233572e-85,\n",
       "         1.07983212e-19,   8.05399118e-13,   2.19012589e-10,\n",
       "         4.84328298e-25,   3.52629657e-21,   3.57329930e-11,\n",
       "         1.95422600e-80,   5.32022339e-12,   2.00941701e-26,\n",
       "         2.40980666e-04,   2.64861780e-22,   7.09987854e-04,\n",
       "         4.90213889e-44,   1.92366871e-28,   2.24389422e-44,\n",
       "         3.63464218e-04])"
      ]
     },
     "execution_count": 57,
     "metadata": {},
     "output_type": "execute_result"
    }
   ],
   "source": [
    "'''\n",
    "ROC analysis, sensitivyt plotted again specificity \n",
    "'''\n",
    "\n",
    "# Compute predicted probabilities for GBM (y = 1)\n",
    "pred_probs = model1.predict_proba(X)[:,1]\n",
    "pred_probs"
   ]
  },
  {
   "cell_type": "code",
   "execution_count": 59,
   "metadata": {
    "collapsed": true
   },
   "outputs": [],
   "source": [
    "# Confirm that model predictions assume a 50% cut-off value\n",
    "# anything above 50% has brain cancer this is equivelnt to model prediction, below does not\n",
    "assert(np.all((pred_probs >= 0.5) == model1.predict(X)))"
   ]
  },
  {
   "cell_type": "code",
   "execution_count": 60,
   "metadata": {
    "collapsed": false
   },
   "outputs": [
    {
     "data": {
      "text/plain": [
       "<matplotlib.axes._subplots.AxesSubplot at 0xba9bc18>"
      ]
     },
     "execution_count": 60,
     "metadata": {},
     "output_type": "execute_result"
    },
    {
     "data": {
      "image/png": "[encoded data removed]",
      "text/plain": [
       "<matplotlib.figure.Figure at 0xbad4d30>"
      ]
     },
     "metadata": {},
     "output_type": "display_data"
    }
   ],
   "source": [
    "# Visualise distribution\n",
    "# plotting 220 predicted cases in the model\n",
    "sns.distplot(pred_probs)"
   ]
  },
  {
   "cell_type": "code",
   "execution_count": 61,
   "metadata": {
    "collapsed": true
   },
   "outputs": [],
   "source": [
    "# Define a set of cut-off values where sensitivity and specificity will be computed; every 1000 points\n",
    "# ROC cureve graph, if you never accept anyone to have bc then top right but if you have a low acceptance criteria i.e\n",
    "# sensitivity = 0, specificity = 1, then bottom left\n",
    "cutoffs = np.linspace(0, 1, 1001)"
   ]
  },
  {
   "cell_type": "code",
   "execution_count": 66,
   "metadata": {
    "collapsed": true
   },
   "outputs": [],
   "source": [
    "# Define a function to compute specificity\n",
    "def specificity_score(y_true, y_pred):\n",
    "    cm = metrics.confusion_matrix(y_true, y_pred)\n",
    "    return cm[0,0] / cm[0,:].sum()"
   ]
  },
  {
   "cell_type": "code",
   "execution_count": 67,
   "metadata": {
    "collapsed": true
   },
   "outputs": [],
   "source": [
    "# Compute sensitivity and specificity at the cut-off values defined above\n",
    "sensitivities = np.zeros(cutoffs.size)\n",
    "specificities = np.zeros(cutoffs.size)\n",
    "for i, cutoff in enumerate(cutoffs):\n",
    "    sensitivities[i] = metrics.recall_score(y, pred_probs >= cutoff)\n",
    "    specificities[i] = specificity_score(y, pred_probs >= cutoff)"
   ]
  },
  {
   "cell_type": "code",
   "execution_count": 68,
   "metadata": {
    "collapsed": false
   },
   "outputs": [
    {
     "data": {
      "text/plain": [
       "[<matplotlib.lines.Line2D at 0xbb6ae10>]"
      ]
     },
     "execution_count": 68,
     "metadata": {},
     "output_type": "execute_result"
    },
    {
     "data": {
      "image/png": "[encoded data removed]",
      "text/plain": [
       "<matplotlib.figure.Figure at 0xb0d55c0>"
      ]
     },
     "metadata": {},
     "output_type": "display_data"
    }
   ],
   "source": [
    "# Plot the ROC curve, i.e. sensitivity versus (1 - specificity)\n",
    "# if you want to be more willing to accept more false posities i.e. falsely flag people who dont have cancer \n",
    "# you can changethis level by pred_probs>=0.05\n",
    "#then lower sensitvty and higher specificty\n",
    "plt.plot(1 - specificities, sensitivities)"
   ]
  },
  {
   "cell_type": "code",
   "execution_count": 69,
   "metadata": {
    "collapsed": false
   },
   "outputs": [
    {
     "data": {
      "text/plain": [
       "[<matplotlib.lines.Line2D at 0xbbd6e48>]"
      ]
     },
     "execution_count": 69,
     "metadata": {},
     "output_type": "execute_result"
    },
    {
     "data": {
      "image/png": "[encoded data removed]",
      "text/plain": [
       "<matplotlib.figure.Figure at 0xbb88550>"
      ]
     },
     "metadata": {},
     "output_type": "display_data"
    }
   ],
   "source": [
    "# Alternatively…\n",
    "# (FPR = 1 - specificity; TPR = sensitivity)\n",
    "fpr, tpr, cutoffs = metrics.roc_curve(y, pred_probs)\n",
    "plt.plot(fpr, tpr)"
   ]
  },
  {
   "cell_type": "code",
   "execution_count": 70,
   "metadata": {
    "collapsed": false
   },
   "outputs": [
    {
     "data": {
      "text/plain": [
       "1.0"
      ]
     },
     "execution_count": 70,
     "metadata": {},
     "output_type": "execute_result"
    }
   ],
   "source": [
    "# Compute area under the ROC curve (AUC)\n",
    "metrics.roc_auc_score(y, pred_probs)"
   ]
  },
  {
   "cell_type": "code",
   "execution_count": 71,
   "metadata": {
    "collapsed": false
   },
   "outputs": [
    {
     "data": {
      "text/plain": [
       "0.83659619450317124"
      ]
     },
     "execution_count": 71,
     "metadata": {},
     "output_type": "execute_result"
    }
   ],
   "source": [
    "'''\n",
    "Cross-validation\n",
    "'''\n",
    "\n",
    "# Define stratified folds\n",
    "kf = cv.StratifiedKFold(y, n_folds=5, shuffle=True)\n",
    "\n",
    "# Compute average classification accuracy across folds\n",
    "accuracies = cv.cross_val_score(lm.LogisticRegression(C=1e50),\\\n",
    "                                X, y, scoring='accuracy', cv=kf)\n",
    "np.mean(accuracies)"
   ]
  },
  {
   "cell_type": "code",
   "execution_count": 72,
   "metadata": {
    "collapsed": false
   },
   "outputs": [
    {
     "data": {
      "text/plain": [
       "array([ 0.8       ,  0.8       ,  0.93181818,  0.81395349,  0.8372093 ])"
      ]
     },
     "execution_count": 72,
     "metadata": {},
     "output_type": "execute_result"
    }
   ],
   "source": [
    "#looking at the accuracies per fold\n",
    "accuracies"
   ]
  },
  {
   "cell_type": "code",
   "execution_count": 73,
   "metadata": {
    "collapsed": false
   },
   "outputs": [
    {
     "data": {
      "text/plain": [
       "0.92791680350301031"
      ]
     },
     "execution_count": 73,
     "metadata": {},
     "output_type": "execute_result"
    }
   ],
   "source": [
    "# Compute average AUC across folds\n",
    "# change scoring to see area undeer curve\n",
    "aucs = cv.cross_val_score(lm.LogisticRegression(C=1e50),\\\n",
    "                          X, y, scoring='roc_auc', cv=kf)\n",
    "np.mean(aucs)"
   ]
  },
  {
   "cell_type": "code",
   "execution_count": 74,
   "metadata": {
    "collapsed": true
   },
   "outputs": [
    {
     "data": {
      "text/plain": [
       "GridSearchCV(cv=sklearn.cross_validation.StratifiedKFold(labels=[False False ..., False False], n_folds=5, shuffle=True, random_state=None),\n",
       "       error_score='raise',\n",
       "       estimator=LogisticRegression(C=1.0, class_weight=None, dual=False, fit_intercept=True,\n",
       "          intercept_scaling=1, max_iter=100, multi_class='ovr', n_jobs=1,\n",
       "          penalty='l2', random_state=None, solver='liblinear', tol=0.0001,\n",
       "          verbose=0, warm_start=False),\n",
       "       fit_params={}, iid=True, n_jobs=1,\n",
       "       param_grid={'C': array([  1.00000e-04,   7.74264e-04,   5.99484e-03,   4.64159e-02,\n",
       "         3.59381e-01,   2.78256e+00,   2.15443e+01,   1.66810e+02,\n",
       "         1.29155e+03,   1.00000e+04])},\n",
       "       pre_dispatch='2*n_jobs', refit=True, scoring='roc_auc', verbose=0)"
      ]
     },
     "execution_count": 74,
     "metadata": {},
     "output_type": "execute_result"
    }
   ],
   "source": [
    "'''\n",
    "Regularisation\n",
    "'''\n",
    "# minimise error, and add penalty (alpha) through regularisation, penalty depends on regression coefficent; so increases\n",
    "# with higher number of variables L1 Absolute error, L2 squared error\n",
    "# in sklearn alpha = 1/c, so if C is big alpha goes to zero\n",
    "# change scoring dependant on problem, in this problem assuming fp and fn have the same cost so finding best AUC\n",
    "# but could be anything such as accuracy\n",
    "\n",
    "# Determine ‘optimal’ value of C by cross-validation using AUC scoring\n",
    "# (sklearn uses L2 regularisation by default)\n",
    "Cs = np.logspace(-4, 4, 10)\n",
    "gs = grid_search.GridSearchCV(\n",
    "    estimator=lm.LogisticRegression(),\n",
    "    param_grid={'C': Cs},\n",
    "    scoring='roc_auc',\n",
    "    cv=kf\n",
    ")\n",
    "gs.fit(X, y)"
   ]
  },
  {
   "cell_type": "code",
   "execution_count": 75,
   "metadata": {
    "collapsed": false
   },
   "outputs": [
    {
     "data": {
      "text/plain": [
       "0.95607254814151366"
      ]
     },
     "execution_count": 75,
     "metadata": {},
     "output_type": "execute_result"
    }
   ],
   "source": [
    "gs.best_score_"
   ]
  },
  {
   "cell_type": "code",
   "execution_count": 76,
   "metadata": {
    "collapsed": false
   },
   "outputs": [
    {
     "data": {
      "text/plain": [
       "LogisticRegression(C=0.35938136638046259, class_weight=None, dual=False,\n",
       "          fit_intercept=True, intercept_scaling=1, max_iter=100,\n",
       "          multi_class='ovr', n_jobs=1, penalty='l2', random_state=None,\n",
       "          solver='liblinear', tol=0.0001, verbose=0, warm_start=False)"
      ]
     },
     "execution_count": 76,
     "metadata": {},
     "output_type": "execute_result"
    }
   ],
   "source": [
    "gs.best_estimator_"
   ]
  },
  {
   "cell_type": "code",
   "execution_count": 77,
   "metadata": {
    "collapsed": false
   },
   "outputs": [
    {
     "data": {
      "text/plain": [
       "[mean: 0.63999, std: 0.07745, params: {'C': 0.0001},\n",
       " mean: 0.82632, std: 0.06278, params: {'C': 0.00077426368268112698},\n",
       " mean: 0.91811, std: 0.01084, params: {'C': 0.0059948425031894088},\n",
       " mean: 0.94983, std: 0.00582, params: {'C': 0.046415888336127774},\n",
       " mean: 0.95607, std: 0.01082, params: {'C': 0.35938136638046259},\n",
       " mean: 0.95167, std: 0.01935, params: {'C': 2.7825594022071258},\n",
       " mean: 0.94025, std: 0.02175, params: {'C': 21.544346900318821},\n",
       " mean: 0.93411, std: 0.02363, params: {'C': 166.81005372000558},\n",
       " mean: 0.93173, std: 0.02330, params: {'C': 1291.5496650148827},\n",
       " mean: 0.92981, std: 0.02352, params: {'C': 10000.0}]"
      ]
     },
     "execution_count": 77,
     "metadata": {},
     "output_type": "execute_result"
    }
   ],
   "source": [
    "gs.grid_scores_"
   ]
  },
  {
   "cell_type": "code",
   "execution_count": 78,
   "metadata": {
    "collapsed": false
   },
   "outputs": [
    {
     "data": {
      "text/plain": [
       "[<matplotlib.lines.Line2D at 0xbc49be0>]"
      ]
     },
     "execution_count": 78,
     "metadata": {},
     "output_type": "execute_result"
    },
    {
     "data": {
      "image/png": "[encoded data removed]",
      "text/plain": [
       "<matplotlib.figure.Figure at 0xbba5828>"
      ]
     },
     "metadata": {},
     "output_type": "display_data"
    }
   ],
   "source": [
    "# Plot Cs against AUC scores\n",
    "# when c is 0.36 very high AUC, bottom is lot of regularisation (when c is close to zero)\n",
    "# \n",
    "plt.plot(np.log(Cs), [ x[1] for x in gs.grid_scores_ ])"
   ]
  },
  {
   "cell_type": "code",
   "execution_count": 80,
   "metadata": {
    "collapsed": false
   },
   "outputs": [
    {
     "data": {
      "text/plain": [
       "LogisticRegressionCV(Cs=10, class_weight=None,\n",
       "           cv=sklearn.cross_validation.StratifiedKFold(labels=[False False ..., False False], n_folds=5, shuffle=True, random_state=None),\n",
       "           dual=False, fit_intercept=True, intercept_scaling=1.0,\n",
       "           max_iter=100, multi_class='ovr', n_jobs=1, penalty='l2',\n",
       "           random_state=None, refit=True, scoring='roc_auc',\n",
       "           solver='lbfgs', tol=0.0001, verbose=0)"
      ]
     },
     "execution_count": 80,
     "metadata": {},
     "output_type": "execute_result"
    }
   ],
   "source": [
    "# the same but how many values of c you have to specify\n",
    "# Alternatively…\n",
    "model2 = lm.LogisticRegressionCV(Cs=10, cv=kf, scoring='roc_auc')\n",
    "model2.fit(X, y)"
   ]
  },
  {
   "cell_type": "code",
   "execution_count": 81,
   "metadata": {
    "collapsed": false
   },
   "outputs": [
    {
     "data": {
      "text/plain": [
       "[<matplotlib.lines.Line2D at 0xcc97fd0>]"
      ]
     },
     "execution_count": 81,
     "metadata": {},
     "output_type": "execute_result"
    },
    {
     "data": {
      "image/png": "[encoded data removed]",
      "text/plain": [
       "<matplotlib.figure.Figure at 0xbc5fe48>"
      ]
     },
     "metadata": {},
     "output_type": "display_data"
    }
   ],
   "source": [
    "plt.plot(np.log(model2.Cs_), model2.scores_[1].mean(axis=0))"
   ]
  },
  {
   "cell_type": "code",
   "execution_count": 82,
   "metadata": {
    "collapsed": false
   },
   "outputs": [
    {
     "data": {
      "text/plain": [
       "array([ 1.909571])"
      ]
     },
     "execution_count": 82,
     "metadata": {},
     "output_type": "execute_result"
    }
   ],
   "source": [
    "# coef shrunk because of regularisation but coef is bigger when no reg\n",
    "np.exp(model2.intercept_)"
   ]
  },
  {
   "cell_type": "code",
   "execution_count": 83,
   "metadata": {
    "collapsed": false
   },
   "outputs": [
    {
     "data": {
      "text/plain": [
       "array([[ 0.61937935,  0.65970176,  1.68279767,  0.74620781,  0.65750426,\n",
       "         0.58918657,  1.81100455,  1.029602  ,  0.91874712,  0.8762423 ,\n",
       "         2.47130493,  0.54808875,  0.60587024,  1.09098089,  1.15350863,\n",
       "         1.11847019,  1.25681012,  0.6591393 ,  1.08319256,  0.55606998,\n",
       "         0.5293357 ,  0.99901545,  1.2603946 ,  0.45506919,  3.59973316,\n",
       "         1.29937416,  0.71286082,  0.80718734,  1.47584398,  0.75161668,\n",
       "         0.75861217,  0.80370652,  0.97659562,  1.06596736,  1.12042637,\n",
       "         1.83763842,  0.99742648,  1.18737894,  0.75801339,  1.93020638,\n",
       "         0.76945572,  1.4429808 ,  0.66739466,  0.7431873 ,  1.16255647,\n",
       "         0.98810301,  1.61301075,  0.86043096]])"
      ]
     },
     "execution_count": 83,
     "metadata": {},
     "output_type": "execute_result"
    }
   ],
   "source": [
    "np.exp(model2.coef_)"
   ]
  },
  {
   "cell_type": "code",
   "execution_count": null,
   "metadata": {
    "collapsed": true
   },
   "outputs": [],
   "source": [
    "# Notice above no variables are excluded although some close to zero, but L1 is more of a variable selction technique"
   ]
  },
  {
   "cell_type": "code",
   "execution_count": 84,
   "metadata": {
    "collapsed": false
   },
   "outputs": [
    {
     "data": {
      "text/plain": [
       "LogisticRegressionCV(Cs=10, class_weight=None,\n",
       "           cv=sklearn.cross_validation.StratifiedKFold(labels=[False False ..., False False], n_folds=5, shuffle=True, random_state=None),\n",
       "           dual=False, fit_intercept=True, intercept_scaling=1.0,\n",
       "           max_iter=100, multi_class='ovr', n_jobs=1, penalty='l1',\n",
       "           random_state=None, refit=True, scoring='roc_auc',\n",
       "           solver='liblinear', tol=0.0001, verbose=0)"
      ]
     },
     "execution_count": 84,
     "metadata": {},
     "output_type": "execute_result"
    }
   ],
   "source": [
    "# Repeat using L1 regularisation\n",
    "# sklearn relies on external libraries to help solve L2 penalties\n",
    "# L1 less smooth\n",
    "model3 = lm.LogisticRegressionCV(Cs=10, cv=kf, penalty='l1', scoring='roc_auc',\\\n",
    "                                 solver='liblinear')\n",
    "model3.fit(X, y)"
   ]
  },
  {
   "cell_type": "code",
   "execution_count": 85,
   "metadata": {
    "collapsed": false
   },
   "outputs": [
    {
     "data": {
      "text/plain": [
       "array([ 1.])"
      ]
     },
     "execution_count": 85,
     "metadata": {},
     "output_type": "execute_result"
    }
   ],
   "source": [
    "np.exp(model3.intercept_)"
   ]
  },
  {
   "cell_type": "code",
   "execution_count": 86,
   "metadata": {
    "collapsed": false
   },
   "outputs": [
    {
     "data": {
      "text/plain": [
       "array([[  0.55322399,   0.88198417,  17.57388689,   0.54107955,\n",
       "          0.3642632 ,   0.711782  ,   2.59987976,   1.        ,\n",
       "          1.        ,   0.82723465,  15.37085438,   0.1644772 ,\n",
       "          0.26818522,   1.32704451,   1.        ,   1.        ,\n",
       "          1.6653661 ,   0.39195309,   1.03644071,   0.04229967,\n",
       "          0.30128888,   1.11849438,   2.94281176,   0.02396951,\n",
       "         22.91794575,   1.        ,   0.47064559,   1.14472027,\n",
       "          1.02973992,   0.56478239,   1.        ,   0.66564486,\n",
       "          0.88386031,   0.49584944,   1.        ,   3.05795376,\n",
       "          1.        ,   1.36499849,   0.48568822,   4.98152814,\n",
       "          0.62949843,   9.68975087,   0.48522305,   0.55777404,\n",
       "          1.40286063,   1.        ,   2.55623111,   0.51284496]])"
      ]
     },
     "execution_count": 86,
     "metadata": {},
     "output_type": "execute_result"
    }
   ],
   "source": [
    "np.exp(model3.coef_)"
   ]
  },
  {
   "cell_type": "code",
   "execution_count": null,
   "metadata": {
    "collapsed": true
   },
   "outputs": [],
   "source": []
  },
  {
   "cell_type": "code",
   "execution_count": 87,
   "metadata": {
    "collapsed": false
   },
   "outputs": [
    {
     "data": {
      "text/plain": [
       "[<matplotlib.lines.Line2D at 0xcd06860>]"
      ]
     },
     "execution_count": 87,
     "metadata": {},
     "output_type": "execute_result"
    },
    {
     "data": {
      "image/png": "[encoded data removed]",
      "text/plain": [
       "<matplotlib.figure.Figure at 0xccafcf8>"
      ]
     },
     "metadata": {},
     "output_type": "display_data"
    }
   ],
   "source": [
    "plt.plot(np.log(model3.Cs_), model3.scores_[1].mean(axis=0))"
   ]
  },
  {
   "cell_type": "code",
   "execution_count": 90,
   "metadata": {
    "collapsed": false
   },
   "outputs": [
    {
     "data": {
      "text/plain": [
       "array([ 0,  1,  2,  3,  4,  5,  6,  9, 10, 11, 12, 13, 16, 17, 18, 19, 20,\n",
       "       21, 22, 23, 24, 26, 27, 28, 29, 31, 32, 33, 35, 37, 38, 39, 40, 41,\n",
       "       42, 43, 44, 46, 47], dtype=int64)"
      ]
     },
     "execution_count": 90,
     "metadata": {},
     "output_type": "execute_result"
    }
   ],
   "source": [
    "'''\n",
    "Variable (feature) selection\n",
    "'''\n",
    "\n",
    "# Select only variables with non-zero coefficient in L1-regularised model\n",
    "# checking where in array we don't have zeros to see what has been selected\n",
    "idx = np.where(np.abs(model3.coef_[0]) >= 1e-16)[0]\n",
    "\n",
    "#idx = np.where(np.abs(model3.coef_[0]) > 0)[0]\n",
    "idx"
   ]
  },
  {
   "cell_type": "code",
   "execution_count": 91,
   "metadata": {
    "collapsed": false
   },
   "outputs": [
    {
     "data": {
      "text/plain": [
       "Index(['PDGFbb', 'IL1b', 'IL1Ra', 'IL2', 'IL4', 'IL5', 'IL6', 'IL9', 'IL10',\n",
       "       'IL12P70', 'IL13', 'IL15', 'FGFbasic', 'GCSF', 'GMCSF', 'IFNg', 'IP10',\n",
       "       'MCP1', 'MIP1a', 'MIP1b', 'RANTES', 'VEGF', 'CTACK', 'GROa', 'IL1a',\n",
       "       'IL3', 'IL12P40', 'IL16', 'LIF', 'MCSF', 'MIF', 'MIG ', 'bNGF', 'SCF',\n",
       "       'SCGFb', 'SDF1a', 'TNFb', 'HGF', 'IFNa2'],\n",
       "      dtype='object', name='')"
      ]
     },
     "execution_count": 91,
     "metadata": {},
     "output_type": "execute_result"
    }
   ],
   "source": [
    "# List selected variables\n",
    "# corresponding varibales that were selected\n",
    "X.columns[idx]"
   ]
  },
  {
   "cell_type": "code",
   "execution_count": 92,
   "metadata": {
    "collapsed": false
   },
   "outputs": [
    {
     "data": {
      "text/plain": [
       "LogisticRegression(C=2.7825594022071258, class_weight=None, dual=False,\n",
       "          fit_intercept=True, intercept_scaling=1, max_iter=100,\n",
       "          multi_class='ovr', n_jobs=1, penalty='l2', random_state=None,\n",
       "          solver='liblinear', tol=0.0001, verbose=0, warm_start=False)"
      ]
     },
     "execution_count": 92,
     "metadata": {},
     "output_type": "execute_result"
    }
   ],
   "source": [
    "# Re-fit model using selected variables only\n",
    "X_selected = X.iloc[:,idx]\n",
    "model4 = lm.LogisticRegression(C=model3.C_[0])\n",
    "model4.fit(X_selected, y)"
   ]
  },
  {
   "cell_type": "code",
   "execution_count": 93,
   "metadata": {
    "collapsed": false
   },
   "outputs": [
    {
     "data": {
      "text/plain": [
       "[<matplotlib.lines.Line2D at 0xcd75860>]"
      ]
     },
     "execution_count": 93,
     "metadata": {},
     "output_type": "execute_result"
    },
    {
     "data": {
      "image/png": "[encoded data removed]",
      "text/plain": [
       "<matplotlib.figure.Figure at 0xcd1ff98>"
      ]
     },
     "metadata": {},
     "output_type": "display_data"
    }
   ],
   "source": [
    "# Plot ROC curve\n",
    "pred_probs = model4.predict_proba(X_selected)[:,1]\n",
    "fpr, tpr, cutoffs = metrics.roc_curve(y, pred_probs)\n",
    "plt.plot(fpr, tpr)"
   ]
  },
  {
   "cell_type": "code",
   "execution_count": 95,
   "metadata": {
    "collapsed": false
   },
   "outputs": [
    {
     "data": {
      "text/plain": [
       "0.99812312312312312"
      ]
     },
     "execution_count": 95,
     "metadata": {},
     "output_type": "execute_result"
    }
   ],
   "source": [
    "# Compute area under the ROC curve (AUC)\n",
    "# one way in which regularising with L1 avoids over fitting\n",
    "metrics.roc_auc_score(y, pred_probs)"
   ]
  },
  {
   "cell_type": "code",
   "execution_count": 96,
   "metadata": {
    "collapsed": false
   },
   "outputs": [
    {
     "data": {
      "text/plain": [
       "RFECV(cv=sklearn.cross_validation.StratifiedKFold(labels=[False False ..., False False], n_folds=5, shuffle=True, random_state=None),\n",
       "   estimator=LogisticRegression(C=0.35938136638046259, class_weight=None, dual=False,\n",
       "          fit_intercept=True, intercept_scaling=1, max_iter=100,\n",
       "          multi_class='ovr', n_jobs=1, penalty='l2', random_state=None,\n",
       "          solver='liblinear', tol=0.0001, verbose=0, warm_start=False),\n",
       "   estimator_params=None, scoring='roc_auc', step=1, verbose=0)"
      ]
     },
     "execution_count": 96,
     "metadata": {},
     "output_type": "execute_result"
    }
   ],
   "source": [
    "# Recursive Feature Elimination and Cross-Validated selection\n",
    "# Another way of slecting feature/variables instead of L1,\n",
    "#this starts with full model and removes certain variables, it works by cross validating AUC, remove one variabe at a time\n",
    "# if the AUC doesn't go down by a certain threshold/signif amount then continue removing, just before the drop\n",
    "# Feature_selection a number of methods\n",
    "# (using value of C found using cross-validation above)\n",
    "fs = feature_selection.RFECV(lm.LogisticRegression(C=model2.C_[0]),\\\n",
    "                             cv=kf, scoring='roc_auc')\n",
    "fs.fit(X, y)"
   ]
  },
  {
   "cell_type": "code",
   "execution_count": 97,
   "metadata": {
    "collapsed": false
   },
   "outputs": [
    {
     "data": {
      "text/plain": [
       "Index(['PDGFbb', 'IL1b', 'IL1Ra', 'IL2', 'IL4', 'IL5', 'IL6', 'IL8', 'IL9',\n",
       "       'IL10', 'IL12P70', 'IL13', 'IL15', 'IL17', 'eotaxin', 'FGFbasic',\n",
       "       'GCSF', 'GMCSF', 'IFNg', 'IP10', 'MIP1a', 'MIP1b', 'RANTES', 'TNFa',\n",
       "       'VEGF', 'CTACK', 'GROa', 'IL1a', 'IL2Ra', 'IL3', 'IL16', 'IL18', 'LIF',\n",
       "       'MCSF', 'MIF', 'MIG ', 'bNGF', 'SCF', 'SCGFb', 'SDF1a', 'TNFb', 'HGF',\n",
       "       'IFNa2'],\n",
       "      dtype='object', name='')"
      ]
     },
     "execution_count": 97,
     "metadata": {},
     "output_type": "execute_result"
    }
   ],
   "source": [
    "# List selected variables\n",
    "X.columns[fs.support_]"
   ]
  },
  {
   "cell_type": "code",
   "execution_count": 99,
   "metadata": {
    "collapsed": false
   },
   "outputs": [
    {
     "data": {
      "text/plain": [
       "LogisticRegression(C=0.35938136638046259, class_weight=None, dual=False,\n",
       "          fit_intercept=True, intercept_scaling=1, max_iter=100,\n",
       "          multi_class='ovr', n_jobs=1, penalty='l2', random_state=None,\n",
       "          solver='liblinear', tol=0.0001, verbose=0, warm_start=False)"
      ]
     },
     "execution_count": 99,
     "metadata": {},
     "output_type": "execute_result"
    }
   ],
   "source": [
    "# Re-fit model using selected variables only\n",
    "X_selected = X.loc[:,fs.support_]\n",
    "model5 = lm.LogisticRegression(C=model2.C_[0])\n",
    "model5.fit(X_selected, y)"
   ]
  },
  {
   "cell_type": "code",
   "execution_count": 100,
   "metadata": {
    "collapsed": false
   },
   "outputs": [
    {
     "data": {
      "text/plain": [
       "[<matplotlib.lines.Line2D at 0xcdddac8>]"
      ]
     },
     "execution_count": 100,
     "metadata": {},
     "output_type": "execute_result"
    },
    {
     "data": {
      "image/png": "[encoded data removed]",
      "text/plain": [
       "<matplotlib.figure.Figure at 0xcd46630>"
      ]
     },
     "metadata": {},
     "output_type": "display_data"
    }
   ],
   "source": [
    "# Plot ROC curve\n",
    "pred_probs = model5.predict_proba(X_selected)[:,1]\n",
    "fpr, tpr, cutoffs = metrics.roc_curve(y, pred_probs)\n",
    "plt.plot(fpr, tpr)"
   ]
  },
  {
   "cell_type": "code",
   "execution_count": 101,
   "metadata": {
    "collapsed": false
   },
   "outputs": [
    {
     "data": {
      "text/plain": [
       "0.99427552552552545"
      ]
     },
     "execution_count": 101,
     "metadata": {},
     "output_type": "execute_result"
    }
   ],
   "source": [
    "# Compute area under the ROC curve (AUC)\n",
    "metrics.roc_auc_score(y, pred_probs)"
   ]
  },
  {
   "cell_type": "code",
   "execution_count": 107,
   "metadata": {
    "collapsed": false
   },
   "outputs": [
    {
     "data": {
      "text/plain": [
       "LogisticRegression(C=1e+50, class_weight=None, dual=False, fit_intercept=True,\n",
       "          intercept_scaling=1, max_iter=100, multi_class='multinomial',\n",
       "          n_jobs=1, penalty='l2', random_state=None, solver='lbfgs',\n",
       "          tol=0.0001, verbose=0, warm_start=False)"
      ]
     },
     "execution_count": 107,
     "metadata": {},
     "output_type": "execute_result"
    }
   ],
   "source": [
    "'''\n",
    "Multiple classes\n",
    "'''\n",
    "\n",
    "# Check the argument `multi_class`:\n",
    "# * 'ovr' means that binary models are estimated for each class; doesn't acount for all data it is just one group against rest\n",
    "# * 'multinomial' means that a single multinomial model is estimated; same concept as logistic just for multi class\n",
    "# need to change solver for this; the only solver which supports this is lbfgs\n",
    "# again C needs to be tuned\n",
    "\n",
    "# For example…\n",
    "model6 = lm.LogisticRegression(C=1e50, solver='lbfgs', multi_class='multinomial')\n",
    "model6.fit(X, glioma.Type)"
   ]
  },
  {
   "cell_type": "code",
   "execution_count": 104,
   "metadata": {
    "collapsed": false
   },
   "outputs": [
    {
     "data": {
      "text/plain": [
       "array(['AA', 'DA', 'GBM', 'Normal'], dtype=object)"
      ]
     },
     "execution_count": 104,
     "metadata": {},
     "output_type": "execute_result"
    }
   ],
   "source": [
    "# Important to see order when interpreting coefficients\n",
    "model6.classes_"
   ]
  },
  {
   "cell_type": "code",
   "execution_count": 105,
   "metadata": {
    "collapsed": false
   },
   "outputs": [
    {
     "data": {
      "text/plain": [
       "array([ 0.36522699,  1.41257233,  1.78198778,  1.08773154])"
      ]
     },
     "execution_count": 105,
     "metadata": {},
     "output_type": "execute_result"
    }
   ],
   "source": [
    "# Coefficent are big matrix\n",
    "np.exp(model6.intercept_)"
   ]
  },
  {
   "cell_type": "code",
   "execution_count": 106,
   "metadata": {
    "collapsed": true
   },
   "outputs": [
    {
     "data": {
      "text/plain": [
       "array([[  1.66401726e+02,   1.18641178e+15,   6.72837192e-10,\n",
       "          5.17807081e+23,   4.41657577e+35,   1.36805607e+33,\n",
       "          1.49279834e-07,   6.84351762e-01,   5.39910494e+07,\n",
       "          3.36770293e+10,   1.60336775e+00,   2.86084385e+04,\n",
       "          2.14581254e+07,   9.62547665e+23,   8.02835925e+42,\n",
       "          6.55992447e-25,   4.90636868e-01,   3.16727872e+44,\n",
       "          7.40935244e+00,   1.99685318e+25,   2.33158219e+28,\n",
       "          3.20371504e-06,   1.54175097e+10,   4.59554827e-10,\n",
       "          3.49498019e-51,   5.53607340e-15,   1.61190510e+18,\n",
       "          4.01450038e+06,   2.33929784e-05,   3.17044440e-12,\n",
       "          1.95681523e+08,   2.67821824e-04,   1.13089824e-16,\n",
       "          4.25698588e-09,   1.57927742e+02,   1.50714410e+00,\n",
       "          2.67331447e-14,   1.27094588e-06,   5.66835635e+00,\n",
       "          4.04785410e-17,   1.51457418e-06,   8.53834783e-02,\n",
       "          1.13144337e+04,   1.44769621e+00,   1.64119439e+01,\n",
       "          3.93240828e-10,   1.48812212e-09,   7.35025255e-11],\n",
       "       [  1.05337045e+14,   3.70907448e+02,   5.62628674e+06,\n",
       "          1.55818216e+32,   1.09005368e+29,   2.02458198e+15,\n",
       "          9.78642935e-05,   9.66377194e+15,   2.74461616e-03,\n",
       "          3.30724585e+14,   8.80994497e+06,   5.45156491e+00,\n",
       "          4.03123672e+17,   2.05730398e+15,   1.45106712e+34,\n",
       "          1.56248408e-17,   6.57869024e+05,   1.32292454e-18,\n",
       "          8.14548564e+11,   2.44345535e+27,   9.04620134e-11,\n",
       "          1.16416718e+08,   2.34672372e+08,   7.65239550e+11,\n",
       "          1.05222889e-51,   7.77291989e-06,   5.24724262e-11,\n",
       "          2.33117704e+00,   1.16458222e-17,   5.43590643e+15,\n",
       "          1.22579357e+11,   4.21624241e-08,   3.33323230e-15,\n",
       "          2.63215899e+16,   1.74418982e-10,   5.95608036e-07,\n",
       "          4.55722082e+01,   1.59242827e+02,   4.04162161e-16,\n",
       "          4.45443002e-02,   1.73709181e-18,   4.68571426e-01,\n",
       "          2.58677514e+19,   5.51004528e+01,   1.55355681e-18,\n",
       "          1.61923695e-06,   4.03954372e-09,   1.01079127e-10],\n",
       "       [  5.36557120e-17,   2.90514134e-18,   2.82843829e+15,\n",
       "          2.08394932e-29,   1.35535399e-33,   7.02905064e-44,\n",
       "          3.97466443e+44,   2.47751906e+05,   7.79223205e-01,\n",
       "          1.85684615e-04,   9.86150600e+56,   4.48692593e-13,\n",
       "          1.34884556e-18,   3.68506487e+06,   5.24897973e-30,\n",
       "          2.24755020e+02,   6.91659300e+11,   1.13399152e-30,\n",
       "          1.13604639e+14,   1.10326382e-35,   8.39725831e-35,\n",
       "          1.24971447e-02,   3.94192029e+01,   6.05616518e-16,\n",
       "          1.42415158e+93,   1.41257047e+26,   8.29248383e-08,\n",
       "          5.12418621e-12,   6.74974106e+28,   2.76893400e-33,\n",
       "          1.73922511e-10,   1.61828611e-25,   3.29049748e-09,\n",
       "          7.79487509e-05,   8.90270681e+04,   8.50342945e+41,\n",
       "          4.32775716e-09,   1.76360570e+06,   1.10552428e-31,\n",
       "          6.00039049e+30,   2.00446855e-13,   8.31039303e-01,\n",
       "          5.55469962e-12,   3.10170947e-13,   2.05029030e+12,\n",
       "          1.36121859e-06,   1.34985971e+21,   3.17376045e-01],\n",
       "       [  1.06327372e+00,   7.82225069e-01,   9.33945299e-14,\n",
       "          5.94739297e-28,   1.53254660e-32,   5.13646182e-06,\n",
       "          1.72216248e-34,   6.10319060e-22,   8.66033591e-06,\n",
       "          4.83530444e-22,   7.17877624e-65,   1.42901161e+07,\n",
       "          8.57053023e-08,   1.37035836e-46,   1.63535033e-48,\n",
       "          4.34086378e+38,   4.47927949e-18,   2.10459648e+03,\n",
       "          1.45850089e-27,   1.85767648e-18,   5.64606024e+15,\n",
       "          2.14545777e-01,   7.01158123e-21,   4.69534543e+12,\n",
       "          1.90936450e+08,   1.64514372e-07,   1.42575450e-01,\n",
       "          2.08529900e+04,   5.43822550e-08,   2.09553675e+28,\n",
       "          2.39704974e-10,   5.47234109e+35,   8.06212131e+38,\n",
       "          1.14492361e-04,   4.07779843e+02,   1.31005812e-36,\n",
       "          1.89664913e+20,   2.80163511e-03,   3.94837980e+45,\n",
       "          9.24279872e-14,   1.89621436e+36,   3.00766036e+01,\n",
       "          6.15103111e-13,   4.04172053e+10,   1.91292295e+04,\n",
       "          1.15372717e+21,   1.23236820e-04,   4.24093983e+20]])"
      ]
     },
     "execution_count": 106,
     "metadata": {},
     "output_type": "execute_result"
    }
   ],
   "source": [
    "np.exp(model6.coef_)"
   ]
  },
  {
   "cell_type": "code",
   "execution_count": null,
   "metadata": {
    "collapsed": true
   },
   "outputs": [],
   "source": [
    "'''\n",
    "Stochastic gradient descent\n",
    "'''\n",
    "\n",
    "# SGD is a very efficient approach to train linear classifiers (including linear\n",
    "# and logistic regression models) on large-scale and/or sparse datasets\n",
    "#\n",
    "# scikit-learn provides:\n",
    "# * `lm.SGDRegressor` for regression problems\n",
    "# * `lm.SGDClassifier` for classification problems\n",
    "#\n",
    "# Both support L1, L2, and Elastic Net regularisation (with parameters 'alpha'\n",
    "# and 'l1_ratio' if using Elastic Net)\n",
    "\n",
    "# SGD is sensitive to scaling of the predictors, so it’s recommended to scale\n",
    "# the data to [0, 1], [-1, 1], or alternatively to standardise it to mean 0 and\n",
    "# variance 1, if there’s no ‘intrinsic scale’ already"
   ]
  },
  {
   "cell_type": "code",
   "execution_count": 109,
   "metadata": {
    "collapsed": false
   },
   "outputs": [
    {
     "data": {
      "text/plain": [
       "StandardScaler(copy=True, with_mean=True, with_std=True)"
      ]
     },
     "execution_count": 109,
     "metadata": {},
     "output_type": "execute_result"
    }
   ],
   "source": [
    "scaler = preprocessing.StandardScaler()\n",
    "scaler.fit(X)"
   ]
  },
  {
   "cell_type": "code",
   "execution_count": 110,
   "metadata": {
    "collapsed": false
   },
   "outputs": [
    {
     "data": {
      "text/plain": [
       "array([  9.99539476,   0.80152791,   5.49143203,   2.25300407,\n",
       "         1.22655956,   0.57600468,   2.93735028,   2.62217102,\n",
       "         3.68459448,   3.64328249,   2.02278736,   3.6323892 ,\n",
       "         1.79763602,   0.62891029,   3.51973225,   4.07108704,\n",
       "         2.00353997,   2.61282377,   2.78812599,   4.90404526,\n",
       "         6.74825218,   4.1293354 ,   1.1344134 ,   4.94605112,\n",
       "         9.95577715,   2.345788  ,   4.57255829,   6.40788736,\n",
       "         4.72490512,  -1.46371671,   4.5816658 ,   1.21608087,\n",
       "         2.33135695,   5.46828562,   4.57949708,   1.34682936,\n",
       "        -0.38750231,   2.99860097,   6.91225775,   7.0856813 ,\n",
       "        -0.66243746,   4.65070043,  10.49773501,   3.33274845,\n",
       "         0.240739  ,   3.27700293,   6.59564518,   2.74638321])"
      ]
     },
     "execution_count": 110,
     "metadata": {},
     "output_type": "execute_result"
    }
   ],
   "source": [
    "scaler.mean_"
   ]
  },
  {
   "cell_type": "code",
   "execution_count": 111,
   "metadata": {
    "collapsed": false
   },
   "outputs": [
    {
     "data": {
      "text/plain": [
       "array([ 0.85143548,  1.64069792,  1.07417217,  1.93762333,  1.04239627,\n",
       "        1.26939598,  1.79960077,  0.91389158,  2.1013133 ,  1.40950617,\n",
       "        1.82939839,  1.19279265,  1.00660976,  1.72065524,  1.74181673,\n",
       "        1.82744383,  1.3829932 ,  1.64144389,  1.88873333,  1.09001268,\n",
       "        0.83853527,  1.23892079,  2.11561823,  0.90493839,  1.14403886,\n",
       "        1.9719999 ,  1.03068775,  0.54101563,  1.08729502,  1.96647206,\n",
       "        0.73729311,  2.3082563 ,  2.39821568,  0.98116276,  0.59024852,\n",
       "        1.48595068,  2.29918577,  1.42853643,  1.41715013,  0.89480025,\n",
       "        1.35575442,  0.50760289,  0.52963759,  1.47455136,  1.92442411,\n",
       "        1.17256277,  0.54575914,  0.74267761])"
      ]
     },
     "execution_count": 111,
     "metadata": {},
     "output_type": "execute_result"
    }
   ],
   "source": [
    "scaler.scale_"
   ]
  },
  {
   "cell_type": "code",
   "execution_count": 112,
   "metadata": {
    "collapsed": true
   },
   "outputs": [],
   "source": [
    "X_scaled = scaler.transform(X)"
   ]
  },
  {
   "cell_type": "code",
   "execution_count": 113,
   "metadata": {
    "collapsed": true
   },
   "outputs": [],
   "source": [
    "# According to the scikit-learn documentation, the following is a good guess for\n",
    "# the number of iterations required to achieve convergence\n",
    "# The higher the iteration, the more likely to find global minimum.\n",
    "# stochastic is all about picking different points, so you are more likely to find global\n",
    "n_iter = np.ceil(10**6 / X.shape[0])"
   ]
  },
  {
   "cell_type": "code",
   "execution_count": 114,
   "metadata": {
    "collapsed": false
   },
   "outputs": [
    {
     "data": {
      "text/plain": [
       "GridSearchCV(cv=sklearn.cross_validation.StratifiedKFold(labels=[False False ..., False False], n_folds=5, shuffle=True, random_state=None),\n",
       "       error_score='raise',\n",
       "       estimator=SGDClassifier(alpha=0.0001, average=False, class_weight=None, epsilon=0.1,\n",
       "       eta0=0.0, fit_intercept=True, l1_ratio=0.15,\n",
       "       learning_rate='optimal', loss='log', n_iter=4546.0, n_jobs=1,\n",
       "       penalty='l2', power_t=0.5, random_state=None, shuffle=True,\n",
       "       verbose=0, warm_start=False),\n",
       "       fit_params={}, iid=True, n_jobs=1,\n",
       "       param_grid={'alpha': array([  1.00000e-01,   1.00000e-02,   1.00000e-03,   1.00000e-04,\n",
       "         1.00000e-05,   1.00000e-06])},\n",
       "       pre_dispatch='2*n_jobs', refit=True, scoring='roc_auc', verbose=0)"
      ]
     },
     "execution_count": 114,
     "metadata": {},
     "output_type": "execute_result"
    }
   ],
   "source": [
    "# As usual, the regularisation parameter 'alpha' can be tuned using\n",
    "# `grid_search.GridSearchCV`\n",
    "gs = grid_search.GridSearchCV(\n",
    "    estimator=lm.SGDClassifier(loss='log', penalty='l2', n_iter=n_iter),\n",
    "    param_grid={'alpha': 10.0**-np.arange(1, 7)},\n",
    "    scoring='roc_auc',\n",
    "    cv=kf\n",
    ")\n",
    "gs.fit(X_scaled, y)"
   ]
  },
  {
   "cell_type": "code",
   "execution_count": 115,
   "metadata": {
    "collapsed": false
   },
   "outputs": [
    {
     "data": {
      "text/plain": [
       "SGDClassifier(alpha=0.01, average=False, class_weight=None, epsilon=0.1,\n",
       "       eta0=0.0, fit_intercept=True, l1_ratio=0.15,\n",
       "       learning_rate='optimal', loss='log', n_iter=4546.0, n_jobs=1,\n",
       "       penalty='l2', power_t=0.5, random_state=None, shuffle=True,\n",
       "       verbose=0, warm_start=False)"
      ]
     },
     "execution_count": 115,
     "metadata": {},
     "output_type": "execute_result"
    }
   ],
   "source": [
    "gs.best_estimator_\n",
    "\n",
    "# Before using this model to predict, we'd need to call `scaler.transform` on\n",
    "# the new data\n",
    "\n",
    "# We can also put everything together in a pipeline…"
   ]
  },
  {
   "cell_type": "code",
   "execution_count": 116,
   "metadata": {
    "collapsed": true
   },
   "outputs": [],
   "source": [
    "#pipelline -> concept of steps and combine them together, combining scale and model into a pipeline\n",
    "sgd_pipeline = Pipeline([\n",
    "    ('scale', preprocessing.StandardScaler()),\n",
    "    ('sgd', lm.SGDClassifier())\n",
    "])"
   ]
  },
  {
   "cell_type": "code",
   "execution_count": 117,
   "metadata": {
    "collapsed": false
   },
   "outputs": [
    {
     "data": {
      "text/plain": [
       "Pipeline(steps=[('scale', StandardScaler(copy=True, with_mean=True, with_std=True)), ('sgd', SGDClassifier(alpha=0.0001, average=False, class_weight=None, epsilon=0.1,\n",
       "       eta0=0.0, fit_intercept=True, l1_ratio=0.15,\n",
       "       learning_rate='optimal', loss='log', n_iter=4546.0, n_jobs=1,\n",
       "       penalty='l2', power_t=0.5, random_state=None, shuffle=True,\n",
       "       verbose=0, warm_start=False))])"
      ]
     },
     "execution_count": 117,
     "metadata": {},
     "output_type": "execute_result"
    }
   ],
   "source": [
    "sgd_pipeline.set_params(\n",
    "    sgd__loss='log',\n",
    "    sgd__penalty='l2',\n",
    "    sgd__n_iter=n_iter\n",
    ")"
   ]
  },
  {
   "cell_type": "code",
   "execution_count": null,
   "metadata": {
    "collapsed": true
   },
   "outputs": [],
   "source": [
    "# Pipeline acts like a model so can do grid search on it directly without having to scale data\n",
    "gs = grid_search.GridSearchCV(\n",
    "    estimator=sgd_pipeline,\n",
    "    param_grid={'sgd__alpha': 10.0**-np.arange(1, 7)},\n",
    "    scoring='roc_auc',\n",
    "    cv=kf\n",
    ")\n",
    "gs.fit(X, y)"
   ]
  },
  {
   "cell_type": "code",
   "execution_count": 119,
   "metadata": {
    "collapsed": false
   },
   "outputs": [
    {
     "data": {
      "text/plain": [
       "Pipeline(steps=[('scale', StandardScaler(copy=True, with_mean=True, with_std=True)), ('sgd', SGDClassifier(alpha=0.01, average=False, class_weight=None, epsilon=0.1,\n",
       "       eta0=0.0, fit_intercept=True, l1_ratio=0.15,\n",
       "       learning_rate='optimal', loss='log', n_iter=4546.0, n_jobs=1,\n",
       "       penalty='l2', power_t=0.5, random_state=None, shuffle=True,\n",
       "       verbose=0, warm_start=False))])"
      ]
     },
     "execution_count": 119,
     "metadata": {},
     "output_type": "execute_result"
    }
   ],
   "source": [
    "gs.best_estimator_\n",
    "\n",
    "# Predictions for new samples can now be obtained directly by calling\n",
    "# `gs.best_estimator_.predict`\n",
    "\n"
   ]
  },
  {
   "cell_type": "code",
   "execution_count": 120,
   "metadata": {
    "collapsed": false
   },
   "outputs": [
    {
     "data": {
      "text/plain": [
       "array([ True,  True,  True, False,  True,  True, False,  True, False,\n",
       "       False,  True,  True,  True,  True,  True,  True,  True,  True,\n",
       "       False,  True,  True,  True,  True,  True,  True, False,  True,\n",
       "        True,  True,  True, False, False,  True,  True,  True, False,\n",
       "       False,  True,  True, False,  True, False,  True,  True, False,\n",
       "       False,  True,  True,  True,  True,  True,  True,  True,  True,\n",
       "        True,  True,  True,  True,  True,  True,  True,  True,  True,\n",
       "        True,  True,  True,  True,  True,  True,  True,  True,  True,\n",
       "        True,  True,  True,  True,  True,  True,  True,  True,  True,\n",
       "        True,  True,  True,  True,  True,  True,  True,  True,  True,\n",
       "        True,  True,  True,  True,  True,  True,  True,  True,  True,\n",
       "        True,  True,  True,  True,  True,  True,  True,  True,  True,\n",
       "        True,  True,  True,  True,  True,  True,  True,  True,  True,\n",
       "        True,  True,  True,  True,  True,  True,  True,  True,  True,\n",
       "        True,  True,  True,  True,  True,  True,  True,  True,  True,\n",
       "        True,  True,  True,  True,  True,  True,  True,  True,  True,\n",
       "        True,  True,  True,  True,  True,  True,  True,  True,  True,\n",
       "        True,  True,  True,  True,  True,  True,  True,  True,  True,\n",
       "        True,  True,  True,  True,  True,  True,  True,  True,  True,\n",
       "        True,  True,  True,  True,  True,  True,  True,  True,  True,\n",
       "        True,  True,  True,  True,  True,  True,  True,  True,  True,\n",
       "        True,  True,  True,  True,  True,  True,  True,  True,  True,\n",
       "        True,  True,  True,  True,  True, False,  True,  True,  True,\n",
       "        True,  True,  True, False,  True,  True,  True,  True,  True,\n",
       "        True, False,  True,  True], dtype=bool)"
      ]
     },
     "execution_count": 120,
     "metadata": {},
     "output_type": "execute_result"
    }
   ],
   "source": [
    "# need to call on scaled data\n",
    "gs.best_estimator_.predict(X_scaled)"
   ]
  },
  {
   "cell_type": "code",
   "execution_count": 121,
   "metadata": {
    "collapsed": true
   },
   "outputs": [],
   "source": [
    "?lm.stochastic_gradient"
   ]
  },
  {
   "cell_type": "code",
   "execution_count": null,
   "metadata": {
    "collapsed": true
   },
   "outputs": [],
   "source": []
  }
 ],
 "metadata": {
  "kernelspec": {
   "display_name": "Python 3",
   "language": "python",
   "name": "python3"
  },
  "language_info": {
   "codemirror_mode": {
    "name": "ipython",
    "version": 3
   },
   "file_extension": ".py",
   "mimetype": "text/x-python",
   "name": "python",
   "nbconvert_exporter": "python",
   "pygments_lexer": "ipython3",
   "version": "3.5.1"
  }
 },
 "nbformat": 4,
 "nbformat_minor": 0
}
