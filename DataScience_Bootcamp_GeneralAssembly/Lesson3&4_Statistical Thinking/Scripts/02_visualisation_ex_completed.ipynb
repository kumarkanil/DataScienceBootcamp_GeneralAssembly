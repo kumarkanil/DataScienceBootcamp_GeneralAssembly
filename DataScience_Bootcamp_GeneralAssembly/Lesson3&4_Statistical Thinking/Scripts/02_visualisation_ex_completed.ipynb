{
 "cells": [
  {
   "cell_type": "code",
   "execution_count": 3,
   "metadata": {
    "collapsed": false
   },
   "outputs": [],
   "source": [
    "import os\n",
    "\n",
    "import numpy as np\n",
    "import pandas as pd\n",
    "import matplotlib.pyplot as plt\n",
    "import seaborn as sns\n",
    "import datetime as dt\n",
    "\n",
    "%matplotlib inline"
   ]
  },
  {
   "cell_type": "code",
   "execution_count": 6,
   "metadata": {
    "collapsed": false
   },
   "outputs": [],
   "source": [
    "os.chdir('D:\\\\Users\\\\SHILAU\\\\Desktop\\\\Data Science Bootcamp\\\\Data')"
   ]
  },
  {
   "cell_type": "code",
   "execution_count": 7,
   "metadata": {
    "collapsed": false
   },
   "outputs": [],
   "source": [
    "fhrs = pd.read_csv('..\\Data\\FHRS.csv')"
   ]
  },
  {
   "cell_type": "code",
   "execution_count": 8,
   "metadata": {
    "collapsed": false
   },
   "outputs": [],
   "source": [
    "# Change the data type of 'Rating Date' to `datetime`\n",
    "fhrs['Rating Date'] = pd.to_datetime(fhrs['Rating Date']).dt.year"
   ]
  },
  {
   "cell_type": "code",
   "execution_count": 9,
   "metadata": {
    "collapsed": true
   },
   "outputs": [],
   "source": [
    "# Filter `fhrs` to include only restaurants/cafés/canteens that are not exempt,\n",
    "# and are not awaiting a new rating\n",
    "fhrs = fhrs[(fhrs['Business Type Description'] == 'Restaurant/Cafe/Canteen') & (fhrs['New Rating Pending'] == False)]"
   ]
  },
  {
   "cell_type": "code",
   "execution_count": 10,
   "metadata": {
    "collapsed": true
   },
   "outputs": [],
   "source": [
    "fhrs = fhrs[(fhrs['Rating Value'] != 'Exempt')]"
   ]
  },
  {
   "cell_type": "code",
   "execution_count": 11,
   "metadata": {
    "collapsed": false
   },
   "outputs": [],
   "source": [
    "# Change the data type of 'Rating Value' to 'int'\n",
    "fhrs['Rating Value'] = fhrs['Rating Value'].astype('int')"
   ]
  },
  {
   "cell_type": "code",
   "execution_count": 12,
   "metadata": {
    "collapsed": false
   },
   "outputs": [
    {
     "data": {
      "text/plain": [
       "<matplotlib.axes._subplots.AxesSubplot at 0xb08bb00>"
      ]
     },
     "execution_count": 12,
     "metadata": {},
     "output_type": "execute_result"
    },
    {
     "data": {
      "image/png": "[encoded data removed]",
      "text/plain": [
       "<matplotlib.figure.Figure at 0xb08dc18>"
      ]
     },
     "metadata": {},
     "output_type": "display_data"
    }
   ],
   "source": [
    "# Produce a bar plot of 'Rating Value'\n",
    "fhrs['Rating Value'].value_counts().plot.bar()"
   ]
  },
  {
   "cell_type": "code",
   "execution_count": 13,
   "metadata": {
    "collapsed": false
   },
   "outputs": [],
   "source": [
    "# Create a new variable 'Rating Year' from 'Rating Date'\n",
    "fhrs['Rating Year'] = fhrs['Rating Date']"
   ]
  },
  {
   "cell_type": "code",
   "execution_count": 14,
   "metadata": {
    "collapsed": true
   },
   "outputs": [
    {
     "data": {
      "text/plain": [
       "Rating Year       \n",
       "2006         count      2.000000\n",
       "             mean       5.000000\n",
       "             std        0.000000\n",
       "             min        5.000000\n",
       "             25%        5.000000\n",
       "             50%        5.000000\n",
       "             75%        5.000000\n",
       "             max        5.000000\n",
       "2007         count      5.000000\n",
       "             mean       5.000000\n",
       "             std        0.000000\n",
       "             min        5.000000\n",
       "             25%        5.000000\n",
       "             50%        5.000000\n",
       "             75%        5.000000\n",
       "             max        5.000000\n",
       "2008         count     21.000000\n",
       "             mean       4.904762\n",
       "             std        0.300793\n",
       "             min        4.000000\n",
       "             25%        5.000000\n",
       "             50%        5.000000\n",
       "             75%        5.000000\n",
       "             max        5.000000\n",
       "2009         count     18.000000\n",
       "             mean       4.833333\n",
       "             std        0.514496\n",
       "             min        3.000000\n",
       "             25%        5.000000\n",
       "             50%        5.000000\n",
       "                         ...    \n",
       "2013         std        0.840504\n",
       "             min        3.000000\n",
       "             25%        3.000000\n",
       "             50%        4.000000\n",
       "             75%        5.000000\n",
       "             max        5.000000\n",
       "2014         count    187.000000\n",
       "             mean       3.818182\n",
       "             std        0.972244\n",
       "             min        1.000000\n",
       "             25%        3.000000\n",
       "             50%        4.000000\n",
       "             75%        5.000000\n",
       "             max        5.000000\n",
       "2015         count    265.000000\n",
       "             mean       3.252830\n",
       "             std        1.492482\n",
       "             min        0.000000\n",
       "             25%        2.000000\n",
       "             50%        3.000000\n",
       "             75%        5.000000\n",
       "             max        5.000000\n",
       "2016         count    109.000000\n",
       "             mean       2.880734\n",
       "             std        1.698173\n",
       "             min        0.000000\n",
       "             25%        1.000000\n",
       "             50%        3.000000\n",
       "             75%        5.000000\n",
       "             max        5.000000\n",
       "dtype: float64"
      ]
     },
     "execution_count": 14,
     "metadata": {},
     "output_type": "execute_result"
    }
   ],
   "source": [
    "# Produce a box plot of 'Rating Value' grouped by 'Rating Year'\n",
    "fhrs.groupby('Rating Year')['Rating Value'].describe()"
   ]
  },
  {
   "cell_type": "code",
   "execution_count": 92,
   "metadata": {
    "collapsed": false
   },
   "outputs": [
    {
     "data": {
      "text/plain": [
       "<matplotlib.axes._subplots.AxesSubplot at 0xc63fcc0>"
      ]
     },
     "execution_count": 92,
     "metadata": {},
     "output_type": "execute_result"
    },
    {
     "data": {
      "image/png": "[encoded data removed]",
      "text/plain": [
       "<matplotlib.figure.Figure at 0xdd03128>"
      ]
     },
     "metadata": {},
     "output_type": "display_data"
    }
   ],
   "source": [
    "fhrs.groupby('Rating Year')['Rating Value'].mean().plot.box()"
   ]
  },
  {
   "cell_type": "code",
   "execution_count": 15,
   "metadata": {
    "collapsed": false
   },
   "outputs": [
    {
     "data": {
      "text/plain": [
       "<matplotlib.axes._subplots.AxesSubplot at 0xb07c7b8>"
      ]
     },
     "execution_count": 15,
     "metadata": {},
     "output_type": "execute_result"
    },
    {
     "data": {
      "image/png": "[encoded data removed]",
      "text/plain": [
       "<matplotlib.figure.Figure at 0xaaca9b0>"
      ]
     },
     "metadata": {},
     "output_type": "display_data"
    }
   ],
   "source": [
    "fhrs.boxplot(column =['Rating Value'], by = 'Rating Year')"
   ]
  },
  {
   "cell_type": "code",
   "execution_count": 18,
   "metadata": {
    "collapsed": false
   },
   "outputs": [
    {
     "data": {
      "text/plain": [
       "Index(['Business Name', 'Address Line 1', 'Address Line 2', 'Address Line 3',\n",
       "       'Postcode', 'Business Type ID', 'Business Type Description',\n",
       "       'Food Hygiene Rating Scheme ID', 'Food Hygiene Rating Scheme Type',\n",
       "       'Hygiene Score', 'Structural Score', 'Confidence In Management Score',\n",
       "       'Rating Value', 'Rating Date', 'New Rating Pending',\n",
       "       'Local Authority Business ID', 'Local Authority Code',\n",
       "       'Local Authority Name', 'Local Authority Email Address',\n",
       "       'Local Authority Website', 'Ward Code', 'Ward Name', 'Easting',\n",
       "       'Northing', 'Longitude', 'Latitude', 'Spatial Accuracy',\n",
       "       'Last Uploaded', 'Location', 'Socrata ID', 'Rating Year'],\n",
       "      dtype='object')"
      ]
     },
     "execution_count": 18,
     "metadata": {},
     "output_type": "execute_result"
    }
   ],
   "source": [
    "fhrs.columns"
   ]
  },
  {
   "cell_type": "code",
   "execution_count": 20,
   "metadata": {
    "collapsed": false
   },
   "outputs": [
    {
     "data": {
      "text/plain": [
       "array([[<matplotlib.axes._subplots.AxesSubplot object at 0x000000000B203B38>,\n",
       "        <matplotlib.axes._subplots.AxesSubplot object at 0x000000000B3BF048>,\n",
       "        <matplotlib.axes._subplots.AxesSubplot object at 0x000000000B3EBD68>,\n",
       "        <matplotlib.axes._subplots.AxesSubplot object at 0x000000000B43E898>],\n",
       "       [<matplotlib.axes._subplots.AxesSubplot object at 0x000000000B460978>,\n",
       "        <matplotlib.axes._subplots.AxesSubplot object at 0x000000000B4C71D0>,\n",
       "        <matplotlib.axes._subplots.AxesSubplot object at 0x000000000B515128>,\n",
       "        <matplotlib.axes._subplots.AxesSubplot object at 0x000000000B54F780>],\n",
       "       [<matplotlib.axes._subplots.AxesSubplot object at 0x000000000B59A6D8>,\n",
       "        <matplotlib.axes._subplots.AxesSubplot object at 0x000000000B5DA518>,\n",
       "        <matplotlib.axes._subplots.AxesSubplot object at 0x000000000B61FA90>,\n",
       "        <matplotlib.axes._subplots.AxesSubplot object at 0x000000000B65BF98>],\n",
       "       [<matplotlib.axes._subplots.AxesSubplot object at 0x000000000B6AA940>,\n",
       "        <matplotlib.axes._subplots.AxesSubplot object at 0x000000000B6F7668>,\n",
       "        <matplotlib.axes._subplots.AxesSubplot object at 0x000000000B717BE0>,\n",
       "        <matplotlib.axes._subplots.AxesSubplot object at 0x000000000B766668>]], dtype=object)"
      ]
     },
     "execution_count": 20,
     "metadata": {},
     "output_type": "execute_result"
    },
    {
     "data": {
      "image/png": "[encoded data removed]",
      "text/plain": [
       "<matplotlib.figure.Figure at 0xb1f1438>"
      ]
     },
     "metadata": {},
     "output_type": "display_data"
    }
   ],
   "source": [
    "# Produce a scatter plot of 'Hygiene Score', 'Structural Score', 'Confidence In Management Score', and 'Rating Value'\n",
    "scores = ['Hygiene Score', 'Structural Score', 'Confidence In Management Score', 'Rating Value']\n",
    "pd.scatter_matrix(fhrs[scores])"
   ]
  },
  {
   "cell_type": "code",
   "execution_count": null,
   "metadata": {
    "collapsed": true
   },
   "outputs": [],
   "source": [
    "wbwdi.plot.scatter(x='INFMORT', y='LIFEXP')\n",
    "\n",
    "# Add transparency\n",
    "wbwdi.plot.scatter(x='INFMORT', y='LIFEXP', alpha=0.3)\n",
    "\n",
    "# Vary point colour by GNI per capita\n",
    "wbwdi.plot.scatter(x='INFMORT', y='LIFEXP', c='GNIPCAP', colormap='Blues')\n",
    "\n",
    "# Scatter matrix of three (numerical) variables\n",
    "pd.scatter_matrix(wbwdi[['INFMORT', 'LIFEXP', 'GNIPCAP']], figsize=(10, 8))"
   ]
  },
  {
   "cell_type": "code",
   "execution_count": null,
   "metadata": {
    "collapsed": true
   },
   "outputs": [],
   "source": [
    "\n",
    "# BONUS: Using Seaborn, produce a scatter plot of 'Hygiene Score' against\n",
    "#        'Rating Value' including a linear regression line.\n",
    "#        Add some jitter to prevent overplotting.\n",
    "\n"
   ]
  }
 ],
 "metadata": {
  "kernelspec": {
   "display_name": "Python 3",
   "language": "python",
   "name": "python3"
  },
  "language_info": {
   "codemirror_mode": {
    "name": "ipython",
    "version": 3
   },
   "file_extension": ".py",
   "mimetype": "text/x-python",
   "name": "python",
   "nbconvert_exporter": "python",
   "pygments_lexer": "ipython3",
   "version": "3.5.1"
  }
 },
 "nbformat": 4,
 "nbformat_minor": 0
}
