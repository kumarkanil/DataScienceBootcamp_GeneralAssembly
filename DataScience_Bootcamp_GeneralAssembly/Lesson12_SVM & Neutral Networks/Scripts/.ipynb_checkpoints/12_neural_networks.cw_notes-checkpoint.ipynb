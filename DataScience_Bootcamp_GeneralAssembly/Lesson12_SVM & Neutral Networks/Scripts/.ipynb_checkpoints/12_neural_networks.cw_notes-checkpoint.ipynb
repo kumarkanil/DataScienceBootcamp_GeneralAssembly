{
 "cells": [
  {
   "cell_type": "code",
   "execution_count": null,
   "metadata": {
    "collapsed": true
   },
   "outputs": [],
   "source": [
    "#!/usr/bin/env python\n",
    "'''\n",
    "GA Data Science Q2 2016\n",
    "\n",
    "Code walk-through 12: Neural networks\n",
    "'''\n",
    "\n",
    "# Install latest versions of Theano and Keras manually:\n",
    "# pip install --upgrade --no-deps git+git://github.com/Theano/Theano.git\n",
    "# pip install --upgrade --no-deps git+git://github.com/fchollet/keras.git\n",
    "\n",
    "try:\n",
    "    from urllib.parse import urljoin\n",
    "except ImportError:\n",
    "    from urlparse import urljoin\n",
    "\n",
    "import numpy as np\n",
    "import pandas as pd\n",
    "\n",
    "from sklearn import preprocessing, metrics\n",
    "\n",
    "from keras.models import Sequential\n",
    "from keras.layers import Dense\n",
    "\n",
    "import matplotlib.pyplot as plt"
   ]
  },
  {
   "cell_type": "code",
   "execution_count": null,
   "metadata": {
    "collapsed": true
   },
   "outputs": [],
   "source": [
    "# Select different Machine Learning Repository mirror if needed\n",
    "MLR_MIRROR = 'http://archive.ics.uci.edu/ml/machine-learning-databases/'\n",
    "#MLR_MIRROR = 'http://mlr.cs.umass.edu/ml/machine-learning-databases/'\n",
    "\n",
    "REDS_URL = urljoin(MLR_MIRROR, 'wine-quality/winequality-red.csv')\n",
    "\n",
    "WHITES_URL = urljoin(MLR_MIRROR, 'wine-quality/winequality-white.csv')\n",
    "\n",
    "# Read in the Wine Quality datasets\n",
    "reds = pd.read_csv(REDS_URL, sep=';')\n",
    "whites = pd.read_csv(WHITES_URL, sep=';')"
   ]
  },
  {
   "cell_type": "code",
   "execution_count": null,
   "metadata": {
    "collapsed": true
   },
   "outputs": [],
   "source": [
    "# Add a new indicator variable for the type of wine\n",
    "reds['red'] = 1\n",
    "whites['red'] = 0\n",
    "\n",
    "# Merge the two datasets\n",
    "wines = pd.concat([reds, whites], axis=0)\n",
    "\n",
    "# Prepare the data for use in scikit-learn\n",
    "X = wines.drop(['quality', 'red'], axis=1).get_values()\n",
    "y = wines.red.astype('int').get_values()"
   ]
  },
  {
   "cell_type": "code",
   "execution_count": null,
   "metadata": {
    "collapsed": true
   },
   "outputs": [],
   "source": [
    "# Scale X\n",
    "scaler = preprocessing.StandardScaler()\n",
    "scaler.fit(X)\n",
    "X_scaled = scaler.transform(X)"
   ]
  },
  {
   "cell_type": "code",
   "execution_count": null,
   "metadata": {
    "collapsed": true
   },
   "outputs": [],
   "source": [
    "# Initialise neural network\n",
    "nn = Sequential()\n",
    "\n",
    "# Input layer feeding into hidden layer with 5 neurons (sigmoid activation)\n",
    "nn.add(Dense(input_dim=X.shape[1], output_dim=5, activation='sigmoid'))\n",
    "\n",
    "# Hidden layer feeding into a single output neuron (sigmoid activation)\n",
    "nn.add(Dense(output_dim=1, activation='sigmoid'))\n",
    "\n",
    "# Use logistic loss\n",
    "nn.compile(loss='binary_crossentropy', optimizer='adam')"
   ]
  },
  {
   "cell_type": "code",
   "execution_count": null,
   "metadata": {
    "collapsed": true
   },
   "outputs": [],
   "source": [
    "# Inspect weights before training\n",
    "nn.get_weights()"
   ]
  },
  {
   "cell_type": "code",
   "execution_count": null,
   "metadata": {
    "collapsed": true
   },
   "outputs": [],
   "source": [
    "# Train the networks\n",
    "nn.fit(X_scaled, y, batch_size=1, nb_epoch=10, validation_split=0.2)\n",
    "\n",
    "# Inspect weights after training\n",
    "nn.get_weights()"
   ]
  },
  {
   "cell_type": "code",
   "execution_count": null,
   "metadata": {
    "collapsed": true
   },
   "outputs": [],
   "source": [
    "# Use network to predict probabilities\n",
    "pred_probs = nn.predict(X_scaled)[:,0]"
   ]
  },
  {
   "cell_type": "code",
   "execution_count": null,
   "metadata": {
    "collapsed": true
   },
   "outputs": [],
   "source": [
    "# Compute AUC\n",
    "metrics.roc_auc_score(y, pred_probs)"
   ]
  }
 ],
 "metadata": {
  "kernelspec": {
   "display_name": "Python 3",
   "language": "python",
   "name": "python3"
  },
  "language_info": {
   "codemirror_mode": {
    "name": "ipython",
    "version": 3
   },
   "file_extension": ".py",
   "mimetype": "text/x-python",
   "name": "python",
   "nbconvert_exporter": "python",
   "pygments_lexer": "ipython3",
   "version": "3.5.1"
  }
 },
 "nbformat": 4,
 "nbformat_minor": 0
}
