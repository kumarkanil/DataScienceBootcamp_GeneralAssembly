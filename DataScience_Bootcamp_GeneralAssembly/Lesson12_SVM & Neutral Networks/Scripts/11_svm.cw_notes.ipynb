{
 "cells": [
  {
   "cell_type": "code",
   "execution_count": 2,
   "metadata": {
    "collapsed": false
   },
   "outputs": [
    {
     "ename": "ImportError",
     "evalue": "No module named 'numpy'",
     "output_type": "error",
     "traceback": [
      "\u001b[1;31m---------------------------------------------------------------------------\u001b[0m",
      "\u001b[1;31mImportError\u001b[0m                               Traceback (most recent call last)",
      "\u001b[1;32m<ipython-input-2-5288f6890f8f>\u001b[0m in \u001b[0;36m<module>\u001b[1;34m()\u001b[0m\n\u001b[0;32m     12\u001b[0m     \u001b[1;32mfrom\u001b[0m \u001b[0murlparse\u001b[0m \u001b[1;32mimport\u001b[0m \u001b[0murljoin\u001b[0m\u001b[1;33m\u001b[0m\u001b[0m\n\u001b[0;32m     13\u001b[0m \u001b[1;33m\u001b[0m\u001b[0m\n\u001b[1;32m---> 14\u001b[1;33m \u001b[1;32mimport\u001b[0m \u001b[0mnumpy\u001b[0m \u001b[1;32mas\u001b[0m \u001b[0mnp\u001b[0m\u001b[1;33m\u001b[0m\u001b[0m\n\u001b[0m\u001b[0;32m     15\u001b[0m \u001b[1;32mimport\u001b[0m \u001b[0mpandas\u001b[0m \u001b[1;32mas\u001b[0m \u001b[0mpd\u001b[0m\u001b[1;33m\u001b[0m\u001b[0m\n\u001b[0;32m     16\u001b[0m \u001b[1;33m\u001b[0m\u001b[0m\n",
      "\u001b[1;31mImportError\u001b[0m: No module named 'numpy'"
     ]
    }
   ],
   "source": [
    "#!/usr/bin/env python\n",
    "\n",
    "'''\n",
    "GA Data Science Q2 2016\n",
    "\n",
    "Code walk-through 11: Support vector machines\n",
    "'''\n",
    "\n",
    "try:\n",
    "    from urllib.parse import urljoin\n",
    "except ImportError:\n",
    "    from urlparse import urljoin\n",
    "\n",
    "import numpy as np\n",
    "import pandas as pd\n",
    "\n",
    "from sklearn import preprocessing, svm, cross_validation as cv, grid_search\n",
    "\n",
    "from sklearn.pipeline import Pipeline"
   ]
  },
  {
   "cell_type": "code",
   "execution_count": 2,
   "metadata": {
    "collapsed": true
   },
   "outputs": [],
   "source": [
    "# Select different Machine Learning Repository mirror if needed\n",
    "#MLR_MIRROR = 'http://archive.ics.uci.edu/ml/machine-learning-databases/'\n",
    "MLR_MIRROR = 'http://mlr.cs.umass.edu/ml/machine-learning-databases/'\n",
    "\n",
    "REDS_URL = urljoin(MLR_MIRROR, 'wine-quality/winequality-red.csv')\n",
    "\n",
    "WHITES_URL = urljoin(MLR_MIRROR, 'wine-quality/winequality-white.csv')"
   ]
  },
  {
   "cell_type": "code",
   "execution_count": 3,
   "metadata": {
    "collapsed": true
   },
   "outputs": [],
   "source": [
    "# Read in the Wine Quality datasets\n",
    "reds = pd.read_csv(REDS_URL, sep=';')\n",
    "whites = pd.read_csv(WHITES_URL, sep=';')"
   ]
  },
  {
   "cell_type": "code",
   "execution_count": 4,
   "metadata": {
    "collapsed": true
   },
   "outputs": [],
   "source": [
    "# Add a new indicator variable for the type of wine\n",
    "reds['red'] = 1\n",
    "whites['red'] = 0\n",
    "\n",
    "# Merge the two datasets\n",
    "wines = pd.concat([reds, whites], axis=0)\n",
    "\n",
    "# Prepare the data for use in scikit-learn\n",
    "X = wines.drop(['quality', 'red'], axis=1)\n",
    "y = wines.red.astype('int')\n",
    "\n",
    "# Create a pipeline that scales the data and trains a support vector classifier\n",
    "ssvc = Pipeline([\n",
    "    ('scale', preprocessing.StandardScaler()),\n",
    "    ('svc', svm.SVC())\n",
    "])"
   ]
  },
  {
   "cell_type": "code",
   "execution_count": 5,
   "metadata": {
    "collapsed": false
   },
   "outputs": [
    {
     "data": {
      "text/plain": [
       "Pipeline(steps=[('scale', StandardScaler(copy=True, with_mean=True, with_std=True)), ('svc', SVC(C=1.0, cache_size=200, class_weight=None, coef0=0.0,\n",
       "  decision_function_shape=None, degree=3, gamma='auto', kernel='linear',\n",
       "  max_iter=-1, probability=False, random_state=None, shrinking=True,\n",
       "  tol=0.001, verbose=False))])"
      ]
     },
     "execution_count": 5,
     "metadata": {},
     "output_type": "execute_result"
    }
   ],
   "source": [
    "# Train a support vector classifier with linear (= no) kernel\n",
    "# if set kernel to anything else but linear, it would be a non-linear classifier\n",
    "ssvc.set_params(\n",
    "    svc__kernel='linear'\n",
    ")\n",
    "ssvc.fit(X, y)"
   ]
  },
  {
   "cell_type": "code",
   "execution_count": 6,
   "metadata": {
    "collapsed": false
   },
   "outputs": [
    {
     "data": {
      "text/plain": [
       "array([[-0.24150874,  0.4545384 , -0.18612511, -1.80159802,  0.2984833 ,\n",
       "         0.50382491, -1.272486  ,  2.51064324, -0.13961128,  0.21443596,\n",
       "         0.9648553 ]])"
      ]
     },
     "execution_count": 6,
     "metadata": {},
     "output_type": "execute_result"
    }
   ],
   "source": [
    "# Coefficients defining the separating hyperplane (NOT regression coefficients)\n",
    "ssvc.named_steps['svc'].coef_"
   ]
  },
  {
   "cell_type": "code",
   "execution_count": 7,
   "metadata": {
    "collapsed": false
   },
   "outputs": [
    {
     "data": {
      "text/plain": [
       "array([79, 79])"
      ]
     },
     "execution_count": 7,
     "metadata": {},
     "output_type": "execute_result"
    }
   ],
   "source": [
    "# Support vectors, number of support vectors 79 red wines that touch margin on the red side and 79 on white site\n",
    "ssvc.named_steps['svc'].n_support_"
   ]
  },
  {
   "cell_type": "code",
   "execution_count": 8,
   "metadata": {
    "collapsed": false
   },
   "outputs": [
    {
     "data": {
      "text/plain": [
       "array([1807, 1899, 1901, 2083, 2208, 2282, 2429, 2433, 2454, 2505, 2535,\n",
       "       2547, 2590, 2592, 2595, 2627, 2635, 2636, 2639, 2641, 2652, 2663,\n",
       "       2713, 2751, 2788, 2838, 2854, 2871, 2984, 3014, 3095, 3160, 3163,\n",
       "       3176, 3247, 3265, 3287, 3307, 3382, 3424, 3442, 3452, 3455, 3497,\n",
       "       3550, 3560, 3561, 3569, 3625, 3629, 3662, 3674, 3753, 3785, 3856,\n",
       "       3858, 3869, 3873, 3914, 3918, 4074, 4188, 4267, 4329, 4330, 4380,\n",
       "       4785, 5127, 5170, 5261, 5448, 5478, 5500, 6072, 6325, 6328, 6391,\n",
       "       6414, 6438,   20,   49,   53,   59,   90,  124,  138,  139,  146,\n",
       "        154,  155,  156,  157,  163,  164,  188,  189,  190,  192,  195,\n",
       "        207,  208,  215,  219,  230,  255,  311,  313,  332,  354,  463,\n",
       "        480,  494,  523,  524,  561,  591,  649,  679,  772,  800,  836,\n",
       "        837,  861,  978, 1017, 1018, 1044, 1079, 1081, 1087, 1112, 1114,\n",
       "       1125, 1131, 1157, 1228, 1233, 1235, 1244, 1286, 1322, 1355, 1356,\n",
       "       1375, 1389, 1397, 1419, 1431, 1456, 1475, 1490, 1493, 1496, 1509,\n",
       "       1513, 1559, 1561, 1574])"
      ]
     },
     "execution_count": 8,
     "metadata": {},
     "output_type": "execute_result"
    }
   ],
   "source": [
    "# if you want to know which points are the support vectors you can see here:\n",
    "ssvc.named_steps['svc'].support_"
   ]
  },
  {
   "cell_type": "code",
   "execution_count": 9,
   "metadata": {
    "collapsed": false
   },
   "outputs": [
    {
     "data": {
      "text/plain": [
       "array([[-0.32037042,  1.39915368, -0.19705367, ...,  0.63131247,\n",
       "         1.40281954, -0.2446721 ],\n",
       "       [-0.86035472,  0.42724077, -2.19283252, ...,  0.32031851,\n",
       "         0.9323718 ,  0.25842195],\n",
       "       [-0.86035472,  0.42724077, -2.19283252, ...,  0.32031851,\n",
       "         0.9323718 ,  0.25842195],\n",
       "       ..., \n",
       "       [ 0.45103572,  1.58138735, -0.40351355, ..., -0.05287424,\n",
       "        -0.07573051, -0.49621913],\n",
       "       [ 0.45103572,  1.58138735, -0.40351355, ..., -0.05287424,\n",
       "        -0.07573051, -0.49621913],\n",
       "       [-1.2460578 , -0.1802048 ,  3.17512437, ...,  1.06670401,\n",
       "        -0.34455779,  0.00687492]])"
      ]
     },
     "execution_count": 9,
     "metadata": {},
     "output_type": "execute_result"
    }
   ],
   "source": [
    "ssvc.named_steps['svc'].support_vectors_"
   ]
  },
  {
   "cell_type": "code",
   "execution_count": 10,
   "metadata": {
    "collapsed": true
   },
   "outputs": [],
   "source": [
    "# Define stratified folds for cross-validation\n",
    "kf = cv.StratifiedKFold(y, n_folds=10, shuffle=True)"
   ]
  },
  {
   "cell_type": "code",
   "execution_count": 11,
   "metadata": {
    "collapsed": false
   },
   "outputs": [
    {
     "data": {
      "text/plain": [
       "0.99622304893906488"
      ]
     },
     "execution_count": 11,
     "metadata": {},
     "output_type": "execute_result"
    }
   ],
   "source": [
    "# Compute average AUC across folds\n",
    "aucs = cv.cross_val_score(ssvc, X, y, scoring='roc_auc', cv=kf)\n",
    "np.mean(aucs)"
   ]
  },
  {
   "cell_type": "code",
   "execution_count": 12,
   "metadata": {
    "collapsed": false
   },
   "outputs": [
    {
     "data": {
      "text/plain": [
       "Pipeline(steps=[('scale', StandardScaler(copy=True, with_mean=True, with_std=True)), ('svc', SVC(C=1.0, cache_size=200, class_weight=None, coef0=0.0,\n",
       "  decision_function_shape=None, degree=3, gamma='auto', kernel='rbf',\n",
       "  max_iter=-1, probability=False, random_state=None, shrinking=True,\n",
       "  tol=0.001, verbose=False))])"
      ]
     },
     "execution_count": 12,
     "metadata": {},
     "output_type": "execute_result"
    }
   ],
   "source": [
    "# Train using the Radial Basis Function (RBF) kernel\n",
    "ssvc.set_params(\n",
    "    svc__kernel='rbf'\n",
    ")\n",
    "ssvc.fit(X, y)"
   ]
  },
  {
   "cell_type": "code",
   "execution_count": 13,
   "metadata": {
    "collapsed": false
   },
   "outputs": [
    {
     "data": {
      "text/plain": [
       "0.99759293766219681"
      ]
     },
     "execution_count": 13,
     "metadata": {},
     "output_type": "execute_result"
    }
   ],
   "source": [
    "# Compute average AUC across folds\n",
    "aucs = cv.cross_val_score(ssvc, X, y, scoring='roc_auc', cv=kf)\n",
    "np.mean(aucs)"
   ]
  },
  {
   "cell_type": "code",
   "execution_count": 14,
   "metadata": {
    "collapsed": false
   },
   "outputs": [
    {
     "data": {
      "text/plain": [
       "GridSearchCV(cv=sklearn.cross_validation.StratifiedKFold(labels=[1 1 ..., 0 0], n_folds=10, shuffle=True, random_state=None),\n",
       "       error_score='raise',\n",
       "       estimator=Pipeline(steps=[('scale', StandardScaler(copy=True, with_mean=True, with_std=True)), ('svc', SVC(C=1.0, cache_size=200, class_weight=None, coef0=0.0,\n",
       "  decision_function_shape=None, degree=3, gamma='auto', kernel='rbf',\n",
       "  max_iter=-1, probability=False, random_state=None, shrinking=True,\n",
       "  tol=0.001, verbose=False))]),\n",
       "       fit_params={}, iid=True, n_jobs=1,\n",
       "       param_grid={'svc__kernel': ['linear', 'rbf'], 'svc__C': [1e-15, 0.0001, 0.001, 0.01, 0.1, 1, 10]},\n",
       "       pre_dispatch='2*n_jobs', refit=True, scoring='roc_auc', verbose=0)"
      ]
     },
     "execution_count": 14,
     "metadata": {},
     "output_type": "execute_result"
    }
   ],
   "source": [
    "# Determine ‘optimal’ kernel and value of C by cross-validation using AUC\n",
    "# C - how much are you wiling to sacrifice to get a larger margin, \n",
    "# scoring\n",
    "gs = grid_search.GridSearchCV(\n",
    "    estimator=ssvc,\n",
    "    param_grid={\n",
    "        'svc__C': [1e-15, 0.0001, 0.001, 0.01, 0.1, 1, 10],\n",
    "        'svc__kernel': ['linear', 'rbf']\n",
    "    },\n",
    "    scoring='roc_auc',\n",
    "    cv=kf\n",
    ")\n",
    "gs.fit(X, y)"
   ]
  },
  {
   "cell_type": "code",
   "execution_count": 15,
   "metadata": {
    "collapsed": false
   },
   "outputs": [
    {
     "data": {
      "text/plain": [
       "0.9989919129346142"
      ]
     },
     "execution_count": 15,
     "metadata": {},
     "output_type": "execute_result"
    }
   ],
   "source": [
    "gs.best_score_"
   ]
  },
  {
   "cell_type": "code",
   "execution_count": 16,
   "metadata": {
    "collapsed": false
   },
   "outputs": [
    {
     "data": {
      "text/plain": [
       "Pipeline(steps=[('scale', StandardScaler(copy=True, with_mean=True, with_std=True)), ('svc', SVC(C=10, cache_size=200, class_weight=None, coef0=0.0,\n",
       "  decision_function_shape=None, degree=3, gamma='auto', kernel='rbf',\n",
       "  max_iter=-1, probability=False, random_state=None, shrinking=True,\n",
       "  tol=0.001, verbose=False))])"
      ]
     },
     "execution_count": 16,
     "metadata": {},
     "output_type": "execute_result"
    }
   ],
   "source": [
    "gs.best_estimator_"
   ]
  },
  {
   "cell_type": "code",
   "execution_count": 17,
   "metadata": {
    "collapsed": false
   },
   "outputs": [
    {
     "data": {
      "text/plain": [
       "[mean: 0.50000, std: 0.00000, params: {'svc__kernel': 'linear', 'svc__C': 1e-15},\n",
       " mean: 0.50000, std: 0.00000, params: {'svc__kernel': 'rbf', 'svc__C': 1e-15},\n",
       " mean: 0.99402, std: 0.00327, params: {'svc__kernel': 'linear', 'svc__C': 0.0001},\n",
       " mean: 0.99587, std: 0.00286, params: {'svc__kernel': 'rbf', 'svc__C': 0.0001},\n",
       " mean: 0.99483, std: 0.00289, params: {'svc__kernel': 'linear', 'svc__C': 0.001},\n",
       " mean: 0.99586, std: 0.00286, params: {'svc__kernel': 'rbf', 'svc__C': 0.001},\n",
       " mean: 0.99553, std: 0.00256, params: {'svc__kernel': 'linear', 'svc__C': 0.01},\n",
       " mean: 0.99623, std: 0.00283, params: {'svc__kernel': 'rbf', 'svc__C': 0.01},\n",
       " mean: 0.99601, std: 0.00246, params: {'svc__kernel': 'linear', 'svc__C': 0.1},\n",
       " mean: 0.99697, std: 0.00265, params: {'svc__kernel': 'rbf', 'svc__C': 0.1},\n",
       " mean: 0.99622, std: 0.00251, params: {'svc__kernel': 'linear', 'svc__C': 1},\n",
       " mean: 0.99759, std: 0.00249, params: {'svc__kernel': 'rbf', 'svc__C': 1},\n",
       " mean: 0.99629, std: 0.00250, params: {'svc__kernel': 'linear', 'svc__C': 10},\n",
       " mean: 0.99899, std: 0.00102, params: {'svc__kernel': 'rbf', 'svc__C': 10}]"
      ]
     },
     "execution_count": 17,
     "metadata": {},
     "output_type": "execute_result"
    }
   ],
   "source": [
    "#when set error to basically zer, we are not penalising error\n",
    "#strong penalising is best (10) \n",
    "gs.grid_scores_"
   ]
  },
  {
   "cell_type": "code",
   "execution_count": null,
   "metadata": {
    "collapsed": true
   },
   "outputs": [],
   "source": [
    "#can also do regression with svm"
   ]
  }
 ],
 "metadata": {
  "kernelspec": {
   "display_name": "Python 3",
   "language": "python",
   "name": "python3"
  },
  "language_info": {
   "codemirror_mode": {
    "name": "ipython",
    "version": 3
   },
   "file_extension": ".py",
   "mimetype": "text/x-python",
   "name": "python",
   "nbconvert_exporter": "python",
   "pygments_lexer": "ipython3",
   "version": "3.5.1"
  }
 },
 "nbformat": 4,
 "nbformat_minor": 0
}
